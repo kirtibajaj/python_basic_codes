{
 "cells": [
  {
   "cell_type": "markdown",
   "metadata": {},
   "source": [
    "<h1 style='color:green'> Basic Datatypes in python</h1>\n"
   ]
  },
  {
   "cell_type": "markdown",
   "metadata": {},
   "source": [
    "<img src='download.png'/>"
   ]
  },
  {
   "cell_type": "raw",
   "metadata": {},
   "source": [
    "1.Numbers\n",
    "2.Strings\n",
    "3.Lists\n",
    "4.Tuples\n",
    "5.Dictionary\n",
    "6.sets"
   ]
  },
  {
   "cell_type": "markdown",
   "metadata": {},
   "source": [
    "# NUMBERS"
   ]
  },
  {
   "cell_type": "code",
   "execution_count": 6,
   "metadata": {},
   "outputs": [
    {
     "name": "stdout",
     "output_type": "stream",
     "text": [
      "Type of x: <class 'int'>\n",
      "Type of y: <class 'float'>\n",
      "Type of z: <class 'complex'>\n",
      "Value of x: 5\n",
      "Value of y: 6.25\n",
      "Value of z: (3.14+6.5j)\n"
     ]
    }
   ],
   "source": [
    "#Numbers\n",
    "#integers\n",
    "x=5 #x is a container which will contain a integer number 5\n",
    "#Lets print type of x\n",
    "print(\"Type of x:\",type(x))\n",
    "\n",
    "#Floats\n",
    "y=6.25 # now y will a float type container which holds value 6.25\n",
    "#Lets print type of y\n",
    "print(\"Type of y:\",type(y))\n",
    "\n",
    "#Complex\n",
    "z=3.14+6.5j\n",
    "#Lets print type of z\n",
    "print(\"Type of z:\",type(z))\n",
    "\n",
    "#Now print all values\n",
    "\n",
    "print(\"Value of x:\",x)\n",
    "print(\"Value of y:\",y)\n",
    "print(\"Value of z:\",z)"
   ]
  },
  {
   "cell_type": "markdown",
   "metadata": {},
   "source": [
    "# STRINGS\n"
   ]
  },
  {
   "cell_type": "raw",
   "metadata": {
    "collapsed": true
   },
   "source": [
    "#Strings\n",
    "UTF-8 in python (unicode)\n",
    "group or collection of characters\n",
    "backslash -escape character to hide the characteristics of that particular character"
   ]
  },
  {
   "cell_type": "code",
   "execution_count": 1,
   "metadata": {},
   "outputs": [
    {
     "name": "stdout",
     "output_type": "stream",
     "text": [
      "<class 'str'>\n",
      "hi i am string\n",
      "Hi I am also String\n",
      "Hi I am a paragraph.\n",
      "                            you see have multiple lines.\n",
      "                            \n",
      "    so you can write your paragraph.\n",
      "    As you wish in python.\n",
      "    \n",
      "     by python string\n",
      "\n"
     ]
    }
   ],
   "source": [
    "#Strings-> Strings is a group or collection of characters\n",
    "#By default python supports utf-8 character set\n",
    "s='hi i am string' #String can be defined in single quotes\n",
    "s1=\"Hi I am also String\"  #or it can be define in double quote\n",
    "s3=\"\"\"Hi I am a paragraph.\n",
    "                            you see have multiple lines.\n",
    "                            \n",
    "    so you can write your paragraph.\n",
    "    As you wish in python.\n",
    "    \n",
    "     by python string\n",
    "\"\"\"\n",
    "print(type(s))\n",
    "print(s)\n",
    "print(s1)\n",
    "print(s3)\n"
   ]
  },
  {
   "cell_type": "code",
   "execution_count": 2,
   "metadata": {},
   "outputs": [
    {
     "name": "stdout",
     "output_type": "stream",
     "text": [
      "He said, \"She is Beautiful\"\n",
      "He said, \"She is Beautiful\"\n"
     ]
    }
   ],
   "source": [
    "#In valid syntax (due to double quote in the sentence)\n",
    "#newstring = \"He said, \"She is Beautiful\"\"\n",
    "#print(newstring)\n",
    "\n",
    "#To correct this we have to use escape characters\n",
    "newstring = \"He said, \\\"She is Beautiful\\\"\"\n",
    "print(newstring)\n",
    "\n",
    "#or we can have different quotes\n",
    "newstring1 = 'He said, \"She is Beautiful\"'\n",
    "print(newstring1)\n"
   ]
  },
  {
   "cell_type": "code",
   "execution_count": 7,
   "metadata": {},
   "outputs": [
    {
     "name": "stdout",
     "output_type": "stream",
     "text": [
      "Total characters in string s is: 11\n",
      "w\n",
      "w\n"
     ]
    }
   ],
   "source": [
    "s=\"Hello world\"\n",
    "print(\"Total characters in string s is:\",len(s))\n",
    "one_char=s[6]\n",
    "print(one_char)\n",
    "same_char=s[-5]\n",
    "print(same_char)"
   ]
  },
  {
   "cell_type": "code",
   "execution_count": 4,
   "metadata": {},
   "outputs": [
    {
     "name": "stdout",
     "output_type": "stream",
     "text": [
      "Hello worl\n",
      "world\n",
      "dlrow olleH\n",
      "world\n"
     ]
    }
   ],
   "source": [
    "#Slicing s[start:end:step]\n",
    "s=\"Hello world\"\n",
    "c=s[6:11]\n",
    "c1=s[:-1]\n",
    "c2=s[::-1]\n",
    "c3=s[-5:]\n",
    "print(c1)\n",
    "print(c)\n",
    "print(c2)\n",
    "print(c3)"
   ]
  },
  {
   "cell_type": "code",
   "execution_count": 1,
   "metadata": {},
   "outputs": [
    {
     "name": "stdout",
     "output_type": "stream",
     "text": [
      "02468\n",
      "9876543210\n"
     ]
    }
   ],
   "source": [
    "s = '0123456789'\n",
    "k = s[::2]\n",
    "print(k)\n",
    "l = s[::-1]\n",
    "print(l)"
   ]
  },
  {
   "cell_type": "code",
   "execution_count": 1,
   "metadata": {},
   "outputs": [
    {
     "name": "stdout",
     "output_type": "stream",
     "text": [
      "<class 'str'>\n"
     ]
    }
   ],
   "source": [
    "s=\"Hello world\"\n",
    "print(type(s))"
   ]
  },
  {
   "cell_type": "code",
   "execution_count": 2,
   "metadata": {
    "scrolled": true
   },
   "outputs": [
    {
     "name": "stdout",
     "output_type": "stream",
     "text": [
      "The Zen of Python, by Tim Peters\n",
      "\n",
      "Beautiful is better than ugly.\n",
      "Explicit is better than implicit.\n",
      "Simple is better than complex.\n",
      "Complex is better than complicated.\n",
      "Flat is better than nested.\n",
      "Sparse is better than dense.\n",
      "Readability counts.\n",
      "Special cases aren't special enough to break the rules.\n",
      "Although practicality beats purity.\n",
      "Errors should never pass silently.\n",
      "Unless explicitly silenced.\n",
      "In the face of ambiguity, refuse the temptation to guess.\n",
      "There should be one-- and preferably only one --obvious way to do it.\n",
      "Although that way may not be obvious at first unless you're Dutch.\n",
      "Now is better than never.\n",
      "Although never is often better than *right* now.\n",
      "If the implementation is hard to explain, it's a bad idea.\n",
      "If the implementation is easy to explain, it may be a good idea.\n",
      "Namespaces are one honking great idea -- let's do more of those!\n"
     ]
    }
   ],
   "source": [
    "import this"
   ]
  },
  {
   "cell_type": "code",
   "execution_count": 16,
   "metadata": {},
   "outputs": [
    {
     "name": "stdout",
     "output_type": "stream",
     "text": [
      "['__add__', '__class__', '__contains__', '__delattr__', '__dir__', '__doc__', '__eq__', '__format__', '__ge__', '__getattribute__', '__getitem__', '__getnewargs__', '__gt__', '__hash__', '__init__', '__init_subclass__', '__iter__', '__le__', '__len__', '__lt__', '__mod__', '__mul__', '__ne__', '__new__', '__reduce__', '__reduce_ex__', '__repr__', '__rmod__', '__rmul__', '__setattr__', '__sizeof__', '__str__', '__subclasshook__', 'capitalize', 'casefold', 'center', 'count', 'encode', 'endswith', 'expandtabs', 'find', 'format', 'format_map', 'index', 'isalnum', 'isalpha', 'isdecimal', 'isdigit', 'isidentifier', 'islower', 'isnumeric', 'isprintable', 'isspace', 'istitle', 'isupper', 'join', 'ljust', 'lower', 'lstrip', 'maketrans', 'partition', 'replace', 'rfind', 'rindex', 'rjust', 'rpartition', 'rsplit', 'rstrip', 'split', 'splitlines', 'startswith', 'strip', 'swapcase', 'title', 'translate', 'upper', 'zfill']\n"
     ]
    }
   ],
   "source": [
    "s=\"Hello world\"\n",
    "print(dir(s))"
   ]
  },
  {
   "cell_type": "code",
   "execution_count": 9,
   "metadata": {},
   "outputs": [
    {
     "name": "stdout",
     "output_type": "stream",
     "text": [
      "S.center(width[, fillchar]) -> str\n",
      "\n",
      "Return S centered in a string of length width. Padding is\n",
      "done using the specified fill character (default is a space)\n"
     ]
    }
   ],
   "source": [
    "# . is an acess specifier\n",
    "x=s.center.__doc__\n",
    "print(x)"
   ]
  },
  {
   "cell_type": "code",
   "execution_count": 17,
   "metadata": {},
   "outputs": [
    {
     "name": "stdout",
     "output_type": "stream",
     "text": [
      "-----------------------------------------------------------------------------------------------------------------------------------------------------------------------------------------------------------------------------------------------------------------------------Hello world------------------------------------------------------------------------------------------------------------------------------------------------------------------------------------------------------------------------------------------------------------------------------\n"
     ]
    }
   ],
   "source": [
    "y=s.center(550,\"-\")\n",
    "print(y)"
   ]
  },
  {
   "cell_type": "code",
   "execution_count": 19,
   "metadata": {},
   "outputs": [
    {
     "name": "stdout",
     "output_type": "stream",
     "text": [
      "Upper: HELLO WORLD\n",
      "Lower: hello world\n",
      "Swapcase hEllO wOrld\n"
     ]
    }
   ],
   "source": [
    "s=\"HeLLo WoRLD\"\n",
    "u=s.upper()\n",
    "l=s.lower()\n",
    "sc=s.swapcase()\n",
    "print(\"Upper:\",u)\n",
    "print(\"Lower:\",l)\n",
    "print('Swapcase',sc)"
   ]
  },
  {
   "cell_type": "code",
   "execution_count": 40,
   "metadata": {},
   "outputs": [
    {
     "name": "stdout",
     "output_type": "stream",
     "text": [
      "String is '         Hello World        '\n",
      "after strip String is 'Hello World'\n",
      "after left strip String is 'Hello World        '\n",
      "after right strip String is '         Hello World'\n"
     ]
    }
   ],
   "source": [
    "s=\"         Hello World        \"\n",
    "k=s.strip() #both leading and trailing spaces removed\n",
    "l=s.lstrip() #leading spaces removed\n",
    "r=s.rstrip()\n",
    "print(\"String is '{}'\".format(s))\n",
    "print(\"after strip String is '{}'\".format(k))\n",
    "print(\"after left strip String is '{}'\".format(l))\n",
    "print(\"after right strip String is '{}'\".format(r))"
   ]
  },
  {
   "cell_type": "code",
   "execution_count": 39,
   "metadata": {},
   "outputs": [
    {
     "name": "stdout",
     "output_type": "stream",
     "text": [
      "6\n",
      "-1\n",
      "Every DOG is not a real DOG\n",
      "('Every ', 'dog', ' is not a real dog')\n",
      "['Every ', ' is not a real ', '']\n",
      "2\n"
     ]
    }
   ],
   "source": [
    "s=\"Every dog is not a real dog\"\n",
    "x=s.find(\"dog\") #return pos(index) where pattern searches first\n",
    "print(x)\n",
    "y=s.find(\"cat\") #return -1 if word not found\n",
    "z=s.replace(\"dog\",\"DOG\") #replace old pattern with new pattern\n",
    "print(y)\n",
    "print(z)\n",
    "sm = s.partition('dog')\n",
    "ms = s.split('dog')\n",
    "print(sm)\n",
    "print(ms)\n",
    "c = s.count('dog')\n",
    "print(c)"
   ]
  },
  {
   "cell_type": "code",
   "execution_count": 40,
   "metadata": {},
   "outputs": [
    {
     "name": "stdout",
     "output_type": "stream",
     "text": [
      "All cat's are not cat but all dogs behaving like cat's\n",
      "All dog's are not dog but all dogs behaving like dog's\n"
     ]
    }
   ],
   "source": [
    "s = \"All cat's are not cat but all dogs behaving like cat's\"\n",
    "x = s.replace(\"cat\",\"dog\")\n",
    "print(s)\n",
    "print(x)"
   ]
  },
  {
   "cell_type": "code",
   "execution_count": 45,
   "metadata": {},
   "outputs": [
    {
     "name": "stdout",
     "output_type": "stream",
     "text": [
      "['H', 'llo world w', 'lcom', ' to python']\n",
      "('Hello world welcome to python', '', '')\n",
      "Hello-world-welcome-to-python\n"
     ]
    }
   ],
   "source": [
    "s=\"Hello world welcome to python\"\n",
    "x=s.split(\"e\")# by default split string from spaces\n",
    "y=s.partition(\"worldhvh\")#will partition string from world\n",
    "print(x)\n",
    "print(y)\n",
    "z=s.split()\n",
    "abc='-'.join(z)#join is used to convert list into string\n",
    "print(abc)"
   ]
  },
  {
   "cell_type": "code",
   "execution_count": 44,
   "metadata": {},
   "outputs": [
    {
     "name": "stdout",
     "output_type": "stream",
     "text": [
      "a^--^b^--^c^--^d\n"
     ]
    }
   ],
   "source": [
    "s=['a','b','c','d']\n",
    "k='^--^'.join(s)\n",
    "print(k)"
   ]
  },
  {
   "cell_type": "markdown",
   "metadata": {},
   "source": [
    "<h1 style='color:green'> LIST DATATYPE IN PYTHON"
   ]
  },
  {
   "cell_type": "markdown",
   "metadata": {},
   "source": [
    "List is a collection of homogeneous and heterogeneous dataelements. All arrays are list but vice versa is not true."
   ]
  },
  {
   "cell_type": "code",
   "execution_count": 53,
   "metadata": {},
   "outputs": [
    {
     "name": "stdout",
     "output_type": "stream",
     "text": [
      "[34, 4, 542, 43, 2324, 63435, 2345, 4322334]\n",
      "['hello', 'world', 'welcome', 'to', 'Python', 'List']\n"
     ]
    }
   ],
   "source": [
    "mylist=[34,4,542,43,2324,63435,2345,4322334] #List initialization\n",
    "#This is homogeneous list can be called an integer array\n",
    "mylist1=[\"hello\",\"world\",\"welcome\",\"to\",\"Python\",\"List\",]\n",
    "print(mylist)\n",
    "print(mylist1)"
   ]
  },
  {
   "cell_type": "code",
   "execution_count": 51,
   "metadata": {},
   "outputs": [
    {
     "name": "stdout",
     "output_type": "stream",
     "text": [
      "63435\n",
      "6\n",
      "['welcome', 'to', 'Python', 'List']\n"
     ]
    }
   ],
   "source": [
    "s=mylist[5]\n",
    "print(s)\n",
    "print(len(mylist1))\n",
    "print(mylist1[2:6])"
   ]
  },
  {
   "cell_type": "code",
   "execution_count": 52,
   "metadata": {
    "collapsed": true
   },
   "outputs": [],
   "source": [
    "list?\n"
   ]
  },
  {
   "cell_type": "code",
   "execution_count": 55,
   "metadata": {},
   "outputs": [
    {
     "name": "stdout",
     "output_type": "stream",
     "text": [
      "['__add__', '__class__', '__contains__', '__delattr__', '__delitem__', '__dir__', '__doc__', '__eq__', '__format__', '__ge__', '__getattribute__', '__getitem__', '__gt__', '__hash__', '__iadd__', '__imul__', '__init__', '__init_subclass__', '__iter__', '__le__', '__len__', '__lt__', '__mul__', '__ne__', '__new__', '__reduce__', '__reduce_ex__', '__repr__', '__reversed__', '__rmul__', '__setattr__', '__setitem__', '__sizeof__', '__str__', '__subclasshook__', 'append', 'clear', 'copy', 'count', 'extend', 'index', 'insert', 'pop', 'remove', 'reverse', 'sort']\n"
     ]
    }
   ],
   "source": [
    "print(dir(mylist))\n",
    "\n",
    "\n"
   ]
  },
  {
   "cell_type": "markdown",
   "metadata": {},
   "source": [
    "#Built-in-functions to add items iin list\n",
    "1. mylist.append(item)\n",
    "2. mylist.insert(index,item)\n",
    "3. mylis.extend(seq)"
   ]
  },
  {
   "cell_type": "code",
   "execution_count": 60,
   "metadata": {},
   "outputs": [
    {
     "name": "stdout",
     "output_type": "stream",
     "text": [
      "['hello', 1, 2, 3, 14]\n",
      "['hello', 1, 2, 3, 14, 5]\n",
      "['hello', 1, 2, 3, 14, 5, 'world', [1, 3, 3, 5, 6, 4]]\n"
     ]
    }
   ],
   "source": [
    "#myist.append(item)->it will add item into the list mylist at the end\n",
    "mylist1=[\"hello\",1,2,3,14]\n",
    "print(mylist1)\n",
    "mylist1.append(5)\n",
    "print(mylist1)\n",
    "mylist1.append(\"world\")\n",
    "mylist1.append([1,3,3,5,6,4])\n",
    "print(mylist1)"
   ]
  },
  {
   "cell_type": "code",
   "execution_count": 59,
   "metadata": {},
   "outputs": [
    {
     "name": "stdout",
     "output_type": "stream",
     "text": [
      "['python', 1, 5, 3, 'bye', 324, 3.14, 'hello', 'hi']\n"
     ]
    }
   ],
   "source": [
    "#mylist.insert(index,item)\n",
    "mylist1=[1,5,3,324,'hello','hi']\n",
    "mylist1.insert(3,'bye')\n",
    "mylist1.insert(0,'python')\n",
    "mylist1.insert(-2,3.14)\n",
    "print(mylist1)"
   ]
  },
  {
   "cell_type": "code",
   "execution_count": 33,
   "metadata": {},
   "outputs": [
    {
     "name": "stdout",
     "output_type": "stream",
     "text": [
      "[1, 'hello', 5, 3, 'p', 'y', 't', 'h', 'o', 'n']\n",
      "3\n"
     ]
    }
   ],
   "source": [
    "#extend\n",
    "l=[1,'hello',5,3]\n",
    "l.extend('python')\n",
    "print(l)\n",
    "uy=l.index(3)\n",
    "print(uy)"
   ]
  },
  {
   "cell_type": "markdown",
   "metadata": {},
   "source": [
    "Built in list functions to remve a list for item for list mylist\n",
    "\n",
    "1.mylist.pop():- will last element from list (opposite of append) and return deleted items\n",
    "\n",
    "2.mylist.pop(index):-will delete items for mylist which position at index no index\n",
    "\n",
    "3.mylist.remove(item):- will search occurence of item and delete first occurence item from the list"
   ]
  },
  {
   "cell_type": "code",
   "execution_count": 34,
   "metadata": {},
   "outputs": [
    {
     "name": "stdout",
     "output_type": "stream",
     "text": [
      "[1, 2, 3, 4, 5, 6, 7, 8, 9, 10]\n",
      "Item1  10\n",
      "Item2  9\n",
      "Item3  1\n",
      "Item4  6\n",
      "[2, 3, 4, 5, 7, 8]\n"
     ]
    }
   ],
   "source": [
    "l = [ 1,2,3,4,5,6,7,8,9,10]\n",
    "print(l)\n",
    "item1 = l.pop()\n",
    "item2 = l.pop()\n",
    "item3 = l.pop(0)\n",
    "item4 = l.pop(4)\n",
    "print(\"Item1 \",item1)\n",
    "print(\"Item2 \",item2)\n",
    "print(\"Item3 \",item3)\n",
    "print(\"Item4 \",item4)\n",
    "print(l)"
   ]
  },
  {
   "cell_type": "code",
   "execution_count": 35,
   "metadata": {},
   "outputs": [
    {
     "name": "stdout",
     "output_type": "stream",
     "text": [
      "['hello', 1, 2, 3, 75, 'java']\n",
      "['hello', 1, 2, 3, 'java']\n"
     ]
    }
   ],
   "source": [
    "#remove\n",
    "l = [ \"hello\",1,2,3,\"python\",75,\"java\"]\n",
    "l.remove(\"python\")\n",
    "print(l)\n",
    "l.remove(75)\n",
    "print(l)"
   ]
  },
  {
   "cell_type": "code",
   "execution_count": 36,
   "metadata": {},
   "outputs": [
    {
     "name": "stdout",
     "output_type": "stream",
     "text": [
      "one  3\n",
      "two  3\n",
      "three  3\n",
      "[1, 2, 3, 1, 2, 3]\n",
      "one  2\n",
      "two  2\n",
      "three  2\n"
     ]
    }
   ],
   "source": [
    "l = [ 1,2,3,1,2,3,1,2,3]\n",
    "#mylist.count(item) -> return a num which show repeatation \n",
    "#of item in list\n",
    "one = l.count(1)\n",
    "two = l.count(2)\n",
    "three = l.count(3)\n",
    "print(\"one \",one)\n",
    "print(\"two \",two)\n",
    "print(\"three \",three)\n",
    "l.remove(1)\n",
    "l.remove(2)\n",
    "l.remove(3)\n",
    "one = l.count(1)\n",
    "two = l.count(2)\n",
    "three = l.count(3)\n",
    "print(l)\n",
    "print(\"one \",one)\n",
    "print(\"two \",two)\n",
    "print(\"three \",three)"
   ]
  },
  {
   "cell_type": "markdown",
   "metadata": {},
   "source": [
    "other function of list sort, reverse, index, clear, copy"
   ]
  },
  {
   "cell_type": "code",
   "execution_count": 37,
   "metadata": {},
   "outputs": [
    {
     "name": "stdout",
     "output_type": "stream",
     "text": [
      "[1, 5, 23, 34, 46, 53, 231, 432]\n",
      "[432, 231, 53, 46, 34, 23, 5, 1]\n",
      "['abc', 'good to go', 'hello', \"let's see\", 'what happens']\n",
      "['what happens', \"let's see\", 'hello', 'good to go', 'abc']\n"
     ]
    }
   ],
   "source": [
    "l = [ 23,34,231,1,5,46,53,432]\n",
    "l.sort()\n",
    "print(l)\n",
    "l.sort(reverse=True)\n",
    "print(l)\n",
    "l = [ \"hello\",\"abc\",\"good to go\",\"let's see\",\"what happens\"]\n",
    "l.sort()\n",
    "print(l)\n",
    "l.sort(reverse=True)\n",
    "print(l)"
   ]
  },
  {
   "cell_type": "code",
   "execution_count": 15,
   "metadata": {},
   "outputs": [
    {
     "name": "stdout",
     "output_type": "stream",
     "text": [
      "['bye bye', 'bye', 'hi', 'hello']\n",
      "['bye', 'bye bye', 'hello', 'hi']\n",
      "[]\n"
     ]
    }
   ],
   "source": [
    "l = [ \"hello\",\"hi\",\"bye\",\"bye bye\"]\n",
    "l.reverse()\n",
    "print(l)\n",
    "l.sort()\n",
    "print(l)\n",
    "l.clear()\n",
    "print(l)"
   ]
  },
  {
   "cell_type": "code",
   "execution_count": 16,
   "metadata": {},
   "outputs": [
    {
     "name": "stdout",
     "output_type": "stream",
     "text": [
      "3\n",
      "2\n"
     ]
    }
   ],
   "source": [
    "l = [ 1,2,3,\"hello\",\"hi\",\"bye\",1,2,3,\"Hello\",\"hi\",\"bye\"]\n",
    "x  = l.index(\"hello\")\n",
    "y = l.index(3)\n",
    "print(x)\n",
    "print(y)"
   ]
  },
  {
   "cell_type": "code",
   "execution_count": 17,
   "metadata": {},
   "outputs": [
    {
     "name": "stdout",
     "output_type": "stream",
     "text": [
      "[1, 2, 3, 4]\n",
      "Hello World\n",
      "1 2 3 4\n",
      "H e l l o   W o r l d\n",
      "[1, 2, 'python', 4]\n"
     ]
    }
   ],
   "source": [
    "l = [1,2,3,4]\n",
    "s = \"Hello World\"\n",
    "print(l)\n",
    "print(s)\n",
    "print(*l)\n",
    "print(*s)\n",
    "l[2] = \"python\"\n",
    "print(l)"
   ]
  },
  {
   "cell_type": "code",
   "execution_count": 2,
   "metadata": {},
   "outputs": [
    {
     "name": "stdout",
     "output_type": "stream",
     "text": [
      "hello\n"
     ]
    }
   ],
   "source": [
    "mylist = [\n",
    "    [1,2,45,34,234],\n",
    "    [123,34,6,67,45],\n",
    "    [23,4,7,78,[23,45,'hello',4]],\n",
    "]\n",
    "x = mylist[2][4][2]\n",
    "print(x)"
   ]
  },
  {
   "cell_type": "code",
   "execution_count": 3,
   "metadata": {},
   "outputs": [
    {
     "name": "stdout",
     "output_type": "stream",
     "text": [
      "['a[2][0]', 'a[2][1]', 'a[2][2]']\n",
      "a[2][2]\n"
     ]
    }
   ],
   "source": [
    "#Example of 2 d list\n",
    "mylist = [\n",
    "    ['a[0][0]','a[0][1]','a[0][2]'],\n",
    "    ['a[1][0]','a[1][1]','a[1][2]'],\n",
    "    [ 'a[2][0]','a[2][1]','a[2][2]'],\n",
    "]\n",
    "    \n",
    "print(mylist[2])\n",
    "print(mylist[2][2])"
   ]
  },
  {
   "cell_type": "markdown",
   "metadata": {},
   "source": [
    "\n",
    "# TUPLE"
   ]
  },
  {
   "cell_type": "markdown",
   "metadata": {},
   "source": [
    "Tuple is immmutable data type"
   ]
  },
  {
   "cell_type": "code",
   "execution_count": 18,
   "metadata": {},
   "outputs": [
    {
     "name": "stdout",
     "output_type": "stream",
     "text": [
      "<class 'tuple'>\n",
      "['__add__', '__class__', '__contains__', '__delattr__', '__dir__', '__doc__', '__eq__', '__format__', '__ge__', '__getattribute__', '__getitem__', '__getnewargs__', '__gt__', '__hash__', '__init__', '__init_subclass__', '__iter__', '__le__', '__len__', '__lt__', '__mul__', '__ne__', '__new__', '__reduce__', '__reduce_ex__', '__repr__', '__rmul__', '__setattr__', '__sizeof__', '__str__', '__subclasshook__', 'count', 'index']\n"
     ]
    }
   ],
   "source": [
    "k = ( 1,2,3,'hello','hi')\n",
    "print(type(k))\n",
    "print(dir(k))"
   ]
  },
  {
   "cell_type": "code",
   "execution_count": 4,
   "metadata": {},
   "outputs": [
    {
     "name": "stdout",
     "output_type": "stream",
     "text": [
      "('one', 2, 'three', 2, [1, 2, 3, 4], 5, 3, 2, 324)\n",
      "['__add__', '__class__', '__contains__', '__delattr__', '__dir__', '__doc__', '__eq__', '__format__', '__ge__', '__getattribute__', '__getitem__', '__getnewargs__', '__gt__', '__hash__', '__init__', '__init_subclass__', '__iter__', '__le__', '__len__', '__lt__', '__mul__', '__ne__', '__new__', '__reduce__', '__reduce_ex__', '__repr__', '__rmul__', '__setattr__', '__sizeof__', '__str__', '__subclasshook__', 'count', 'index']\n",
      "(324, 2, 3, 5, [1, 2, 3, 4], 2, 'three', 2, 'one')\n",
      "2 is repeted 3 times in tuple \n",
      "Index of 3 is  2\n",
      "4\n"
     ]
    }
   ],
   "source": [
    "mytuple = ('one',2,'three',2,[1,2,3,4],5,3,2,324,)\n",
    "print(mytuple)\n",
    "print(dir(mytuple))\n",
    "print(mytuple[-1::-1])\n",
    "print(\"2 is repeted {} times in tuple \".format(mytuple.count(2)))\n",
    "print(\"Index of 3 is \",mytuple.index('three'))\n",
    "print(mytuple[4][3])"
   ]
  },
  {
   "cell_type": "markdown",
   "metadata": {},
   "source": [
    "\n",
    "#size and  length \n",
    "numbers "
   ]
  },
  {
   "cell_type": "code",
   "execution_count": 19,
   "metadata": {},
   "outputs": [
    {
     "name": "stdout",
     "output_type": "stream",
     "text": [
      "['__abs__', '__add__', '__and__', '__bool__', '__ceil__', '__class__', '__delattr__', '__dir__', '__divmod__', '__doc__', '__eq__', '__float__', '__floor__', '__floordiv__', '__format__', '__ge__', '__getattribute__', '__getnewargs__', '__gt__', '__hash__', '__index__', '__init__', '__init_subclass__', '__int__', '__invert__', '__le__', '__lshift__', '__lt__', '__mod__', '__mul__', '__ne__', '__neg__', '__new__', '__or__', '__pos__', '__pow__', '__radd__', '__rand__', '__rdivmod__', '__reduce__', '__reduce_ex__', '__repr__', '__rfloordiv__', '__rlshift__', '__rmod__', '__rmul__', '__ror__', '__round__', '__rpow__', '__rrshift__', '__rshift__', '__rsub__', '__rtruediv__', '__rxor__', '__setattr__', '__sizeof__', '__str__', '__sub__', '__subclasshook__', '__truediv__', '__trunc__', '__xor__', 'bit_length', 'conjugate', 'denominator', 'from_bytes', 'imag', 'numerator', 'real', 'to_bytes']\n",
      "28\n",
      "11\n"
     ]
    }
   ],
   "source": [
    "x = 1234\n",
    "print(dir(x))\n",
    "print(x.__sizeof__())\n",
    "print(x.bit_length())"
   ]
  },
  {
   "cell_type": "markdown",
   "metadata": {},
   "source": [
    "# DICTIONARY\n"
   ]
  },
  {
   "cell_type": "code",
   "execution_count": 20,
   "metadata": {},
   "outputs": [
    {
     "name": "stdout",
     "output_type": "stream",
     "text": [
      "<class 'dict'>\n",
      "{'key': 'value', 'name': 'python', 'year': 1991, 'frame works': ['Django', 'Flask', 'Web2py']}\n",
      "['__class__', '__contains__', '__delattr__', '__delitem__', '__dir__', '__doc__', '__eq__', '__format__', '__ge__', '__getattribute__', '__getitem__', '__gt__', '__hash__', '__init__', '__init_subclass__', '__iter__', '__le__', '__len__', '__lt__', '__ne__', '__new__', '__reduce__', '__reduce_ex__', '__repr__', '__setattr__', '__setitem__', '__sizeof__', '__str__', '__subclasshook__', 'clear', 'copy', 'fromkeys', 'get', 'items', 'keys', 'pop', 'popitem', 'setdefault', 'update', 'values']\n"
     ]
    }
   ],
   "source": [
    "#dictionary is a collection of keys and values\n",
    "mydict = {\n",
    "    'key':'value',\n",
    "    'name':'python',\n",
    "    'year':1991,\n",
    "    'frame works':['Django','Flask','Web2py']\n",
    "}\n",
    "print(type(mydict))\n",
    "print(mydict)\n",
    "print(dir(mydict))"
   ]
  },
  {
   "cell_type": "code",
   "execution_count": 21,
   "metadata": {},
   "outputs": [
    {
     "name": "stdout",
     "output_type": "stream",
     "text": [
      "[1, 2, 3, 4]\n",
      "['hello', 1, 2, 3, 4, 'hi', 'bye']\n",
      "['hello', 1, 2, 3, 4, 'hi', 'bye']\n",
      "[1, 2, 3, 4]\n"
     ]
    }
   ],
   "source": [
    "l = [ 1, 2, 3, 4]\n",
    "k = l\n",
    "j = l.copy()\n",
    "print(l)\n",
    "l.insert(0,'hello')\n",
    "l.append('hi')\n",
    "l.append('bye')\n",
    "print(l)\n",
    "print(k)\n",
    "print(j)"
   ]
  },
  {
   "cell_type": "code",
   "execution_count": 5,
   "metadata": {},
   "outputs": [
    {
     "name": "stdout",
     "output_type": "stream",
     "text": [
      "name scope build_year Frame Works Father Fields\n",
      "['__class__', '__contains__', '__delattr__', '__delitem__', '__dir__', '__doc__', '__eq__', '__format__', '__ge__', '__getattribute__', '__getitem__', '__gt__', '__hash__', '__init__', '__init_subclass__', '__iter__', '__le__', '__len__', '__lt__', '__ne__', '__new__', '__reduce__', '__reduce_ex__', '__repr__', '__setattr__', '__setitem__', '__sizeof__', '__str__', '__subclasshook__', 'clear', 'copy', 'fromkeys', 'get', 'items', 'keys', 'pop', 'popitem', 'setdefault', 'update', 'values']\n",
      "python\n",
      "dict_items([('name', 'python'), ('scope', 'World Wide'), ('build_year', 1994), ('Frame Works', ['Django', 'Flask', 'Web2py', 'Pyramid']), ('Father', 'Guido Van Rossum'), ('Fields', ['Scripting', 'Automation', 'Cloud', 'AI', 'ML', 'Data Science', 'Web Desgining', 'Software Development'])])\n",
      "dict_keys(['name', 'scope', 'build_year', 'Frame Works', 'Father', 'Fields'])\n",
      "dict_values(['python', 'World Wide', 1994, ['Django', 'Flask', 'Web2py', 'Pyramid'], 'Guido Van Rossum', ['Scripting', 'Automation', 'Cloud', 'AI', 'ML', 'Data Science', 'Web Desgining', 'Software Development']])\n",
      "D.update([E, ]**F) -> None.  Update D from dict/iterable E and F.\n",
      "If E is present and has a .keys() method, then does:  for k in E: D[k] = E[k]\n",
      "If E is present and lacks a .keys() method, then does:  for k, v in E: D[k] = v\n",
      "In either case, this is followed by: for k in F:  D[k] = F[k]\n"
     ]
    }
   ],
   "source": [
    "mydict = {\n",
    "    'name' : 'python',\n",
    "    'scope' : 'World Wide',\n",
    "    'build_year' : 1994,\n",
    "    'Frame Works' : ['Django','Flask','Web2py','Pyramid'],\n",
    "    'Father' : 'Guido Van Rossum',\n",
    "    'Fields' : ['Scripting','Automation','Cloud','AI','ML','Data Science','Web Desgining','Software Development'],\n",
    "    }\n",
    "print(*mydict)\n",
    "print(dir(mydict))\n",
    "print(mydict.get('name'))\n",
    "print(mydict.items())\n",
    "print(mydict.keys())\n",
    "print(mydict.values())\n",
    "print(mydict.update.__doc__)"
   ]
  },
  {
   "cell_type": "code",
   "execution_count": 22,
   "metadata": {},
   "outputs": [
    {
     "name": "stdout",
     "output_type": "stream",
     "text": [
      "['__class__', '__contains__', '__delattr__', '__delitem__', '__dir__', '__doc__', '__eq__', '__format__', '__ge__', '__getattribute__', '__getitem__', '__gt__', '__hash__', '__init__', '__init_subclass__', '__iter__', '__le__', '__len__', '__lt__', '__ne__', '__new__', '__reduce__', '__reduce_ex__', '__repr__', '__setattr__', '__setitem__', '__sizeof__', '__str__', '__subclasshook__', 'clear', 'copy', 'fromkeys', 'get', 'items', 'keys', 'pop', 'popitem', 'setdefault', 'update', 'values']\n",
      "{'name': 'hari', 'age': 21, 'language': 'hindi', 'skills': ['linux', 'python', 'r', 'sql'], 'country': 'india'}\n"
     ]
    }
   ],
   "source": [
    "info = { \n",
    "        'name':'hari',\n",
    "        'age' : 21,\n",
    "        'language': 'hindi',\n",
    "        'skills' : ['linux','python','r','sql'],\n",
    "        'country' : 'india'\n",
    "        }\n",
    "print(dir(info))\n",
    "print(info)"
   ]
  },
  {
   "cell_type": "code",
   "execution_count": 6,
   "metadata": {},
   "outputs": [
    {
     "name": "stdout",
     "output_type": "stream",
     "text": [
      "Here Are your keys to select \n",
      "name scope build_year frame_works father fields\n",
      "Enter a key : name\n",
      "Your key is : name\n",
      "Python Programming Language\n",
      "Enter your Value : python\n",
      "Enter New Key : hey\n",
      "Python Programming Language sucessfully added\n",
      "{'name': 'Python Programming Language', 'scope': 'World Wide', 'build_year': 1994, 'frame_works': ['Django', 'Flask', 'Web2py', 'Pyramid'], 'father': 'Guido Van Rossum', 'fields': ['Scripting', 'Automation', 'Cloud', 'AI', 'ML', 'Data Science', 'Web Desgining', 'Software Development'], 'hey': 'python'}\n"
     ]
    }
   ],
   "source": [
    "mydict = {\n",
    "    'name' : 'python',\n",
    "    'scope' : 'World Wide',\n",
    "    'build_year' : 1994,\n",
    "    'frame_works' : ['Django','Flask','Web2py','Pyramid'],\n",
    "    'father' : 'Guido Van Rossum',\n",
    "    'fields' : ['Scripting','Automation','Cloud','AI','ML','Data Science','Web Desgining','Software Development'],\n",
    "    }\n",
    "print(\"Here Are your keys to select \")\n",
    "print(*mydict.keys())\n",
    "mydict['name'] = 'Python Programming Language'\n",
    "key = input(\"Enter a key : \").strip().lower()\n",
    "print(\"Your key is : {}\".format(key))\n",
    "value = mydict[key]\n",
    "print(value)\n",
    "#key = input(\"Enter a key\")\n",
    "#value = input(\"Enter a value for your key \")\n",
    "#mydict[key] = value\n",
    "mydict[input(\"Enter New Key : \")] = input(\"Enter your Value : \")\n",
    "print(mydict[key],\"sucessfully added\")\n",
    "print(mydict)"
   ]
  },
  {
   "cell_type": "code",
   "execution_count": 23,
   "metadata": {},
   "outputs": [
    {
     "name": "stdout",
     "output_type": "stream",
     "text": [
      "Name =  hari\n",
      "skils =  linux python r sql\n"
     ]
    }
   ],
   "source": [
    "print(\"Name = \",info['name'])\n",
    "print(\"skils = \",*info['skills'])"
   ]
  },
  {
   "cell_type": "code",
   "execution_count": 24,
   "metadata": {},
   "outputs": [
    {
     "name": "stdout",
     "output_type": "stream",
     "text": [
      "hari\n",
      "python\n"
     ]
    }
   ],
   "source": [
    "print(info['name'])\n",
    "info['name'] = 'python'\n",
    "print(info['name'])"
   ]
  },
  {
   "cell_type": "code",
   "execution_count": 25,
   "metadata": {},
   "outputs": [
    {
     "name": "stdout",
     "output_type": "stream",
     "text": [
      "{'name': 'python', 'age': 21, 'language': 'hindi', 'skills': ['linux', 'python', 'r', 'sql'], 'country': 'india', 'address': 'jaipur'}\n"
     ]
    }
   ],
   "source": [
    "info['address'] = 'jaipur'\n",
    "print(info)"
   ]
  },
  {
   "cell_type": "code",
   "execution_count": 26,
   "metadata": {},
   "outputs": [
    {
     "name": "stdout",
     "output_type": "stream",
     "text": [
      "name age language skills country address\n"
     ]
    }
   ],
   "source": [
    "print(*info)"
   ]
  },
  {
   "cell_type": "code",
   "execution_count": 27,
   "metadata": {},
   "outputs": [
    {
     "name": "stdout",
     "output_type": "stream",
     "text": [
      "['__class__', '__contains__', '__delattr__', '__delitem__', '__dir__', '__doc__', '__eq__', '__format__', '__ge__', '__getattribute__', '__getitem__', '__gt__', '__hash__', '__init__', '__init_subclass__', '__iter__', '__le__', '__len__', '__lt__', '__ne__', '__new__', '__reduce__', '__reduce_ex__', '__repr__', '__setattr__', '__setitem__', '__sizeof__', '__str__', '__subclasshook__', 'clear', 'copy', 'fromkeys', 'get', 'items', 'keys', 'pop', 'popitem', 'setdefault', 'update', 'values']\n"
     ]
    }
   ],
   "source": [
    "print(dir(info))"
   ]
  },
  {
   "cell_type": "code",
   "execution_count": 28,
   "metadata": {},
   "outputs": [
    {
     "name": "stdout",
     "output_type": "stream",
     "text": [
      "python\n"
     ]
    }
   ],
   "source": [
    "x = info.get('name')\n",
    "print(x)"
   ]
  },
  {
   "cell_type": "code",
   "execution_count": 29,
   "metadata": {},
   "outputs": [
    {
     "name": "stdout",
     "output_type": "stream",
     "text": [
      "None\n"
     ]
    }
   ],
   "source": [
    "y = info.get('shorcut')\n",
    "print(y)"
   ]
  },
  {
   "cell_type": "code",
   "execution_count": 30,
   "metadata": {},
   "outputs": [
    {
     "name": "stdout",
     "output_type": "stream",
     "text": [
      "dict_keys(['name', 'age', 'language', 'skills', 'country', 'address'])\n"
     ]
    }
   ],
   "source": [
    "print(info.keys())"
   ]
  },
  {
   "cell_type": "code",
   "execution_count": 31,
   "metadata": {},
   "outputs": [
    {
     "name": "stdout",
     "output_type": "stream",
     "text": [
      "dict_values(['python', 21, 'hindi', ['linux', 'python', 'r', 'sql'], 'india', 'jaipur'])\n"
     ]
    }
   ],
   "source": [
    "print(info.values())"
   ]
  },
  {
   "cell_type": "code",
   "execution_count": 32,
   "metadata": {},
   "outputs": [
    {
     "name": "stdout",
     "output_type": "stream",
     "text": [
      "dict_items([('name', 'python'), ('age', 21), ('language', 'hindi'), ('skills', ['linux', 'python', 'r', 'sql']), ('country', 'india'), ('address', 'jaipur')])\n"
     ]
    }
   ],
   "source": [
    "print(info.items())"
   ]
  },
  {
   "cell_type": "code",
   "execution_count": null,
   "metadata": {
    "collapsed": true
   },
   "outputs": [],
   "source": [
    "l=[1,2,3,4,5,6,7,8,9,10,11,12,13,14,15,16,17,18,19,20]\n",
    "print(*l[3::3])\n",
    "print(*l[])\n",
    "print(*l[-5:-15:-2])"
   ]
  },
  {
   "cell_type": "code",
   "execution_count": 7,
   "metadata": {},
   "outputs": [
    {
     "name": "stdout",
     "output_type": "stream",
     "text": [
      "Enter key1 : 1\n",
      "Enter value1 : one\n",
      "Enter key2 : 2\n",
      "Enter value2 : two\n",
      "{'1': 'one', '2': 'two'}\n"
     ]
    }
   ],
   "source": [
    "outer_list = []\n",
    "inner_list = []\n",
    "\n",
    "key1 = input(\"Enter key1 : \")\n",
    "value1 = input(\"Enter value1 : \")\n",
    "inner_list.append(key1)\n",
    "inner_list.append(value1)\n",
    "outer_list.append(inner_list)\n",
    "d = dict(outer_list)\n",
    "inner_list.clear()\n",
    "key2 = input(\"Enter key2 : \")\n",
    "value2 = input(\"Enter value2 : \")\n",
    "inner_list.append(key2)\n",
    "inner_list.append(value2)\n",
    "outer_list.append(inner_list)\n",
    "d.update(outer_list)\n",
    "print(d)"
   ]
  },
  {
   "cell_type": "code",
   "execution_count": 8,
   "metadata": {},
   "outputs": [
    {
     "name": "stdout",
     "output_type": "stream",
     "text": [
      "Enter key1 : 1\n",
      "Enter value 1 : one\n",
      "Enter key2 : 2\n",
      "Enter value 2 : two\n",
      "{'1': 'one', '2': 'two'}\n"
     ]
    }
   ],
   "source": [
    "d = {\n",
    "    input(\"Enter key1 : \") : input(\"Enter value 1 : \"),\n",
    "    input(\"Enter key2 : \") : input(\"Enter value 2 : \"),\n",
    "}\n",
    "print(d)"
   ]
  },
  {
   "cell_type": "markdown",
   "metadata": {},
   "source": [
    "# SETS\n"
   ]
  },
  {
   "cell_type": "markdown",
   "metadata": {},
   "source": [
    "set is unordered (We cant have indexing in set)\n",
    "Repeatation not allowed"
   ]
  },
  {
   "cell_type": "code",
   "execution_count": 43,
   "metadata": {},
   "outputs": [
    {
     "name": "stdout",
     "output_type": "stream",
     "text": [
      "<class 'set'>\n",
      "<class 'set'>\n",
      "['__and__', '__class__', '__contains__', '__delattr__', '__dir__', '__doc__', '__eq__', '__format__', '__ge__', '__getattribute__', '__gt__', '__hash__', '__iand__', '__init__', '__init_subclass__', '__ior__', '__isub__', '__iter__', '__ixor__', '__le__', '__len__', '__lt__', '__ne__', '__new__', '__or__', '__rand__', '__reduce__', '__reduce_ex__', '__repr__', '__ror__', '__rsub__', '__rxor__', '__setattr__', '__sizeof__', '__str__', '__sub__', '__subclasshook__', '__xor__', 'add', 'clear', 'copy', 'difference', 'difference_update', 'discard', 'intersection', 'intersection_update', 'isdisjoint', 'issubset', 'issuperset', 'pop', 'remove', 'symmetric_difference', 'symmetric_difference_update', 'union', 'update']\n"
     ]
    }
   ],
   "source": [
    "a={\"hello\",11,5,234,3.14,11,12,13,14}\n",
    "b={'bye',2,24,34,56,'hi'}\n",
    "print(type(a))\n",
    "print(type(b))\n",
    "print(dir(a))"
   ]
  },
  {
   "cell_type": "code",
   "execution_count": 45,
   "metadata": {},
   "outputs": [
    {
     "name": "stdout",
     "output_type": "stream",
     "text": [
      "A intersection B: {11, 12, 13, 14}\n",
      "A union B: {'hello', 2, 3.14, 34, 5, 234, 11, 12, 13, 14, 'hi', 'bye', 24, 56}\n",
      " difference A wrt B: {'hello', 234, 3.14, 5}\n"
     ]
    }
   ],
   "source": [
    "a={\"hello\",11,5,234,3.14,11,12,13,14}\n",
    "b={'bye',2,24,34,56,'hi',11,12,13,14}\n",
    "print(\"A intersection B:\",a.intersection(b))\n",
    "print(\"A union B:\",a.union(b))\n",
    "print(\" difference A wrt B:\",a.difference(b))\n",
    "\n"
   ]
  },
  {
   "cell_type": "code",
   "execution_count": 55,
   "metadata": {},
   "outputs": [
    {
     "name": "stdout",
     "output_type": "stream",
     "text": [
      "first {'palak', 'pooja', 'shahid'}\n",
      "second {'aashish', 'apoorva', 'kirti'}\n",
      "Third {'keshav', 'palak', 'aashish', 'pooja', 'shahid', 'devansh', 'vaibhav', 'jayati', 'apoorva', 'kirti'}\n",
      "total 10\n"
     ]
    }
   ],
   "source": [
    "h={\"keshav\",\"palak\",'pooja','shahid'}\n",
    "e={'apoorva','jayati','kirti','aashish'}\n",
    "he={'devansh','vaibhav','keshav','jayati'}\n",
    "print(\"first\",h.difference(he))\n",
    "print(\"second\",e.difference(he))\n",
    "total=h.union(e.union(he))\n",
    "print(\"Third\",h.union(e.union(he)))\n",
    "print(\"total\",len(total))"
   ]
  },
  {
   "cell_type": "markdown",
   "metadata": {},
   "source": [
    "\n",
    "# type conversion\n"
   ]
  },
  {
   "cell_type": "code",
   "execution_count": 60,
   "metadata": {
    "collapsed": true
   },
   "outputs": [],
   "source": [
    "# Integer function\n",
    "# only string that contain a number can be converted into integer\n",
    "#complex cant be changed iinto integer\n",
    "#decimal number in string can be converted into integer\n",
    "#in python number cant start from zero it will be an error"
   ]
  },
  {
   "cell_type": "code",
   "execution_count": 59,
   "metadata": {
    "collapsed": true
   },
   "outputs": [],
   "source": [
    "int?"
   ]
  },
  {
   "cell_type": "code",
   "execution_count": 61,
   "metadata": {
    "collapsed": true
   },
   "outputs": [],
   "source": [
    "bin?"
   ]
  },
  {
   "cell_type": "code",
   "execution_count": 15,
   "metadata": {},
   "outputs": [
    {
     "data": {
      "text/plain": [
       "'0b11110001001000000110'"
      ]
     },
     "execution_count": 15,
     "metadata": {},
     "output_type": "execute_result"
    }
   ],
   "source": [
    "bin(987654)"
   ]
  },
  {
   "cell_type": "code",
   "execution_count": 9,
   "metadata": {
    "collapsed": true
   },
   "outputs": [],
   "source": [
    "oct?"
   ]
  },
  {
   "cell_type": "code",
   "execution_count": 10,
   "metadata": {
    "collapsed": true
   },
   "outputs": [],
   "source": [
    "hex?"
   ]
  },
  {
   "cell_type": "code",
   "execution_count": 16,
   "metadata": {},
   "outputs": [
    {
     "name": "stdout",
     "output_type": "stream",
     "text": [
      "34567890 10\n"
     ]
    }
   ],
   "source": [
    "print(\"34567890\",10)"
   ]
  },
  {
   "cell_type": "code",
   "execution_count": 17,
   "metadata": {},
   "outputs": [
    {
     "name": "stdout",
     "output_type": "stream",
     "text": [
      "34567890\n"
     ]
    }
   ],
   "source": [
    "print(\"34567890\")"
   ]
  },
  {
   "cell_type": "code",
   "execution_count": 18,
   "metadata": {},
   "outputs": [
    {
     "data": {
      "text/plain": [
       "'0b110011'"
      ]
     },
     "execution_count": 18,
     "metadata": {},
     "output_type": "execute_result"
    }
   ],
   "source": [
    "bin(51)"
   ]
  },
  {
   "cell_type": "code",
   "execution_count": 22,
   "metadata": {},
   "outputs": [
    {
     "name": "stdout",
     "output_type": "stream",
     "text": [
      "0b100100000100100\n"
     ]
    }
   ],
   "source": [
    "x=18468\n",
    "s=str(bin(x))\n",
    "print(s)"
   ]
  },
  {
   "cell_type": "code",
   "execution_count": 23,
   "metadata": {},
   "outputs": [
    {
     "data": {
      "text/plain": [
       "1"
      ]
     },
     "execution_count": 23,
     "metadata": {},
     "output_type": "execute_result"
    }
   ],
   "source": [
    "'10101'.count('101')"
   ]
  },
  {
   "cell_type": "code",
   "execution_count": null,
   "metadata": {
    "collapsed": true
   },
   "outputs": [],
   "source": []
  }
 ],
 "metadata": {
  "kernelspec": {
   "display_name": "Python 3",
   "language": "python",
   "name": "python3"
  },
  "language_info": {
   "codemirror_mode": {
    "name": "ipython",
    "version": 3
   },
   "file_extension": ".py",
   "mimetype": "text/x-python",
   "name": "python",
   "nbconvert_exporter": "python",
   "pygments_lexer": "ipython3",
   "version": "3.6.3"
  }
 },
 "nbformat": 4,
 "nbformat_minor": 2
}
