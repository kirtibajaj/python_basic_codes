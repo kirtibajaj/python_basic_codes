{
 "cells": [
  {
   "cell_type": "markdown",
   "metadata": {},
   "source": [
    "#<h1 style='color:green'> Basic Datatypes in python</h1>\n"
   ]
  },
  {
   "cell_type": "markdown",
   "metadata": {},
   "source": [
    "<img src='download.png'/>"
   ]
  },
  {
   "cell_type": "raw",
   "metadata": {},
   "source": [
    "1.Numbers\n",
    "2.Strings\n",
    "3.Lists\n",
    "4.Tuples\n",
    "5.Dictionary\n",
    "6.sets"
   ]
  },
  {
   "cell_type": "code",
   "execution_count": 6,
   "metadata": {},
   "outputs": [
    {
     "name": "stdout",
     "output_type": "stream",
     "text": [
      "Type of x: <class 'int'>\n",
      "Type of y: <class 'float'>\n",
      "Type of z: <class 'complex'>\n",
      "Value of x: 5\n",
      "Value of y: 6.25\n",
      "Value of z: (3.14+6.5j)\n"
     ]
    }
   ],
   "source": [
    "#Numbers\n",
    "#integers\n",
    "x=5 #x is a container which will contain a integer number 5\n",
    "#Lets print type of x\n",
    "print(\"Type of x:\",type(x))\n",
    "\n",
    "#Floats\n",
    "y=6.25 # now y will a float type container which holds value 6.25\n",
    "#Lets print type of y\n",
    "print(\"Type of y:\",type(y))\n",
    "\n",
    "#Complex\n",
    "z=3.14+6.5j\n",
    "#Lets print type of z\n",
    "print(\"Type of z:\",type(z))\n",
    "\n",
    "#Now print all values\n",
    "\n",
    "print(\"Value of x:\",x)\n",
    "print(\"Value of y:\",y)\n",
    "print(\"Value of z:\",z)"
   ]
  },
  {
   "cell_type": "code",
   "execution_count": null,
   "metadata": {
    "collapsed": true
   },
   "outputs": [],
   "source": []
  }
 ],
 "metadata": {
  "kernelspec": {
   "display_name": "Python 3",
   "language": "python",
   "name": "python3"
  },
  "language_info": {
   "codemirror_mode": {
    "name": "ipython",
    "version": 3
   },
   "file_extension": ".py",
   "mimetype": "text/x-python",
   "name": "python",
   "nbconvert_exporter": "python",
   "pygments_lexer": "ipython3",
   "version": "3.6.3"
  }
 },
 "nbformat": 4,
 "nbformat_minor": 2
}
