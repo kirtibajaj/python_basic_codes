{
 "cells": [
  {
   "cell_type": "code",
   "execution_count": 2,
   "metadata": {},
   "outputs": [
    {
     "name": "stdout",
     "output_type": "stream",
     "text": [
      "Enter first number:3\n",
      "Enter second number:3\n",
      "3 is greater\n"
     ]
    }
   ],
   "source": [
    "#1) Greatest b/w two numbers\n",
    "\n",
    "x=int(input(\"Enter first number:\"))\n",
    "y=int(input(\"Enter second number:\"))\n",
    "if x>y:\n",
    "    print(\"{} is greater\".format(x))\n",
    "else:\n",
    "    print(\"{} is greater\".format(y))"
   ]
  },
  {
   "cell_type": "code",
   "execution_count": 3,
   "metadata": {},
   "outputs": [
    {
     "name": "stdout",
     "output_type": "stream",
     "text": [
      "Enter a number(x):3\n",
      "Enter a number(y):3\n",
      "Enter a number(z):4\n",
      "4 is greatest\n"
     ]
    }
   ],
   "source": [
    "#2) Greatest b/w 3 numbers\n",
    "\n",
    "x=int(input(\"Enter a number(x):\"))\n",
    "y=int(input(\"Enter a number(y):\"))\n",
    "z=int(input(\"Enter a number(z):\"))\n",
    "if x>=y and x>=z:\n",
    "    print(\"{} is greatest\".format(x))\n",
    "elif y>=x and y>=z:\n",
    "    print(\"{} is greatest\".format(y))\n",
    "else:\n",
    "    print(\"{} is greatest\".format(z))"
   ]
  },
  {
   "cell_type": "code",
   "execution_count": 5,
   "metadata": {},
   "outputs": [
    {
     "name": "stdout",
     "output_type": "stream",
     "text": [
      "Enter a number:-678\n",
      "Negative\n"
     ]
    }
   ],
   "source": [
    "#3) Check positive,negative or zero\n",
    "\n",
    "x=int(input(\"Enter a number:\"))\n",
    "if x>0:\n",
    "    print(\"Positive\")\n",
    "elif x<0:\n",
    "    print(\"Negative\")\n",
    "else:\n",
    "    print(\"Zero\")"
   ]
  },
  {
   "cell_type": "code",
   "execution_count": 7,
   "metadata": {},
   "outputs": [
    {
     "name": "stdout",
     "output_type": "stream",
     "text": [
      "Enter a number:15\n",
      "Number is divisible by 5 only\n"
     ]
    }
   ],
   "source": [
    "#4) number divisible by 5 and 11 or not\n",
    "\n",
    "x=int(input(\"Enter a number:\"))\n",
    "if not(x%5) and not(x%11):\n",
    "    print(\"Number is divisible by both\")\n",
    "elif not(x%5) and x%11:\n",
    "    print(\"Number is divisible by 5 only\")\n",
    "elif x%5 and not(x%11):\n",
    "    print(\"Number is divisible by 11 only\")\n",
    "else:\n",
    "    print(\"Not divisible\")\n",
    "    "
   ]
  },
  {
   "cell_type": "code",
   "execution_count": 8,
   "metadata": {},
   "outputs": [
    {
     "name": "stdout",
     "output_type": "stream",
     "text": [
      "Enter a Number:34\n",
      "Even\n"
     ]
    }
   ],
   "source": [
    "#5) Even odd\n",
    "num=int(input(\"Enter a Number:\"))\n",
    "if num%2:\n",
    "    print(\"Odd\")\n",
    "else:\n",
    "    print(\"Even\")"
   ]
  },
  {
   "cell_type": "code",
   "execution_count": 11,
   "metadata": {},
   "outputs": [
    {
     "name": "stdout",
     "output_type": "stream",
     "text": [
      "Enter any year:1900\n",
      "Not a leap year\n"
     ]
    }
   ],
   "source": [
    "#6) Leap year\n",
    "\n",
    "x=int(input(\"Enter any year:\"))\n",
    "year=x\n",
    "if(year%100 and year%4==0 ) or (year%400==0):\n",
    "    print(\"Leap Year\")\n",
    "else:\n",
    "    print(\"Not a leap year\")"
   ]
  },
  {
   "cell_type": "code",
   "execution_count": 13,
   "metadata": {},
   "outputs": [
    {
     "name": "stdout",
     "output_type": "stream",
     "text": [
      "Enter a character:@\n",
      "NO\n"
     ]
    }
   ],
   "source": [
    "#7) alphabet or not\n",
    "\n",
    "x=input(\"Enter a character:\")\n",
    "if len(x)==1 and x.isalpha():\n",
    "    print(\"Yes\")\n",
    "else:\n",
    "    print(\"NO\")"
   ]
  },
  {
   "cell_type": "code",
   "execution_count": 14,
   "metadata": {},
   "outputs": [
    {
     "name": "stdout",
     "output_type": "stream",
     "text": [
      "Enter a character:e\n",
      "Vowel\n"
     ]
    }
   ],
   "source": [
    "#8) Vowel and consonant\n",
    "\n",
    "x=input(\"Enter a character:\").lower()\n",
    "l = ['a','e','i','o','u']\n",
    "if len(x)==1:\n",
    "    if x in l:\n",
    "        print(\"Vowel\")\n",
    "    else:\n",
    "        print(\"Consonent\")\n",
    "else:\n",
    "    print(\"Invalid input\")"
   ]
  },
  {
   "cell_type": "code",
   "execution_count": 18,
   "metadata": {},
   "outputs": [
    {
     "name": "stdout",
     "output_type": "stream",
     "text": [
      "Enter a character:d\n",
      "Alphabet\n"
     ]
    }
   ],
   "source": [
    "#9) check whether it is alphabet, digit or special character.\n",
    "\n",
    "\n",
    "x=input(\"Enter a character:\")\n",
    "if len(x)==1:\n",
    "    if x.isalpha():\n",
    "        print(\"Alphabet\")\n",
    "    elif x.isdigit():\n",
    "        print(\"DIGIT\")\n",
    "    else:\n",
    "        print(\"Special character\")\n",
    "else:\n",
    "    print(\"Invalid input\")"
   ]
  },
  {
   "cell_type": "code",
   "execution_count": 21,
   "metadata": {},
   "outputs": [
    {
     "name": "stdout",
     "output_type": "stream",
     "text": [
      "Enter a character:A\n",
      "UPPER\n"
     ]
    }
   ],
   "source": [
    "# 10)a character is uppercase or lowercase alphabet.\n",
    "\n",
    "x=input(\"Enter a character:\")\n",
    "if len(x)==1 and x.isalpha():\n",
    "    if x.islower():\n",
    "        print(\"LOWER\")\n",
    "    elif x.upper():\n",
    "        print(\"UPPER\")\n",
    "else:\n",
    "    print(\"Invalid input\")"
   ]
  },
  {
   "cell_type": "code",
   "execution_count": 23,
   "metadata": {},
   "outputs": [
    {
     "name": "stdout",
     "output_type": "stream",
     "text": [
      "Enter a week number:3\n",
      "Wednesday\n"
     ]
    }
   ],
   "source": [
    "# 11)\n",
    "l=['Monday','Tuesday','Wednesday','Thrusday','Friday','saturday','sunday']\n",
    "x=int(input(\"Enter a week number:\"))\n",
    "print(l[x-1])"
   ]
  },
  {
   "cell_type": "code",
   "execution_count": 25,
   "metadata": {},
   "outputs": [
    {
     "name": "stdout",
     "output_type": "stream",
     "text": [
      "Enter month:11\n",
      "nov\n"
     ]
    }
   ],
   "source": [
    "# 12)to input month number and print number of days in that month.\n",
    "\n",
    "\n",
    "l=['jan','feb','mar','apr','may','june','july','august','sept','oct','nov','dec']\n",
    "num=int(input(\"Enter month:\"))\n",
    "if num>=1  and num<=12:\n",
    "    print(l[num-1])\n",
    "else:\n",
    "    print(\"Invalid input\")"
   ]
  },
  {
   "cell_type": "code",
   "execution_count": null,
   "metadata": {
    "collapsed": true
   },
   "outputs": [],
   "source": []
  },
  {
   "cell_type": "code",
   "execution_count": 26,
   "metadata": {},
   "outputs": [
    {
     "name": "stdout",
     "output_type": "stream",
     "text": [
      "Enter a side:2\n",
      "Enter a side:3\n",
      "Enter a side:4\n",
      "Not triangle\n"
     ]
    }
   ],
   "source": [
    "# 14) Triangle or not(by side):\n",
    "\n",
    "x=int(input(\"Enter a side:\"))\n",
    "y=int(input(\"Enter a side:\"))\n",
    "z=int(input(\"Enter a side:\"))\n",
    "if x>y+z or y>x+z or z>x+y:\n",
    "    print(\"Triangle\")\n",
    "else:\n",
    "    print(\"Not triangle\")\n",
    "    "
   ]
  },
  {
   "cell_type": "code",
   "execution_count": 29,
   "metadata": {},
   "outputs": [
    {
     "name": "stdout",
     "output_type": "stream",
     "text": [
      "Enter a angle of side:45\n",
      "Enter a angle of side:45\n",
      "Enter a angle of side:90\n",
      "Triangle\n"
     ]
    }
   ],
   "source": [
    "# 15) Triangle or not(by Angles):\n",
    "\n",
    "x=int(input(\"Enter a angle of side:\"))\n",
    "y=int(input(\"Enter a angle of side:\"))\n",
    "z=int(input(\"Enter a angle of side:\"))\n",
    "if x+y+z==180:\n",
    "    print(\"Triangle\")\n",
    "else:\n",
    "    print(\"Not triangle\")"
   ]
  },
  {
   "cell_type": "code",
   "execution_count": 28,
   "metadata": {},
   "outputs": [
    {
     "name": "stdout",
     "output_type": "stream",
     "text": [
      "Enter a side:2\n",
      "Enter a side:3\n",
      "Enter a side:4\n",
      "Scalene\n"
     ]
    }
   ],
   "source": [
    "# 16)which triangle(equilateral,scalene,isosceles)\n",
    "\n",
    "x=int(input(\"Enter a side:\"))\n",
    "y=int(input(\"Enter a side:\"))\n",
    "z=int(input(\"Enter a side:\"))\n",
    "if x==y and y==z:\n",
    "    print(\"Equilateral\")\n",
    "elif (x==y and y!=z )or(x==z and y!=z)or (y==z and z!=x):\n",
    "    print(\"Isosceles\")\n",
    "else:\n",
    "    print(\"Scalene\")"
   ]
  },
  {
   "cell_type": "code",
   "execution_count": 35,
   "metadata": {},
   "outputs": [
    {
     "name": "stdout",
     "output_type": "stream",
     "text": [
      "Enter coefficient of x2:1\n",
      "Enter coefficient of x:2\n",
      "Enter coefficient of constant:1\n",
      "-1.0 -1.0\n"
     ]
    }
   ],
   "source": [
    "# 17) Finds rootsof quadratic equation\n",
    "\n",
    "import math\n",
    "a=int(input(\"Enter coefficient of x2:\"))\n",
    "b=int(input(\"Enter coefficient of x:\"))\n",
    "c=int(input(\"Enter coefficient of constant:\"))\n",
    "d=(b*b)-4*a*c;\n",
    "d=math.sqrt(d)\n",
    "r1=(-b+d)/2*a\n",
    "r2=(-b-d)/2*a\n",
    "print(r1,r2)"
   ]
  },
  {
   "cell_type": "code",
   "execution_count": 40,
   "metadata": {},
   "outputs": [
    {
     "name": "stdout",
     "output_type": "stream",
     "text": [
      "Enter cost price:30\n",
      "Enter sell price:30\n",
      "NO profit and loss\n"
     ]
    }
   ],
   "source": [
    "# 18)Profit and loss\n",
    "\n",
    "x=int(input(\"Enter cost price:\"))\n",
    "y=int(input(\"Enter sell price:\"))\n",
    "if(y>x):\n",
    "    profit=(y-x)/x*100\n",
    "    print(\"Profit of {}%\".format(profit))\n",
    "elif x>y:\n",
    "    loss=(x-y)/x*100\n",
    "    print(\"Loss of {}%\".format(loss))\n",
    "else:\n",
    "    print(\"NO profit and loss\")"
   ]
  },
  {
   "cell_type": "code",
   "execution_count": null,
   "metadata": {},
   "outputs": [],
   "source": [
    "## 19)Grading\n",
    "\n",
    "s=int(input(\"Enter your percentage:\"))\n",
    "if s>=90 and s<=100:\n",
    "    print('A')\n",
    "elif s>=80:\n",
    "    print('B')\n",
    "elif s>=70:\n",
    "    print('C')\n",
    "elif s>=60:\n",
    "    print('D')\n",
    "elif s>=40:\n",
    "    print('E')\n",
    "else:\n",
    "    print('F')\n"
   ]
  },
  {
   "cell_type": "code",
   "execution_count": null,
   "metadata": {
    "collapsed": true
   },
   "outputs": [],
   "source": []
  }
 ],
 "metadata": {
  "kernelspec": {
   "display_name": "Python 3",
   "language": "python",
   "name": "python3"
  },
  "language_info": {
   "codemirror_mode": {
    "name": "ipython",
    "version": 3
   },
   "file_extension": ".py",
   "mimetype": "text/x-python",
   "name": "python",
   "nbconvert_exporter": "python",
   "pygments_lexer": "ipython3",
   "version": "3.6.3"
  }
 },
 "nbformat": 4,
 "nbformat_minor": 2
}
