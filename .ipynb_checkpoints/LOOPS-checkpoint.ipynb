{
 "cells": [
  {
   "cell_type": "markdown",
   "metadata": {},
   "source": [
    "# LOOPS"
   ]
  },
  {
   "cell_type": "markdown",
   "metadata": {},
   "source": [
    "LOOPS in python\n",
    "\n",
    "1.While loop<br>\n",
    "2.for loop\n"
   ]
  },
  {
   "cell_type": "code",
   "execution_count": null,
   "metadata": {},
   "outputs": [],
   "source": [
    "x=1\n",
    "while x<11:\n",
    "    print(\"Hello World\")\n",
    "    x=x+1"
   ]
  },
  {
   "cell_type": "code",
   "execution_count": null,
   "metadata": {},
   "outputs": [],
   "source": [
    "x=1\n",
    "while x<101:\n",
    "    print(x,end=\" \")\n",
    "    x+=1\n",
    "    "
   ]
  },
  {
   "cell_type": "code",
   "execution_count": null,
   "metadata": {},
   "outputs": [],
   "source": [
    "x=100\n",
    "while x>=1:\n",
    "    if x%2:\n",
    "        print(x,end=\" \")\n",
    "    x-=1\n",
    "        "
   ]
  },
  {
   "cell_type": "code",
   "execution_count": null,
   "metadata": {
    "collapsed": true
   },
   "outputs": [],
   "source": [
    "x={7,10,1,2,3,45,4,2}"
   ]
  },
  {
   "cell_type": "code",
   "execution_count": null,
   "metadata": {},
   "outputs": [],
   "source": [
    "x.pop()\n",
    "print(x)"
   ]
  },
  {
   "cell_type": "code",
   "execution_count": null,
   "metadata": {},
   "outputs": [],
   "source": [
    "from random import randint\n",
    "x=randint(1,50)\n",
    "j=1\n",
    "while j<=5:\n",
    "    i=int(input(\"Enter a guess:\"))\n",
    "    if i>x:\n",
    "        print(\"Your guess is higher\")\n",
    "    elif i<x:\n",
    "        print(\"You guess is low\")\n",
    "    elif x==i:\n",
    "        print(\"you are winner\")\n",
    "        break\n",
    "    j+=1\n",
    "if j==6:\n",
    "    print(\"You are loser\")\n",
    "    \n",
    "\n",
    "    \n",
    "\n",
    "    \n"
   ]
  },
  {
   "cell_type": "code",
   "execution_count": null,
   "metadata": {},
   "outputs": [],
   "source": [
    "from random import randint\n",
    "x=randint(1,3)\n",
    "chk='y'\n",
    "while(chk=='y'):\n",
    "    y=int(input(\"Enter your choice \\n1.rock \\n2.paper \\n3.Scissor\\n:\"))\n",
    "    if (x==1 and y==2) or (x==2 and y==3) or (x==3 and y==1):\n",
    "        print(\"You win\")\n",
    "        print(\" comp Choice:\",x)\n",
    "    elif (x==1 and y==3) or (x==2 and y==1) or (x==3 and y==2):\n",
    "        print(\"You failed\")\n",
    "        print(\"comp choice:\",x)\n",
    "    else:\n",
    "        print(\"Tie\")\n",
    "        print(\"comp choice:\",x)\n",
    "    chk=input(\"You want to continue (Y/N)?\")\n",
    "        "
   ]
  },
  {
   "cell_type": "code",
   "execution_count": null,
   "metadata": {},
   "outputs": [],
   "source": [
    "from random import choice\n",
    "x=choice(['r','p','s'])\n",
    "chk='y'\n",
    "while(chk=='y'):\n",
    "    y=input(\"Enter your choice \\n1.rock(r) \\n2.paper(p) \\n3.Scissor(s)\\n:\")\n",
    "    if (x=='r' and y=='p') or (x=='p' and y=='s') or (x=='s' and y=='r'):\n",
    "        print(\"You win\")\n",
    "        print(\" comp Choice:\",x)\n",
    "    elif (x=='r' and y=='s') or (x=='p' and y=='r') or (x=='s' and y=='p'):\n",
    "        print(\"You failed\")\n",
    "        print(\"comp choice:\",x)\n",
    "    else:\n",
    "        print(\"Tie\")\n",
    "        print(\"comp choice:\",x)\n",
    "    chk=input(\"You want to continue (Y/N)?\")"
   ]
  },
  {
   "cell_type": "code",
   "execution_count": null,
   "metadata": {},
   "outputs": [
    {
     "name": "stdout",
     "output_type": "stream",
     "text": [
      "Enter how many players wants to play:4\n",
      "Enter 1 player name:kirti\n",
      "Enter 2 player name:sjdfn\n",
      "Enter 3 player name:nfdkjs\n",
      "Enter 4 player name:kdsdf\n",
      "sjdfn will have to choose t\n",
      "Do you want to continue(y/n)?y\n",
      "kirti will have to choose t\n"
     ]
    }
   ],
   "source": [
    "from random import choice\n",
    "from random import randint\n",
    "chk='y'\n",
    "l=[]\n",
    "num=int(input(\"Enter how many players wants to play:\"))\n",
    "for i in range(1,num+1):\n",
    "    l.append(input(\"Enter {} player name:\".format(i)))\n",
    "while chk=='y':\n",
    "    c=choice(['t','d','s'])\n",
    "    cd=choice(l)\n",
    "    print(\"{} will have to choose {}\".format(cd,c))\n",
    "    chk=input(\"Do you want to continue(y/n)?\").strip().lower()\n",
    "    \n",
    "    \n",
    "    "
   ]
  },
  {
   "cell_type": "code",
   "execution_count": null,
   "metadata": {},
   "outputs": [],
   "source": [
    "import random\n",
    "num=random.randint(1,100)\n",
    "chk='y'\n",
    "while(chk):\n",
    "    x=random.randint(1,6)\n",
    "    print(\"Rolled dice is:\",x)\n",
    "    chk=input((\"Do you want to continue(y/n)?\").strip().lower()\n",
    "    "
   ]
  },
  {
   "cell_type": "code",
   "execution_count": null,
   "metadata": {
    "collapsed": true
   },
   "outputs": [],
   "source": []
  }
 ],
 "metadata": {
  "kernelspec": {
   "display_name": "Python 3",
   "language": "python",
   "name": "python3"
  },
  "language_info": {
   "codemirror_mode": {
    "name": "ipython",
    "version": 3
   },
   "file_extension": ".py",
   "mimetype": "text/x-python",
   "name": "python",
   "nbconvert_exporter": "python",
   "pygments_lexer": "ipython3",
   "version": "3.6.3"
  }
 },
 "nbformat": 4,
 "nbformat_minor": 2
}
