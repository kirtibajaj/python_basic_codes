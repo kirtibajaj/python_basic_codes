{
 "cells": [
  {
   "cell_type": "markdown",
   "metadata": {},
   "source": [
    "# Operators\n"
   ]
  },
  {
   "cell_type": "markdown",
   "metadata": {},
   "source": [
    "1.Airthmetic Operators(+,-,*,/,%,//,*)\n",
    "\n",
    "2.Comparision Operator(<,>,<=,>=,==,!=)\n",
    "\n",
    "3.Logical operators(and or not)\n",
    "\n",
    "4.Assignment operator(=)\n",
    "\n",
    "5.Membership operator(in,not in)\n",
    "\n",
    "6.Identity Operator(is not is)\n",
    "\n",
    "7.Binary operator"
   ]
  },
  {
   "cell_type": "markdown",
   "metadata": {},
   "source": [
    "1)  Airthmetic Operator\n",
    "\n",
    "a)  Addition +\n",
    "\n",
    "b)  Substraction -\n",
    "\n",
    "c)  Multiply *\n",
    "\n",
    "d)  absolute division /\n",
    "\n",
    "e)  Modulus operator %\n",
    "\n",
    "f)  integerdivision or flooor division //\n",
    "\n",
    "g)  power and exponent **"
   ]
  },
  {
   "cell_type": "code",
   "execution_count": 1,
   "metadata": {},
   "outputs": [
    {
     "name": "stdout",
     "output_type": "stream",
     "text": [
      "15\n"
     ]
    }
   ],
   "source": [
    "#Addition (Binary Operator)\n",
    "x=5\n",
    "y=10\n",
    "print(x+y)"
   ]
  },
  {
   "cell_type": "code",
   "execution_count": 2,
   "metadata": {},
   "outputs": [
    {
     "name": "stdout",
     "output_type": "stream",
     "text": [
      "helloworld\n"
     ]
    }
   ],
   "source": [
    "s1=\"hello \"\n",
    "s2=\"world\"\n",
    "print(s1+s2)"
   ]
  },
  {
   "cell_type": "code",
   "execution_count": 4,
   "metadata": {},
   "outputs": [
    {
     "name": "stdout",
     "output_type": "stream",
     "text": [
      "[1, 2, 3, 'hello', 3.14, 'something']\n",
      "[1, 2, 3, 'hello']\n",
      "[3.14, 'something']\n",
      "[1, 2, 3, 'hello', 3.14, 'something']\n"
     ]
    }
   ],
   "source": [
    "l1=[1,2,3,\"hello\"]\n",
    "l2=[3.14,\"something\"]\n",
    "print(l1+l2)\n",
    "l3=l1+l2\n",
    "print(l1)\n",
    "print(l2)\n",
    "print(l3)"
   ]
  },
  {
   "cell_type": "code",
   "execution_count": 6,
   "metadata": {},
   "outputs": [
    {
     "name": "stdout",
     "output_type": "stream",
     "text": [
      "(1, 2, 3)\n",
      "(4, 5, 6)\n",
      "(1, 2, 3, 4, 5, 6)\n"
     ]
    }
   ],
   "source": [
    "t1=(1,2,3)\n",
    "t2=(4,5,6)\n",
    "print(t1)\n",
    "print(t2)\n",
    "print(t1+t2)"
   ]
  },
  {
   "cell_type": "code",
   "execution_count": 9,
   "metadata": {},
   "outputs": [
    {
     "name": "stdout",
     "output_type": "stream",
     "text": [
      "{'one': 'ek', 'hi': 'hello'}\n",
      "{'two': 'do', 'bye': 'bye bye'}\n"
     ]
    }
   ],
   "source": [
    "d={\n",
    "    'one':'ek',\n",
    "    'hi':'hello'\n",
    "}\n",
    "d2={\n",
    "    'two':'do','bye':'bye bye'\n",
    "}\n",
    "#this operation is not permitted in python   d3=d+d2\n",
    "#as we can't access values directly\n",
    "print(d)\n",
    "print(d2)\n",
    "#print(d3)"
   ]
  },
  {
   "cell_type": "code",
   "execution_count": 11,
   "metadata": {},
   "outputs": [
    {
     "name": "stdout",
     "output_type": "stream",
     "text": [
      "{1, 2, 3, 4, 5} {2, 3, 4, 5, 6, 7}\n"
     ]
    }
   ],
   "source": [
    "s={1,2,3,4,5,1,2}\n",
    "s2={2,3,4,5,6,7}\n",
    "#s3=s+s2\n",
    "#this operation is not permitted in python\n",
    "#due to unordered property set\n",
    "#only two datatype are present dictionary and set which does not support indexing\n",
    "#print(s3)\n",
    "print(s,s2)"
   ]
  },
  {
   "cell_type": "code",
   "execution_count": 14,
   "metadata": {},
   "outputs": [
    {
     "name": "stdout",
     "output_type": "stream",
     "text": [
      "3\n",
      "7\n",
      "-4\n"
     ]
    }
   ],
   "source": [
    "# substraction (**only work at numbers datatype**)\n",
    "#Associativity of operation(+,-,*,/) is left to right\n",
    "x=3\n",
    "y=7\n",
    "z=x-y\n",
    "print(x)\n",
    "print(y)\n",
    "print(z)"
   ]
  },
  {
   "cell_type": "code",
   "execution_count": 15,
   "metadata": {},
   "outputs": [
    {
     "name": "stdout",
     "output_type": "stream",
     "text": [
      "(7.536+10.799999999999999j)\n"
     ]
    }
   ],
   "source": [
    "#Multiplication\n",
    "\n",
    "x=1\n",
    "y=2.4\n",
    "z=3.14+4.5j\n",
    "r=x*y*z\n",
    "print(r)"
   ]
  },
  {
   "cell_type": "code",
   "execution_count": 25,
   "metadata": {},
   "outputs": [
    {
     "name": "stdout",
     "output_type": "stream",
     "text": [
      "3.142857142857143\n",
      "3\n",
      "3.142857\n",
      "3.14\n",
      "z = 3.14\n",
      "z= 3.14\n"
     ]
    }
   ],
   "source": [
    "#Division\n",
    "x=22\n",
    "y=7\n",
    "#absolute division\n",
    "z=x/y\n",
    "print(z)\n",
    "print(round(z))\n",
    "\n",
    "#Formatting Methods\n",
    "print(\"%f\"%(z))\n",
    "print(\"%.2f\"%(z))\n",
    "#,always give iine space by default\n",
    "print(\"z = {:.3}\".format(z))\n",
    "print(\"z=\",format(z,'.2f'))"
   ]
  },
  {
   "cell_type": "code",
   "execution_count": 28,
   "metadata": {},
   "outputs": [
    {
     "name": "stdout",
     "output_type": "stream",
     "text": [
      "x = 33,y = 13,z = 2.54\n"
     ]
    }
   ],
   "source": [
    "x=33\n",
    "y=13\n",
    "#x=33, y=13, x/y=2.22\n",
    "print(\"x = {},y = {},z = {:.3}\".format(x,y,x/y) )"
   ]
  },
  {
   "cell_type": "code",
   "execution_count": 30,
   "metadata": {},
   "outputs": [
    {
     "name": "stdout",
     "output_type": "stream",
     "text": [
      "5+5=10\n"
     ]
    }
   ],
   "source": [
    "# 5+5=10\n",
    "x=5\n",
    "y=x+x #x+=x\n",
    "print(\"{1}+{1}={0}\".format(y,x))"
   ]
  },
  {
   "cell_type": "code",
   "execution_count": 32,
   "metadata": {},
   "outputs": [
    {
     "data": {
      "text/plain": [
       "0.75"
      ]
     },
     "execution_count": 32,
     "metadata": {},
     "output_type": "execute_result"
    }
   ],
   "source": [
    "3/4#interactive o/p shell"
   ]
  },
  {
   "cell_type": "code",
   "execution_count": null,
   "metadata": {},
   "outputs": [],
   "source": []
  }
 ],
 "metadata": {
  "kernelspec": {
   "display_name": "Python 3",
   "language": "python",
   "name": "python3"
  },
  "language_info": {
   "codemirror_mode": {
    "name": "ipython",
    "version": 3
   },
   "file_extension": ".py",
   "mimetype": "text/x-python",
   "name": "python",
   "nbconvert_exporter": "python",
   "pygments_lexer": "ipython3",
   "version": "3.6.3"
  }
 },
 "nbformat": 4,
 "nbformat_minor": 2
}
