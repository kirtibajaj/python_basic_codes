{
 "cells": [
  {
   "cell_type": "markdown",
   "metadata": {},
   "source": [
    "# for loop"
   ]
  },
  {
   "cell_type": "markdown",
   "metadata": {},
   "source": [
    "for loops works on sequence and convert it into a iterator<br>\n",
    "i.e. we can say it converts horizontal container to vertical container<br>\n",
    "we can traverse one by one<br>\n",
    "sequence:-string,list,tuple,dictionary,sets,generator,iterator<br>\n",
    "Stop iteration exception take place<br>"
   ]
  },
  {
   "cell_type": "code",
   "execution_count": 1,
   "metadata": {},
   "outputs": [
    {
     "name": "stdout",
     "output_type": "stream",
     "text": [
      "h\n",
      "e\n",
      "l\n",
      "l\n",
      "o\n",
      " \n",
      "w\n",
      "o\n",
      "r\n",
      "l\n",
      "d\n"
     ]
    }
   ],
   "source": [
    "s='hello world'\n",
    "for x in s:\n",
    "    print(x)"
   ]
  },
  {
   "cell_type": "code",
   "execution_count": 2,
   "metadata": {},
   "outputs": [
    {
     "name": "stdout",
     "output_type": "stream",
     "text": [
      "hello\n",
      "hi\n",
      "1\n",
      "2\n",
      "3\n",
      "4\n",
      "5\n",
      "6\n",
      "[1, 2, 3, 4, 6]\n",
      "1\n",
      "2\n",
      "3\n"
     ]
    }
   ],
   "source": [
    "l=['hello','hi',1,2,3,4,5,6,[1,2,3,4,6],1,2,3]\n",
    "for x in l:\n",
    "    print(x)\n",
    "    "
   ]
  },
  {
   "cell_type": "code",
   "execution_count": 5,
   "metadata": {},
   "outputs": [
    {
     "name": "stdout",
     "output_type": "stream",
     "text": [
      "Enter a no:4\n",
      "4 * 1 = 4\n",
      "4 * 2 = 8\n",
      "4 * 3 = 12\n",
      "4 * 4 = 16\n",
      "4 * 5 = 20\n",
      "4 * 6 = 24\n",
      "4 * 7 = 28\n",
      "4 * 8 = 32\n",
      "4 * 9 = 36\n",
      "4 * 10 = 40\n"
     ]
    }
   ],
   "source": [
    "#table\n",
    "\n",
    "n=int(input(\"Enter a no:\"))\n",
    "l=[1,2,3,4,5,6,7,8,9,10]\n",
    "for i in l:\n",
    "    print(\"{} * {} = {}\".format(n,i,n*i))"
   ]
  },
  {
   "cell_type": "code",
   "execution_count": 7,
   "metadata": {},
   "outputs": [
    {
     "name": "stdout",
     "output_type": "stream",
     "text": [
      "name : python\n",
      "version : 3.6\n",
      "father : Guido van rossum\n",
      "named on : monty python\n",
      "method : OOPS\n",
      "type : interpreted\n",
      "year : 1991\n"
     ]
    }
   ],
   "source": [
    "d={\n",
    "    \n",
    "    'name':'python',\n",
    "    'version':3.6,\n",
    "    'father':'Guido van rossum',\n",
    "    'named on':'monty python',\n",
    "    'method':'OOPS',\n",
    "    'type':'interpreted',\n",
    "    'year':1991\n",
    "}\n",
    "for var in d:\n",
    "    print(var,\":\",d[var])"
   ]
  },
  {
   "cell_type": "code",
   "execution_count": 10,
   "metadata": {},
   "outputs": [
    {
     "name": "stdout",
     "output_type": "stream",
     "text": [
      "1\n",
      "2\n",
      "3\n",
      "4\n",
      "5\n",
      "6\n",
      "good\n",
      "hello\n",
      "bye bye\n",
      "hi\n"
     ]
    }
   ],
   "source": [
    "s={'hello','hi',1,2,3,4,5,6,'good','bye bye'}\n",
    "for i in s:\n",
    "    print(i)"
   ]
  },
  {
   "cell_type": "code",
   "execution_count": 12,
   "metadata": {},
   "outputs": [
    {
     "name": "stdout",
     "output_type": "stream",
     "text": [
      "1 2 3\n",
      "hello hi df\n",
      "bye bye see u\n",
      "hello world !!\n",
      "python java c\n",
      "c + +\n",
      "1 2 3\n"
     ]
    }
   ],
   "source": [
    "l=[(1,2,3),('hello','hi','df'),('bye','bye','see u'),('hello','world','!!'),('python','java','c'),'c++',[1,2,3]]\n",
    "for i,j,k in l:\n",
    "    print(i,j,k)"
   ]
  },
  {
   "cell_type": "code",
   "execution_count": 15,
   "metadata": {},
   "outputs": [
    {
     "name": "stdout",
     "output_type": "stream",
     "text": [
      "name:python\n",
      "version:3.6\n",
      "father:Guido van rossum\n",
      "named on:monty python\n",
      "method:OOPS\n",
      "type:interpreted\n",
      "year:1991\n"
     ]
    }
   ],
   "source": [
    "d={\n",
    "    \n",
    "    'name':'python',\n",
    "    'version':3.6,\n",
    "    'father':'Guido van rossum',\n",
    "    'named on':'monty python',\n",
    "    'method':'OOPS',\n",
    "    'type':'interpreted',\n",
    "    'year':1991\n",
    "}\n",
    "for i,j in d.items():\n",
    "    print(\"{} : {}\".format(i,j))"
   ]
  },
  {
   "cell_type": "code",
   "execution_count": 19,
   "metadata": {},
   "outputs": [
    {
     "name": "stdout",
     "output_type": "stream",
     "text": [
      "1:a\n",
      "2:b\n",
      "3:c\n",
      "4:d\n",
      "5:e\n",
      "6:f\n",
      "7:g\n",
      "8:h\n",
      "9:i\n",
      "10:j\n"
     ]
    }
   ],
   "source": [
    "l=[1,2,3,4,5,6,7,8,9,10]\n",
    "l2=['a','b','c','d','e','f','g','h','i','j']\n",
    "for i,j in zip(l,l2):\n",
    "    print(\"{}:{}\".format(i,j))"
   ]
  },
  {
   "cell_type": "code",
   "execution_count": 32,
   "metadata": {},
   "outputs": [
    {
     "name": "stdout",
     "output_type": "stream",
     "text": [
      "Enter keys:a,b,s,d\n",
      "Enter values:1,2,3,4\n",
      "{'a': '1', 'b': '2', 's': '3', 'd': '4'}\n"
     ]
    }
   ],
   "source": [
    "x,y=input(\"Enter keys:\").strip().split(\",\"),input(\"Enter values:\").strip().split(\",\")\n",
    "d=dict(zip(x,y))\n",
    "print(d)\n",
    "    "
   ]
  },
  {
   "cell_type": "code",
   "execution_count": 39,
   "metadata": {},
   "outputs": [
    {
     "name": "stdout",
     "output_type": "stream",
     "text": [
      "990     960     930     900     870     840     810     780     750     720     690     660     630     600     570     540     510     480     450     420     390     360     330     300     270     240     210     180     150     120     90     60     30     "
     ]
    }
   ],
   "source": [
    "for i  in range(1000,0,-1):\n",
    "    if i%2==0 and i%3==0 and i%5==0:\n",
    "        print(i,end=\"     \")"
   ]
  },
  {
   "cell_type": "code",
   "execution_count": 63,
   "metadata": {},
   "outputs": [
    {
     "name": "stdout",
     "output_type": "stream",
     "text": [
      "[1, 2, 3, 4, 5, 6, 7, 8, 9, 10, 11, 12, 13, 13, 34]\n"
     ]
    }
   ],
   "source": [
    "l=[8,7,6,5,4,3,2,1,9,10,11,12,13,13,34]\n",
    "length=0\n",
    "for i in l:\n",
    "    length+=1\n",
    "for i in range(0,length):\n",
    "    m=i\n",
    "    for j in range(i,length):\n",
    "        if l[m]>l[j]:\n",
    "            m=j\n",
    "    l[i],l[m]=l[m],l[i]\n",
    "print(l)\n",
    "    \n",
    "        "
   ]
  },
  {
   "cell_type": "code",
   "execution_count": 67,
   "metadata": {},
   "outputs": [
    {
     "name": "stdout",
     "output_type": "stream",
     "text": [
      "Enter size:9\n",
      "9 9 9 9 9 9 9 9 9 9 9 9 9 9 9 9 9 \n",
      "9 8 8 8 8 8 8 8 8 8 8 8 8 8 8 8 9 \n",
      "9 8 7 7 7 7 7 7 7 7 7 7 7 7 7 8 9 \n",
      "9 8 7 6 6 6 6 6 6 6 6 6 6 6 7 8 9 \n",
      "9 8 7 6 5 5 5 5 5 5 5 5 5 6 7 8 9 \n",
      "9 8 7 6 5 4 4 4 4 4 4 4 5 6 7 8 9 \n",
      "9 8 7 6 5 4 3 3 3 3 3 4 5 6 7 8 9 \n",
      "9 8 7 6 5 4 3 2 2 2 3 4 5 6 7 8 9 \n",
      "9 8 7 6 5 4 3 2 1 2 3 4 5 6 7 8 9 \n",
      "9 8 7 6 5 4 3 2 2 2 3 4 5 6 7 8 9 \n",
      "9 8 7 6 5 4 3 3 3 3 3 4 5 6 7 8 9 \n",
      "9 8 7 6 5 4 4 4 4 4 4 4 5 6 7 8 9 \n",
      "9 8 7 6 5 5 5 5 5 5 5 5 5 6 7 8 9 \n",
      "9 8 7 6 6 6 6 6 6 6 6 6 6 6 7 8 9 \n",
      "9 8 7 7 7 7 7 7 7 7 7 7 7 7 7 8 9 \n",
      "9 8 8 8 8 8 8 8 8 8 8 8 8 8 8 8 9 \n",
      "9 9 9 9 9 9 9 9 9 9 9 9 9 9 9 9 9 \n"
     ]
    }
   ],
   "source": [
    "n=int(input(\"Enter size:\"))\n",
    "for i in range(n,0,-1):\n",
    "    for j in range(n,i,-1):\n",
    "        print(j,end=\" \")\n",
    "    for j in range(n-i,(2*n-(n-i+1))):\n",
    "          print(i,end=\" \")\n",
    "    for j in range(i+1,n+1):\n",
    "        print(j,end=\" \")\n",
    "    print()\n",
    "for i in range(2,n+1):\n",
    "    for j in range(n,i,-1):\n",
    "        print(j,end=\" \")   \n",
    "    for j in range(2,i+2):\n",
    "        print(i,end=\" \")\n",
    "    for j in range(0,i-2):\n",
    "        if i>2:\n",
    "            print(i,end=\" \")\n",
    "    for j in range(i,n+1):\n",
    "        print(j,end=\" \")\n",
    "    print();\n",
    "    "
   ]
  },
  {
   "cell_type": "code",
   "execution_count": null,
   "metadata": {},
   "outputs": [],
   "source": []
  },
  {
   "cell_type": "code",
   "execution_count": null,
   "metadata": {
    "collapsed": true
   },
   "outputs": [],
   "source": []
  }
 ],
 "metadata": {
  "kernelspec": {
   "display_name": "Python 3",
   "language": "python",
   "name": "python3"
  },
  "language_info": {
   "codemirror_mode": {
    "name": "ipython",
    "version": 3
   },
   "file_extension": ".py",
   "mimetype": "text/x-python",
   "name": "python",
   "nbconvert_exporter": "python",
   "pygments_lexer": "ipython3",
   "version": "3.6.3"
  }
 },
 "nbformat": 4,
 "nbformat_minor": 2
}
