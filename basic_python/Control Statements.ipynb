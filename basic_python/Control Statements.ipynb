{
 "cells": [
  {
   "cell_type": "markdown",
   "metadata": {},
   "source": [
    "#  Control statements"
   ]
  },
  {
   "cell_type": "markdown",
   "metadata": {},
   "source": [
    "which controls the execution on program....."
   ]
  },
  {
   "cell_type": "markdown",
   "metadata": {},
   "source": [
    "Syntax\n",
    "\n",
    "\n",
    "\n",
    "Multiple condition Statements\n",
    "\n",
    "\n",
    "\n",
    "if condition:<br>\n",
    "                ...st1...<br>\n",
    "                ...st2...<br>\n",
    "                ...st3...<br>\n",
    "elif condition2:<br>\n",
    "                ...st4...<br>\n",
    "                ...st5...<br>\n",
    "                ...st6...<br>\n",
    "else:<br>\n",
    "                ...st7...<br>\n",
    "                ...st8...<br>\n",
    "                ...st9...<br>\n",
    "\n",
    "\n",
    "\n",
    "#(;)->statement termination\n",
    "\n",
    "#({})->Block of statements\n",
    "\n",
    "#(:)->Indentation operator"
   ]
  },
  {
   "cell_type": "code",
   "execution_count": 4,
   "metadata": {
    "scrolled": true
   },
   "outputs": [
    {
     "name": "stdout",
     "output_type": "stream",
     "text": [
      "2 3\n"
     ]
    }
   ],
   "source": [
    "x=2;y=3;print(x,y)"
   ]
  },
  {
   "cell_type": "code",
   "execution_count": 9,
   "metadata": {},
   "outputs": [
    {
     "name": "stdout",
     "output_type": "stream",
     "text": [
      "Enter a Number:10\n",
      "Even\n"
     ]
    }
   ],
   "source": [
    "#Even odd\n",
    "num=int(input(\"Enter a Number:\"))\n",
    "if num%2:\n",
    "    print(\"Odd\")\n",
    "else:\n",
    "    print(\"Even\")"
   ]
  },
  {
   "cell_type": "code",
   "execution_count": 23,
   "metadata": {},
   "outputs": [
    {
     "name": "stdout",
     "output_type": "stream",
     "text": [
      "Enter a string:           FoO\n",
      "bar\n"
     ]
    }
   ],
   "source": [
    "s=input(\"Enter a string:\").strip().lower()\n",
    "if b.count('foo'):\n",
    "    print(\"bar\")\n",
    "elif b.count('bar'):\n",
    "    print(\"foo\")\n",
    "else:\n",
    "    print(\"foo | bar\")"
   ]
  },
  {
   "cell_type": "code",
   "execution_count": 10,
   "metadata": {},
   "outputs": [
    {
     "name": "stdout",
     "output_type": "stream",
     "text": [
      "Enter a number(x):3\n",
      "Enter a number(y):2\n",
      "Enter a number(z):3\n",
      "3 is greater\n"
     ]
    }
   ],
   "source": [
    "x=int(input(\"Enter a number(x):\"))\n",
    "y=int(input(\"Enter a number(y):\"))\n",
    "z=int(input(\"Enter a number(z):\"))\n",
    "if x>y:\n",
    "    if x>z:\n",
    "        print(\"{} is greater\".format(x))\n",
    "    else:\n",
    "        print(\"{} is greater\".format(z))\n",
    "else:\n",
    "    if y>z:\n",
    "        print(\"{} is greater\".format(y))\n",
    "    else:\n",
    "        print(\"{} is greater\".format(z))\n",
    "\n",
    "    "
   ]
  },
  {
   "cell_type": "code",
   "execution_count": 6,
   "metadata": {},
   "outputs": [
    {
     "name": "stdout",
     "output_type": "stream",
     "text": [
      "Enter a number(x):34\n",
      "Enter a number(y):34\n",
      "Enter a number(z):2\n",
      "34 is greatest\n"
     ]
    }
   ],
   "source": [
    "x=int(input(\"Enter a number(x):\"))\n",
    "y=int(input(\"Enter a number(y):\"))\n",
    "z=int(input(\"Enter a number(z):\"))\n",
    "if x>=y and x>=z:\n",
    "    print(\"{} is greatest\".format(x))\n",
    "elif y>=x and y>=z:\n",
    "    print(\"{} is greatest\".format(y))\n",
    "else:\n",
    "    print(\"{} is greatest\".format(z))\n",
    "    "
   ]
  },
  {
   "cell_type": "code",
   "execution_count": 17,
   "metadata": {},
   "outputs": [
    {
     "name": "stdout",
     "output_type": "stream",
     "text": [
      "Enter a number(a):45\n",
      "Enter a number(b):78\n",
      "\n",
      "1.+\n",
      "2.-\n",
      "3.*\n",
      "4./\n",
      "5.//\n",
      "6.**\n",
      "7.%\n",
      "Choose an operation\n",
      "5\n",
      "0.0 is floor integer\n"
     ]
    }
   ],
   "source": [
    "x=float(input(\"Enter a number(a):\"))\n",
    "y=float(input(\"Enter a number(b):\"))\n",
    "ch=int(input(\"\\n1.+\\n2.-\\n3.*\\n4./\\n5.//\\n6.**\\n7.%\\nChoose an operation\\n\"))\n",
    "if ch==1:\n",
    "    print(\"{:.3} is sum\".format(x+y))\n",
    "elif ch==2:\n",
    "    print(\"{:.3} is difference\".format(x-y))\n",
    "elif ch==3:\n",
    "    print(\"{:.3} is Multiply\".format(x*y))\n",
    "elif ch==6:\n",
    "    print(\"{:.3} is power\".format(x**y))\n",
    "else:\n",
    "    if y!=0:\n",
    "        if ch==4:\n",
    "            print(\"{:.3} is absolute division\".format(x/y))\n",
    "        elif ch==5:\n",
    "            print(\"{:.3} is floor integer\".format(x//y))\n",
    "        elif ch==7:\n",
    "            print(\"{:.3} is modulus\".format(x%y))\n",
    "        else:\n",
    "            print(\"Invalid choice\")\n"
   ]
  },
  {
   "cell_type": "code",
   "execution_count": 20,
   "metadata": {},
   "outputs": [
    {
     "name": "stdout",
     "output_type": "stream",
     "text": [
      "Enter a month number:90\n",
      "Invalid input\n"
     ]
    }
   ],
   "source": [
    "num=int(input(\"Enter a month number:\"))\n",
    "if num==1:\n",
    "    print(\"January\")\n",
    "elif num==2:\n",
    "    print(\"February\")\n",
    "elif num==3:\n",
    "    print(\"March\")\n",
    "elif num==4:\n",
    "    print(\"April\")\n",
    "elif num==5:\n",
    "    print(\"May\")\n",
    "elif num==6:\n",
    "    print(\"June\")\n",
    "elif num==7:\n",
    "    print(\"july\")\n",
    "elif num==8:\n",
    "    print(\"August\")\n",
    "elif num==9:\n",
    "    print(\"September\")\n",
    "elif num==10:\n",
    "    print(\"October\")\n",
    "elif num==11:\n",
    "    print(\"November\")\n",
    "elif num==12:\n",
    "    print(\"December\")\n",
    "else:\n",
    "    print(\"Invalid input\")"
   ]
  },
  {
   "cell_type": "code",
   "execution_count": 48,
   "metadata": {},
   "outputs": [
    {
     "name": "stdout",
     "output_type": "stream",
     "text": [
      "Enter any year:1700\n",
      "False\n",
      "Not a leap year\n"
     ]
    }
   ],
   "source": [
    "##leap year\n",
    "\n",
    "x=int(input(\"Enter any year:\"))\n",
    "leap=False\n",
    "if x%4==0:\n",
    "    if x%100==0:\n",
    "        if x%400==0:\n",
    "            leap=True\n",
    "    else:\n",
    "        leap=True\n",
    "print(leap)\n",
    "\n",
    "#OR\n",
    "\n",
    "year=x\n",
    "if(year%100 and year%4==0 ) or (year%400==0):\n",
    "    print(\"Leap Year\")\n",
    "else:\n",
    "    print(\"Not a leap year\")"
   ]
  },
  {
   "cell_type": "code",
   "execution_count": 26,
   "metadata": {},
   "outputs": [
    {
     "name": "stdout",
     "output_type": "stream",
     "text": [
      "Enter a character:hg\n",
      "Invalid input\n"
     ]
    }
   ],
   "source": [
    "## Vowel and consonent\n",
    "\n",
    "x=input(\"Enter a character:\").lower()\n",
    "l = ['a','e','i','o','u']\n",
    "if len(x)==1:\n",
    "    if x in l:\n",
    "        print(\"Vowel\")\n",
    "    else:\n",
    "        print(\"Consonent\")\n",
    "else:\n",
    "    print(\"Invalid input\")"
   ]
  },
  {
   "cell_type": "code",
   "execution_count": 34,
   "metadata": {},
   "outputs": [
    {
     "name": "stdout",
     "output_type": "stream",
     "text": [
      "Enter month:3\n",
      "mar\n",
      "Before this: ['jan', 'feb', 'mar']\n",
      "After this: ['mar', 'apr', 'may', 'june', 'july', 'august', 'sept', 'oct', 'nov', 'dec']\n"
     ]
    }
   ],
   "source": [
    "##Month number\n",
    "\n",
    "l=['jan','feb','mar','apr','may','june','july','august','sept','oct','nov','dec']\n",
    "num=int(input(\"Enter month:\"))\n",
    "if num>=1  and num<=12:\n",
    "    print(l[num-1])\n",
    "    print(\"Before this:\",*l[0:num])\n",
    "    print(\"After this:\",*l[num-1:13])\n",
    "else:\n",
    "    print(\"Invalid input\")"
   ]
  },
  {
   "cell_type": "code",
   "execution_count": 37,
   "metadata": {},
   "outputs": [
    {
     "name": "stdout",
     "output_type": "stream",
     "text": [
      "Enter your percentage:98\n",
      "A+\n"
     ]
    }
   ],
   "source": [
    "## Grading\n",
    "\n",
    "s=int(input(\"Enter your percentage:\"))\n",
    "if s>=90 and s<=100:\n",
    "    print('A')\n",
    "elif s>=80:\n",
    "    print('B')\n",
    "elif s>=70:\n",
    "    print('C')\n",
    "elif s>=60:\n",
    "    print('D')\n",
    "elif s>=40:\n",
    "    print('E')\n",
    "else:\n",
    "    print('F')\n"
   ]
  },
  {
   "cell_type": "code",
   "execution_count": 54,
   "metadata": {},
   "outputs": [
    {
     "name": "stdout",
     "output_type": "stream",
     "text": [
      "Enter a string:kirti@dh\n",
      "Special character\n"
     ]
    }
   ],
   "source": [
    "import re\n",
    "s=input(\"Enter a string:\")\n",
    "if (len(s)==len(re.findall('[\\w\\d]',s))):\n",
    "    print(\"Normal String\")\n",
    "else:\n",
    "    print(\"Special character\")"
   ]
  },
  {
   "cell_type": "code",
   "execution_count": null,
   "metadata": {
    "collapsed": true
   },
   "outputs": [],
   "source": [
    "if condition:\n",
    "    \n",
    "    statement()\n",
    "elif condition:\n",
    "    statement()\n",
    "else:\n",
    "    statement"
   ]
  },
  {
   "cell_type": "code",
   "execution_count": null,
   "metadata": {
    "collapsed": true
   },
   "outputs": [],
   "source": [
    "if condition:\n",
    "    if coondition:\n",
    "        statement\n",
    "    else:\n",
    "        statement\n",
    "    \n",
    "else:\n",
    "      statement"
   ]
  },
  {
   "cell_type": "code",
   "execution_count": null,
   "metadata": {
    "collapsed": true
   },
   "outputs": [],
   "source": [
    "help(set())"
   ]
  }
 ],
 "metadata": {
  "kernelspec": {
   "display_name": "Python 3",
   "language": "python",
   "name": "python3"
  },
  "language_info": {
   "codemirror_mode": {
    "name": "ipython",
    "version": 3
   },
   "file_extension": ".py",
   "mimetype": "text/x-python",
   "name": "python",
   "nbconvert_exporter": "python",
   "pygments_lexer": "ipython3",
   "version": "3.6.3"
  }
 },
 "nbformat": 4,
 "nbformat_minor": 2
}
