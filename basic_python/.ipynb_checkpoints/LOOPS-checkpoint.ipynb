{
 "cells": [
  {
   "cell_type": "markdown",
   "metadata": {},
   "source": [
    "# LOOPS"
   ]
  },
  {
   "cell_type": "markdown",
   "metadata": {},
   "source": [
    "LOOPS in python\n",
    "\n",
    "1.While loop<br>\n",
    "2.for loop\n"
   ]
  },
  {
   "cell_type": "code",
   "execution_count": null,
   "metadata": {
    "collapsed": true
   },
   "outputs": [],
   "source": [
    "x=1\n",
    "while x<11:\n",
    "    print(\"Hello World\")\n",
    "    x=x+1"
   ]
  },
  {
   "cell_type": "code",
   "execution_count": null,
   "metadata": {
    "collapsed": true
   },
   "outputs": [],
   "source": [
    "x=1\n",
    "while x<101:\n",
    "    print(x,end=\" \")\n",
    "    x+=1\n",
    "    "
   ]
  },
  {
   "cell_type": "code",
   "execution_count": null,
   "metadata": {
    "collapsed": true
   },
   "outputs": [],
   "source": [
    "x=100\n",
    "while x>=1:\n",
    "    if x%2:\n",
    "        print(x,end=\" \")\n",
    "    x-=1\n",
    "        "
   ]
  },
  {
   "cell_type": "code",
   "execution_count": null,
   "metadata": {
    "collapsed": true
   },
   "outputs": [],
   "source": [
    "x={7,10,1,2,3,45,4,2}"
   ]
  },
  {
   "cell_type": "code",
   "execution_count": null,
   "metadata": {
    "collapsed": true
   },
   "outputs": [],
   "source": [
    "x.pop()\n",
    "print(x)"
   ]
  },
  {
   "cell_type": "code",
   "execution_count": null,
   "metadata": {
    "collapsed": true
   },
   "outputs": [],
   "source": [
    "from random import randint\n",
    "x=randint(1,50)\n",
    "j=1\n",
    "while j<=5:\n",
    "    i=int(input(\"Enter a guess:\"))\n",
    "    if i>x:\n",
    "        print(\"Your guess is higher\")\n",
    "    elif i<x:\n",
    "        print(\"You guess is low\")\n",
    "    elif x==i:\n",
    "        print(\"you are winner\")\n",
    "        break\n",
    "    j+=1\n",
    "if j==6:\n",
    "    print(\"You are loser\")\n",
    "    \n",
    "\n",
    "    \n",
    "\n",
    "    \n"
   ]
  },
  {
   "cell_type": "code",
   "execution_count": null,
   "metadata": {
    "collapsed": true
   },
   "outputs": [],
   "source": [
    "from random import randint\n",
    "x=randint(1,3)\n",
    "chk='y'\n",
    "while(chk=='y'):\n",
    "    y=int(input(\"Enter your choice \\n1.rock \\n2.paper \\n3.Scissor\\n:\"))\n",
    "    if (x==1 and y==2) or (x==2 and y==3) or (x==3 and y==1):\n",
    "        print(\"You win\")\n",
    "        print(\" comp Choice:\",x)\n",
    "    elif (x==1 and y==3) or (x==2 and y==1) or (x==3 and y==2):\n",
    "        print(\"You failed\")\n",
    "        print(\"comp choice:\",x)\n",
    "    else:\n",
    "        print(\"Tie\")\n",
    "        print(\"comp choice:\",x)\n",
    "    chk=input(\"You want to continue (Y/N)?\")\n",
    "        "
   ]
  },
  {
   "cell_type": "code",
   "execution_count": null,
   "metadata": {
    "collapsed": true
   },
   "outputs": [],
   "source": [
    "from random import choice\n",
    "x=choice(['r','p','s'])\n",
    "chk='y'\n",
    "while(chk=='y'):\n",
    "    y=input(\"Enter your choice \\n1.rock(r) \\n2.paper(p) \\n3.Scissor(s)\\n:\")\n",
    "    if (x=='r' and y=='p') or (x=='p' and y=='s') or (x=='s' and y=='r'):\n",
    "        print(\"You win\")\n",
    "        print(\" comp Choice:\",x)\n",
    "    elif (x=='r' and y=='s') or (x=='p' and y=='r') or (x=='s' and y=='p'):\n",
    "        print(\"You failed\")\n",
    "        print(\"comp choice:\",x)\n",
    "    else:\n",
    "        print(\"Tie\")\n",
    "        print(\"comp choice:\",x)\n",
    "    chk=input(\"You want to continue (Y/N)?\")"
   ]
  },
  {
   "cell_type": "code",
   "execution_count": null,
   "metadata": {},
   "outputs": [
    {
     "name": "stdout",
     "output_type": "stream",
     "text": [
      "Enter how many players wants to play:4\n",
      "Enter 1 player name:A\n",
      "Enter 2 player name:B\n",
      "Enter 3 player name:C\n",
      "Enter 4 player name:D\n",
      "D will have to choose d\n"
     ]
    }
   ],
   "source": [
    "from random import choice\n",
    "from random import randint\n",
    "chk='y'\n",
    "l=[]\n",
    "num=int(input(\"Enter how many players wants to play:\"))\n",
    "for i in range(1,num+1):\n",
    "    l.append(input(\"Enter {} player name:\".format(i)))\n",
    "while chk=='y':\n",
    "    c=choice(['t','d','s'])\n",
    "    cd=choice(l)\n",
    "    print(\"{} will have to choose {}\".format(cd,c))\n",
    "    chk=input(\"Do you want to continue(y/n)?\").strip().lower()\n",
    "    \n",
    "    \n",
    "    "
   ]
  },
  {
   "cell_type": "code",
   "execution_count": 4,
   "metadata": {},
   "outputs": [
    {
     "name": "stdout",
     "output_type": "stream",
     "text": [
      "Rolled dice is: 6\n",
      "Do you want to continue(y/n)?y\n",
      "Rolled dice is: 3\n",
      "Do you want to continue(y/n)?y\n",
      "Rolled dice is: 1\n",
      "Do you want to continue(y/n)?n\n"
     ]
    }
   ],
   "source": [
    "import random\n",
    "chk='y'\n",
    "while(chk=='y'):\n",
    "    x=random.randint(1,6)\n",
    "    print(\"Rolled dice is:\",x)\n",
    "    chk=input(\"Do you want to continue(y/n)?\").strip().lower()\n",
    "    "
   ]
  },
  {
   "cell_type": "code",
   "execution_count": 1,
   "metadata": {},
   "outputs": [
    {
     "name": "stdout",
     "output_type": "stream",
     "text": [
      "\n",
      "Your Guess (r,p,s) : 45\n",
      "\n",
      "Computer Guess  s\n",
      "Your Guess  45\n",
      "You Have Won The Guess\n",
      "\n",
      "\n",
      "\n",
      "Do you want to play again y/n : y\n",
      "\n",
      "Your Guess (r,p,s) : r\n",
      "\n",
      "Computer Guess  s\n",
      "Your Guess  r\n",
      "You Have Won The Guess\n",
      "\n",
      "\n",
      "\n",
      "Do you want to play again y/n : y\n",
      "\n",
      "Your Guess (r,p,s) : s\n",
      "\n",
      "Computer Guess  s\n",
      "Your Guess  s\n",
      "Match Tie\n",
      "\n",
      "\n",
      "\n",
      "Do you want to play again y/n : n\n"
     ]
    }
   ],
   "source": [
    "from random import choice\n",
    "l = [ 'r','p','s' ]\n",
    "com_Wins = [ ('r','s'), ('p','r'), ('s','p') ]\n",
    "while True :\n",
    "    comGuess  = choice(l)\n",
    "    userGuess = input(\"\\nYour Guess (r,p,s) : \").strip().lower()\n",
    "    condition = (comGuess,userGuess)\n",
    "    if condition in com_Wins :\n",
    "        print(\"\\nComputer Guess \",comGuess)\n",
    "        print(\"Your Guess \",userGuess)\n",
    "        print(\"You Such a Looser\")\n",
    "    elif comGuess == userGuess :\n",
    "        print(\"\\nComputer Guess \",comGuess)\n",
    "        print(\"Your Guess \",userGuess)\n",
    "        print(\"Match Tie\")\n",
    "        \n",
    "    else :\n",
    "        print(\"\\nComputer Guess \",comGuess)\n",
    "        print(\"Your Guess \",userGuess)\n",
    "        print(\"You Have Won The Guess\")\n",
    "\n",
    "    ch = input(\"\\n\\n\\nDo you want to play again y/n : \").strip().lower()\n",
    "    if not ( ch == 'y'  or  ch == 'yes'):\n",
    "        break"
   ]
  },
  {
   "cell_type": "code",
   "execution_count": null,
   "metadata": {},
   "outputs": [
    {
     "name": "stdout",
     "output_type": "stream",
     "text": [
      "\n",
      "Your Guess (1,50) : 45\n",
      "\n",
      "Be in Limits Think Lower\n",
      "\n",
      "Your Guess (1,50) : 24\n",
      "\n",
      "Be Big Think Big\n",
      "\n",
      "Your Guess (1,50) : 35\n",
      "\n",
      "Be Big Think Big\n",
      "\n",
      "Your Guess (1,50) : 40\n",
      "\n",
      "Be in Limits Think Lower\n",
      "\n",
      "Your Guess (1,50) : 37\n",
      "\n",
      "Be Big Think Big\n",
      "\n",
      "Computer Guess was  38\n",
      "\n",
      "You Such a Looser\n"
     ]
    }
   ],
   "source": [
    "from random import randint\n",
    "while True :\n",
    "    comGuess = randint(1,50)\n",
    "    x = 1\n",
    "    while x <= 5 :\n",
    "        userGuess = int(input(\"\\nYour Guess (1,50) : \"))\n",
    "        if comGuess > userGuess :\n",
    "            print(\"\\nBe Big Think Big\")\n",
    "        elif comGuess < userGuess :\n",
    "            print(\"\\nBe in Limits Think Lower\")\n",
    "        else :\n",
    "            print(\"\\nComputer Guess was \",comGuess)\n",
    "            print(\"\\nYou Have Won This Game\")\n",
    "            break\n",
    "        if x == 5 :\n",
    "            print(\"\\nComputer Guess was \",comGuess)\n",
    "            print(\"\\nYou Such a Looser\")\n",
    "        x  = x + 1\n",
    "    ch = input(\"\\n\\nDo want to play again y/n : \").strip().lower()\n",
    "    if ch == 'y' or ch == 'yes' :\n",
    "        pass\n",
    "    else :\n",
    "        break"
   ]
  },
  {
   "cell_type": "code",
   "execution_count": null,
   "metadata": {
    "collapsed": true
   },
   "outputs": [],
   "source": []
  }
 ],
 "metadata": {
  "kernelspec": {
   "display_name": "Python 3",
   "language": "python",
   "name": "python3"
  },
  "language_info": {
   "codemirror_mode": {
    "name": "ipython",
    "version": 3
   },
   "file_extension": ".py",
   "mimetype": "text/x-python",
   "name": "python",
   "nbconvert_exporter": "python",
   "pygments_lexer": "ipython3",
   "version": "3.6.3"
  }
 },
 "nbformat": 4,
 "nbformat_minor": 2
}
