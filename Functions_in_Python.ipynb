{
 "cells": [
  {
   "cell_type": "markdown",
   "metadata": {},
   "source": [
    "# Function"
   ]
  },
  {
   "cell_type": "markdown",
   "metadata": {},
   "source": [
    "group of statement to perform a specific task"
   ]
  },
  {
   "cell_type": "markdown",
   "metadata": {},
   "source": [
    "Why functions are not statement:\n",
    "<br><br>\n",
    "Reusability of code\n"
   ]
  },
  {
   "cell_type": "markdown",
   "metadata": {},
   "source": [
    "How does a function works:\n",
    "<br><br>\n",
    "1.function definition<br>:-know what to do and how to do<br>\n",
    "2.calling function<br>:-Repeat definition whenever needed<br>\n",
    "3.return<br>:-Always get something when we call function<br>"
   ]
  },
  {
   "cell_type": "markdown",
   "metadata": {},
   "source": [
    "def fn_name(arg):<br>\n",
    ".......st1<br>\n",
    ".......st2<br>\n",
    ".......st3<br>\n",
    "return\n"
   ]
  },
  {
   "cell_type": "code",
   "execution_count": 2,
   "metadata": {},
   "outputs": [],
   "source": [
    "def hello():\n",
    "    print(\"Hello world\")"
   ]
  },
  {
   "cell_type": "code",
   "execution_count": 4,
   "metadata": {},
   "outputs": [
    {
     "name": "stdout",
     "output_type": "stream",
     "text": [
      "Hello world\n",
      "None\n"
     ]
    }
   ],
   "source": [
    "print(hello())"
   ]
  },
  {
   "cell_type": "code",
   "execution_count": 7,
   "metadata": {
    "collapsed": true
   },
   "outputs": [],
   "source": [
    "#function can return(exit status)\n",
    "#0-:zero error\n",
    "#1:-minor error\n",
    "#-1:-major error\n"
   ]
  },
  {
   "cell_type": "code",
   "execution_count": 8,
   "metadata": {
    "collapsed": true
   },
   "outputs": [],
   "source": [
    "#function can  also takes argument (info) to process\n",
    "def hello(name):#formal arguments/parameters\n",
    "    print(\"Hello world\")\n",
    "    print(\"Welcome user,\",name)\n",
    "    return True#Exit status\n",
    "\n",
    "    "
   ]
  },
  {
   "cell_type": "code",
   "execution_count": 9,
   "metadata": {},
   "outputs": [
    {
     "name": "stdout",
     "output_type": "stream",
     "text": [
      "Hello world\n",
      "Welcome user, kirti\n",
      "True\n"
     ]
    }
   ],
   "source": [
    "print(hello(\"kirti\"))"
   ]
  },
  {
   "cell_type": "code",
   "execution_count": 10,
   "metadata": {},
   "outputs": [
    {
     "name": "stdout",
     "output_type": "stream",
     "text": [
      "Enter your name:kirti\n",
      "Hello world\n",
      "Welcome user, kirti\n",
      "Function successfully\n"
     ]
    }
   ],
   "source": [
    "if hello(input(\"Enter your name:\")):\n",
    "    print(\"Function successfully\")\n",
    "else:\n",
    "    print(\"There is an error in function\")"
   ]
  },
  {
   "cell_type": "code",
   "execution_count": 18,
   "metadata": {
    "collapsed": true
   },
   "outputs": [],
   "source": [
    "import math\n",
    "def prime(num):\n",
    "    for i in range(2,round(math.sqrt(num)+1)):\n",
    "        if num%i==0:\n",
    "            return False\n",
    "    return True"
   ]
  },
  {
   "cell_type": "code",
   "execution_count": 22,
   "metadata": {},
   "outputs": [
    {
     "name": "stdout",
     "output_type": "stream",
     "text": [
      "Enter a  number:21\n",
      "False\n"
     ]
    }
   ],
   "source": [
    "x=int(input(\"Enter a  number:\"))\n",
    "print(prime(x))"
   ]
  },
  {
   "cell_type": "code",
   "execution_count": 24,
   "metadata": {
    "collapsed": true
   },
   "outputs": [],
   "source": [
    "def prime_range(start,end):\n",
    "    for i in range(start,end+1):\n",
    "        if prime(i):\n",
    "            print(i,end=\" \")\n",
    "    print()"
   ]
  },
  {
   "cell_type": "code",
   "execution_count": 25,
   "metadata": {},
   "outputs": [
    {
     "name": "stdout",
     "output_type": "stream",
     "text": [
      "Enter starting range:1\n",
      "Enter ending range200\n",
      "1 2 3 5 7 11 13 17 19 23 29 31 37 41 43 47 53 59 61 67 71 73 79 83 89 97 101 103 107 109 113 127 131 137 139 149 151 157 163 167 173 179 181 191 193 197 199 \n"
     ]
    }
   ],
   "source": [
    "start=int(input(\"Enter starting range:\"))\n",
    "end=int(input(\"Enter ending range:\"))\n",
    "prime_range(start,end)"
   ]
  },
  {
   "cell_type": "code",
   "execution_count": 29,
   "metadata": {},
   "outputs": [
    {
     "name": "stdout",
     "output_type": "stream",
     "text": [
      "Enter a list1 2 3 4 5 6\n",
      "[1, 2, 3, 4, 5, 6]\n"
     ]
    }
   ],
   "source": [
    "l=map(int,input(\"Enter a list\").split(\" \"))\n",
    "l1=list(l)\n",
    "print(l1)"
   ]
  },
  {
   "cell_type": "code",
   "execution_count": null,
   "metadata": {
    "collapsed": true
   },
   "outputs": [],
   "source": []
  }
 ],
 "metadata": {
  "kernelspec": {
   "display_name": "Python 3",
   "language": "python",
   "name": "python3"
  },
  "language_info": {
   "codemirror_mode": {
    "name": "ipython",
    "version": 3
   },
   "file_extension": ".py",
   "mimetype": "text/x-python",
   "name": "python",
   "nbconvert_exporter": "python",
   "pygments_lexer": "ipython3",
   "version": "3.6.3"
  }
 },
 "nbformat": 4,
 "nbformat_minor": 2
}
