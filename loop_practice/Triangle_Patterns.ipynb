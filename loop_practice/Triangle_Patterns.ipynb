{
 "cells": [
  {
   "cell_type": "markdown",
   "metadata": {},
   "source": [
    "# By nested loop"
   ]
  },
  {
   "cell_type": "code",
   "execution_count": 22,
   "metadata": {},
   "outputs": [
    {
     "name": "stdout",
     "output_type": "stream",
     "text": [
      "Enter size:5\n",
      "1 2 3 4 5 \n",
      "1 2 3 4 5 \n",
      "1 2 3 4 5 \n",
      "1 2 3 4 5 \n",
      "1 2 3 4 5 \n"
     ]
    }
   ],
   "source": [
    "n=int(input(\"Enter size:\"))\n",
    "for i in range(n):\n",
    "    for j in range(n):\n",
    "        print(j+1,end=\" \")\n",
    "    print()"
   ]
  },
  {
   "cell_type": "code",
   "execution_count": 23,
   "metadata": {},
   "outputs": [
    {
     "name": "stdout",
     "output_type": "stream",
     "text": [
      "Enter size:5\n",
      "* \n",
      "* * \n",
      "* * * \n",
      "* * * * \n",
      "* * * * * \n"
     ]
    }
   ],
   "source": [
    "n=int(input(\"Enter size:\"))\n",
    "for i in range(n):\n",
    "    for j in range(i+1):\n",
    "        print('*',end=\" \")\n",
    "    print()"
   ]
  },
  {
   "cell_type": "code",
   "execution_count": 24,
   "metadata": {},
   "outputs": [
    {
     "name": "stdout",
     "output_type": "stream",
     "text": [
      "Enter size:5\n",
      "* * * * * \n",
      "* * * *   \n",
      "* * *     \n",
      "* *       \n",
      "*         \n"
     ]
    }
   ],
   "source": [
    "n=int(input(\"Enter size:\"))\n",
    "for i in range(n):\n",
    "    for j in range(n):\n",
    "        if j+i<n:\n",
    "            print('*',end=\" \")\n",
    "        else:\n",
    "            print(' ',end=\" \")\n",
    "    print()"
   ]
  },
  {
   "cell_type": "code",
   "execution_count": 25,
   "metadata": {},
   "outputs": [
    {
     "name": "stdout",
     "output_type": "stream",
     "text": [
      "Enter size:5\n",
      "        * \n",
      "      * * \n",
      "    * * * \n",
      "  * * * * \n",
      "* * * * * \n"
     ]
    }
   ],
   "source": [
    "n=int(input(\"Enter size:\"))\n",
    "for i in range(n):\n",
    "    for j in range(n):\n",
    "        if i+j>=n-1:\n",
    "            print('*',end=\" \")\n",
    "        else:\n",
    "            print(' ',end=\" \")\n",
    "    print()"
   ]
  },
  {
   "cell_type": "code",
   "execution_count": 26,
   "metadata": {},
   "outputs": [
    {
     "name": "stdout",
     "output_type": "stream",
     "text": [
      "Enter size:5\n",
      "* * * * * \n",
      "  * * * * \n",
      "    * * * \n",
      "      * * \n",
      "        * \n"
     ]
    }
   ],
   "source": [
    "n=int(input(\"Enter size:\"))\n",
    "for i in range(n):\n",
    "    for j in range(n):\n",
    "        if i<=j:\n",
    "            print('*',end=\" \")\n",
    "        else:\n",
    "            print(' ',end=\" \")\n",
    "    print()"
   ]
  },
  {
   "cell_type": "code",
   "execution_count": 27,
   "metadata": {},
   "outputs": [
    {
     "name": "stdout",
     "output_type": "stream",
     "text": [
      "Enter size:5\n",
      "        * \n",
      "      * * * \n",
      "    * * * * * \n",
      "  * * * * * * * \n",
      "* * * * * * * * * \n"
     ]
    }
   ],
   "source": [
    "n=int(input(\"Enter size:\"))\n",
    "for i in range(n):\n",
    "    for j in range(n):\n",
    "        if i+j>=n-1:\n",
    "            print('*',end=\" \")\n",
    "        else:\n",
    "            print(' ',end=\" \")\n",
    "    if i==0:\n",
    "        pass\n",
    "    else:\n",
    "        for j in range(0,i):\n",
    "            print('*',end=' ')\n",
    "    print()"
   ]
  },
  {
   "cell_type": "code",
   "execution_count": 28,
   "metadata": {},
   "outputs": [
    {
     "name": "stdout",
     "output_type": "stream",
     "text": [
      "Enter size:5\n",
      "    *\n",
      "   ***\n",
      "  *****\n",
      " *******\n",
      "*********\n",
      "*********\n",
      " *******\n",
      "  *****\n",
      "   ***\n",
      "    *\n"
     ]
    }
   ],
   "source": [
    "n=int(input(\"Enter size:\"))\n",
    "for i in range(n):\n",
    "    for j in range(n):\n",
    "        if i+j>=n-1:\n",
    "            print('*',end=\"\")\n",
    "        else:\n",
    "            print(' ',end=\"\")            \n",
    "    if i==0:\n",
    "        pass\n",
    "    else:\n",
    "        for j in range(0,i):\n",
    "            print('*',end='')\n",
    "    print()\n",
    "for i in range(n):\n",
    "    for j in range(n):\n",
    "        if i<=j:\n",
    "            print('*',end=\"\")\n",
    "        else:\n",
    "            print(' ',end=\"\")\n",
    "    for j in range(n):\n",
    "        if j+i<n-1:\n",
    "            print('*',end=\"\")\n",
    "    print()"
   ]
  },
  {
   "cell_type": "code",
   "execution_count": null,
   "metadata": {
    "collapsed": true
   },
   "outputs": [],
   "source": [
    "for i in range()"
   ]
  },
  {
   "cell_type": "code",
   "execution_count": null,
   "metadata": {
    "collapsed": true
   },
   "outputs": [],
   "source": []
  },
  {
   "cell_type": "code",
   "execution_count": null,
   "metadata": {
    "collapsed": true
   },
   "outputs": [],
   "source": []
  },
  {
   "cell_type": "code",
   "execution_count": null,
   "metadata": {
    "collapsed": true
   },
   "outputs": [],
   "source": []
  },
  {
   "cell_type": "code",
   "execution_count": null,
   "metadata": {
    "collapsed": true
   },
   "outputs": [],
   "source": []
  },
  {
   "cell_type": "code",
   "execution_count": null,
   "metadata": {
    "collapsed": true
   },
   "outputs": [],
   "source": []
  },
  {
   "cell_type": "code",
   "execution_count": null,
   "metadata": {
    "collapsed": true
   },
   "outputs": [],
   "source": []
  },
  {
   "cell_type": "code",
   "execution_count": null,
   "metadata": {
    "collapsed": true
   },
   "outputs": [],
   "source": []
  },
  {
   "cell_type": "code",
   "execution_count": null,
   "metadata": {
    "collapsed": true
   },
   "outputs": [],
   "source": []
  },
  {
   "cell_type": "code",
   "execution_count": null,
   "metadata": {
    "collapsed": true
   },
   "outputs": [],
   "source": []
  },
  {
   "cell_type": "markdown",
   "metadata": {},
   "source": [
    "# By Multiplication of string"
   ]
  },
  {
   "cell_type": "code",
   "execution_count": 29,
   "metadata": {},
   "outputs": [
    {
     "name": "stdout",
     "output_type": "stream",
     "text": [
      "Enter size:5\n",
      "*****\n",
      "****\n",
      "***\n",
      "**\n",
      "*\n"
     ]
    }
   ],
   "source": [
    "n=int(input(\"Enter size:\"))\n",
    "i=0\n",
    "while i<n:\n",
    "    print(\"*\"*(n-i),end=\"\")\n",
    "    i+=1\n",
    "    print()"
   ]
  },
  {
   "cell_type": "code",
   "execution_count": 30,
   "metadata": {},
   "outputs": [
    {
     "name": "stdout",
     "output_type": "stream",
     "text": [
      "Enter size:5\n",
      "*\n",
      "**\n",
      "***\n",
      "****\n",
      "*****\n"
     ]
    }
   ],
   "source": [
    "n=int(input(\"Enter size:\"))\n",
    "i=1\n",
    "while i<=n:\n",
    "    print(\"*\"*i,end='')\n",
    "    i+=1\n",
    "    print()"
   ]
  },
  {
   "cell_type": "code",
   "execution_count": 31,
   "metadata": {},
   "outputs": [
    {
     "name": "stdout",
     "output_type": "stream",
     "text": [
      "Enter size:5\n",
      "    *\n",
      "   **\n",
      "  ***\n",
      " ****\n",
      "*****\n"
     ]
    }
   ],
   "source": [
    "n=int(input(\"Enter size:\"))\n",
    "i=1\n",
    "while i<=n:\n",
    "    print(\" \"*(n-i),end=\"\")\n",
    "    print(\"*\"*(i),end='')\n",
    "    i+=1\n",
    "    print()"
   ]
  },
  {
   "cell_type": "code",
   "execution_count": 32,
   "metadata": {},
   "outputs": [
    {
     "name": "stdout",
     "output_type": "stream",
     "text": [
      "Enter size:5\n",
      "*****\n",
      " ****\n",
      "  ***\n",
      "   **\n",
      "    *\n"
     ]
    }
   ],
   "source": [
    "n=int(input(\"Enter size:\"))\n",
    "i=0\n",
    "while i<n:\n",
    "    print(\" \"*(i),end=\"\")\n",
    "    print(\"*\"*(n-i),end='')\n",
    "    i+=1\n",
    "    print()"
   ]
  },
  {
   "cell_type": "code",
   "execution_count": 33,
   "metadata": {},
   "outputs": [
    {
     "name": "stdout",
     "output_type": "stream",
     "text": [
      "Enter size:5\n",
      "*        *\n",
      "**      **\n",
      "***    ***\n",
      "****  ****\n",
      "**********\n",
      "****  ****\n",
      "***    ***\n",
      "**      **\n",
      "*        *\n"
     ]
    }
   ],
   "source": [
    "n=int(input(\"Enter size:\"))\n",
    "i=1\n",
    "while i<=n:\n",
    "    print(\"*\"*i,end='')\n",
    "    print(' '*(n-i),end='')\n",
    "    print(\" \"*(n-i),end=\"\")\n",
    "    print(\"*\"*(i),end='')\n",
    "    i+=1\n",
    "    print()\n",
    "i=1\n",
    "while i<n:\n",
    "    print(\"*\"*(n-i),end=\"\")\n",
    "    print(\" \"*i,end='')\n",
    "    print(\" \"*(i),end=\"\")\n",
    "    print(\"*\"*(n-i),end='')\n",
    "    i+=1\n",
    "    print()"
   ]
  },
  {
   "cell_type": "code",
   "execution_count": 34,
   "metadata": {},
   "outputs": [
    {
     "name": "stdout",
     "output_type": "stream",
     "text": [
      "Enter size:5\n",
      "$ **** **** $ \n",
      "$$ *** *** $$ \n",
      "$$$ ** ** $$$ \n",
      "$$$$ * * $$$$ \n",
      "$$$$$   $$$$$ \n",
      "$$$$$   $$$$$ \n",
      "$$$$ * * $$$$ \n",
      "$$$ ** ** $$$ \n",
      "$$ *** *** $$ \n",
      "$ **** **** $ \n"
     ]
    }
   ],
   "source": [
    "n=int(input(\"Enter size:\"))\n",
    "i=1\n",
    "while i<=n:\n",
    "    print(\"$\"*i,end=' ')\n",
    "    print('*'*(n-i),end=' ')\n",
    "    print(\"*\"*(n-i),end=\" \")\n",
    "    print(\"$\"*(i),end=' ')\n",
    "    i+=1\n",
    "    print()\n",
    "i=0\n",
    "while i<n:\n",
    "    print(\"$\"*(n-i),end=\" \")\n",
    "    print(\"*\"*i,end=' ')\n",
    "    print(\"*\"*(i),end=\" \")\n",
    "    print(\"$\"*(n-i),end=' ')\n",
    "    i+=1\n",
    "    print()"
   ]
  },
  {
   "cell_type": "code",
   "execution_count": 5,
   "metadata": {},
   "outputs": [
    {
     "name": "stdout",
     "output_type": "stream",
     "text": [
      "Enter size of swastik:10\n",
      "*        ***********\n",
      "*        *\n",
      "*        *\n",
      "*        *\n",
      "*        *\n",
      "*        *\n",
      "*        *\n",
      "*        *\n",
      "*        *\n",
      "*        *\n",
      "*******************\n",
      "         *        *\n",
      "         *        *\n",
      "         *        *\n",
      "         *        *\n",
      "         *        *\n",
      "         *        *\n",
      "         *        *\n",
      "         *        *\n",
      "**********        *\n",
      "\n"
     ]
    }
   ],
   "source": [
    "n=int(input(\"Enter size of swastik:\"))\n",
    "i=0\n",
    "\n",
    "while i<2*n:\n",
    "    if i==0:\n",
    "        print(\"*\",end='')\n",
    "        print(\" \"*(n-2),end='')\n",
    "        print(\"*\"*(n+1),end='')\n",
    "    elif i<n:\n",
    "        print(\"*\",end='')\n",
    "        print(\" \"*(n-2),end='')\n",
    "        print(\"*\",end=\"\")\n",
    "    elif i==n:\n",
    "        print(\"*\"*(2*n-1),end=\"\")\n",
    "    elif i<(2*n-1):\n",
    "        print(\" \"*(n-1),end='')\n",
    "        print(\"*\",end='')\n",
    "        print(\" \"*(n-2),end='')\n",
    "        print(\"*\",end='')\n",
    "    else:\n",
    "        print(\"*\"*n,end=\"\")\n",
    "        print(\" \"*(n-2),end=\"\")\n",
    "        print(\"*\")\n",
    "    \n",
    "    print()\n",
    "    i+=1"
   ]
  },
  {
   "cell_type": "code",
   "execution_count": 1,
   "metadata": {},
   "outputs": [
    {
     "name": "stdout",
     "output_type": "stream",
     "text": [
      "Enter size:7\n",
      "------------g------------\n",
      "----------g-f-g----------\n",
      "--------g-f-e-f-g--------\n",
      "------g-f-e-d-e-f-g------\n",
      "----g-f-e-d-c-d-e-f-g----\n",
      "--g-f-e-d-c-b-c-d-e-f-g--\n",
      "g-f-e-d-c-b-a-b-c-d-e-f-g\n",
      "--g-f-e-d-c-b-c-d-e-f-g--\n",
      "----g-f-e-d-c-d-e-f-g----\n",
      "------g-f-e-d-e-f-g------\n",
      "--------g-f-e-f-g--------\n",
      "----------g-f-g----------\n",
      "------------g------------\n"
     ]
    }
   ],
   "source": [
    "x=\"abcdefghijklmnopqrstuvwxyz\"\n",
    "n=int(input(\"Enter size:\"))\n",
    "l=[]\n",
    "i=0\n",
    "while i<n:\n",
    "    s='-'.join(x[i:n:])\n",
    "    l.append(s[::-1]+s[1::])\n",
    "    i+=1\n",
    "j=n-1\n",
    "while j>0:\n",
    "    print(l[j].center(len(l[0]),'-'))\n",
    "    j-=1\n",
    "while j<n:\n",
    "    print(l[j].center(len(l[0]),'-'))\n",
    "    j+=1\n",
    "    "
   ]
  },
  {
   "cell_type": "code",
   "execution_count": null,
   "metadata": {
    "collapsed": true
   },
   "outputs": [],
   "source": []
  },
  {
   "cell_type": "code",
   "execution_count": 15,
   "metadata": {},
   "outputs": [
    {
     "name": "stdout",
     "output_type": "stream",
     "text": [
      "Enter size:9\n",
      "9 9 9 9 9 9 9 9 9 9 9 9 9 9 9 9 9 \n",
      "9 8 8 8 8 8 8 8 8 8 8 8 8 8 8 8 9 \n",
      "9 8 7 7 7 7 7 7 7 7 7 7 7 7 7 8 9 \n",
      "9 8 7 6 6 6 6 6 6 6 6 6 6 6 7 8 9 \n",
      "9 8 7 6 5 5 5 5 5 5 5 5 5 6 7 8 9 \n",
      "9 8 7 6 5 4 4 4 4 4 4 4 5 6 7 8 9 \n",
      "9 8 7 6 5 4 3 3 3 3 3 4 5 6 7 8 9 \n",
      "9 8 7 6 5 4 3 2 2 2 3 4 5 6 7 8 9 \n",
      "9 8 7 6 5 4 3 2 1 2 3 4 5 6 7 8 9 \n",
      "9 8 7 6 5 4 3 2 2 2 3 4 5 6 7 8 9 \n",
      "9 8 7 6 5 4 3 3 3 3 3 4 5 6 7 8 9 \n",
      "9 8 7 6 5 4 4 4 4 4 4 4 5 6 7 8 9 \n",
      "9 8 7 6 5 5 5 5 5 5 5 5 5 6 7 8 9 \n",
      "9 8 7 6 6 6 6 6 6 6 6 6 6 6 7 8 9 \n",
      "9 8 7 7 7 7 7 7 7 7 7 7 7 7 7 8 9 \n",
      "9 8 8 8 8 8 8 8 8 8 8 8 8 8 8 8 9 \n",
      "9 9 9 9 9 9 9 9 9 9 9 9 9 9 9 9 9 \n"
     ]
    }
   ],
   "source": [
    "n=int(input(\"Enter size:\"))\n",
    "for i in range(n,0,-1):\n",
    "    for j in range(n,i,-1):\n",
    "        print(j,end=\" \")\n",
    "    for j in range(n-i,(2*n-(n-i+1))):\n",
    "          print(i,end=\" \")\n",
    "    for j in range(i+1,n+1):\n",
    "        print(j,end=\" \")\n",
    "    print()\n",
    "for i in range(2,n+1):\n",
    "    for j in range(n,i,-1):\n",
    "        print(j,end=\" \")   \n",
    "    for j in range(2,i+2):\n",
    "        print(i,end=\" \")\n",
    "    for j in range(0,i-2):\n",
    "        if i>2:\n",
    "            print(i,end=\" \")\n",
    "    for j in range(i,n+1):\n",
    "        print(j,end=\" \")\n",
    "    print();\n",
    "    "
   ]
  },
  {
   "cell_type": "code",
   "execution_count": null,
   "metadata": {
    "collapsed": true
   },
   "outputs": [],
   "source": []
  },
  {
   "cell_type": "code",
   "execution_count": null,
   "metadata": {
    "collapsed": true
   },
   "outputs": [],
   "source": []
  }
 ],
 "metadata": {
  "kernelspec": {
   "display_name": "Python 3",
   "language": "python",
   "name": "python3"
  },
  "language_info": {
   "codemirror_mode": {
    "name": "ipython",
    "version": 3
   },
   "file_extension": ".py",
   "mimetype": "text/x-python",
   "name": "python",
   "nbconvert_exporter": "python",
   "pygments_lexer": "ipython3",
   "version": "3.6.3"
  }
 },
 "nbformat": 4,
 "nbformat_minor": 2
}
