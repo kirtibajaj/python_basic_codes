{
 "cells": [
  {
   "cell_type": "markdown",
   "metadata": {},
   "source": [
    "# By nested loop"
   ]
  },
  {
   "cell_type": "code",
   "execution_count": 22,
   "metadata": {},
   "outputs": [
    {
     "name": "stdout",
     "output_type": "stream",
     "text": [
      "Enter size:5\n",
      "1 2 3 4 5 \n",
      "1 2 3 4 5 \n",
      "1 2 3 4 5 \n",
      "1 2 3 4 5 \n",
      "1 2 3 4 5 \n"
     ]
    }
   ],
   "source": [
    "n=int(input(\"Enter size:\"))\n",
    "for i in range(n):\n",
    "    for j in range(n):\n",
    "        print(j+1,end=\" \")\n",
    "    print()"
   ]
  },
  {
   "cell_type": "code",
   "execution_count": 23,
   "metadata": {},
   "outputs": [
    {
     "name": "stdout",
     "output_type": "stream",
     "text": [
      "Enter size:5\n",
      "* \n",
      "* * \n",
      "* * * \n",
      "* * * * \n",
      "* * * * * \n"
     ]
    }
   ],
   "source": [
    "n=int(input(\"Enter size:\"))\n",
    "for i in range(n):\n",
    "    for j in range(i+1):\n",
    "        print('*',end=\" \")\n",
    "    print()"
   ]
  },
  {
   "cell_type": "code",
   "execution_count": 24,
   "metadata": {},
   "outputs": [
    {
     "name": "stdout",
     "output_type": "stream",
     "text": [
      "Enter size:5\n",
      "* * * * * \n",
      "* * * *   \n",
      "* * *     \n",
      "* *       \n",
      "*         \n"
     ]
    }
   ],
   "source": [
    "n=int(input(\"Enter size:\"))\n",
    "for i in range(n):\n",
    "    for j in range(n):\n",
    "        if j+i<n:\n",
    "            print('*',end=\" \")\n",
    "        else:\n",
    "            print(' ',end=\" \")\n",
    "    print()"
   ]
  },
  {
   "cell_type": "code",
   "execution_count": 25,
   "metadata": {},
   "outputs": [
    {
     "name": "stdout",
     "output_type": "stream",
     "text": [
      "Enter size:5\n",
      "        * \n",
      "      * * \n",
      "    * * * \n",
      "  * * * * \n",
      "* * * * * \n"
     ]
    }
   ],
   "source": [
    "n=int(input(\"Enter size:\"))\n",
    "for i in range(n):\n",
    "    for j in range(n):\n",
    "        if i+j>=n-1:\n",
    "            print('*',end=\" \")\n",
    "        else:\n",
    "            print(' ',end=\" \")\n",
    "    print()"
   ]
  },
  {
   "cell_type": "code",
   "execution_count": 26,
   "metadata": {},
   "outputs": [
    {
     "name": "stdout",
     "output_type": "stream",
     "text": [
      "Enter size:5\n",
      "* * * * * \n",
      "  * * * * \n",
      "    * * * \n",
      "      * * \n",
      "        * \n"
     ]
    }
   ],
   "source": [
    "n=int(input(\"Enter size:\"))\n",
    "for i in range(n):\n",
    "    for j in range(n):\n",
    "        if i<=j:\n",
    "            print('*',end=\" \")\n",
    "        else:\n",
    "            print(' ',end=\" \")\n",
    "    print()"
   ]
  },
  {
   "cell_type": "code",
   "execution_count": 27,
   "metadata": {},
   "outputs": [
    {
     "name": "stdout",
     "output_type": "stream",
     "text": [
      "Enter size:5\n",
      "        * \n",
      "      * * * \n",
      "    * * * * * \n",
      "  * * * * * * * \n",
      "* * * * * * * * * \n"
     ]
    }
   ],
   "source": [
    "n=int(input(\"Enter size:\"))\n",
    "for i in range(n):\n",
    "    for j in range(n):\n",
    "        if i+j>=n-1:\n",
    "            print('*',end=\" \")\n",
    "        else:\n",
    "            print(' ',end=\" \")\n",
    "    if i==0:\n",
    "        pass\n",
    "    else:\n",
    "        for j in range(0,i):\n",
    "            print('*',end=' ')\n",
    "    print()"
   ]
  },
  {
   "cell_type": "code",
   "execution_count": 28,
   "metadata": {},
   "outputs": [
    {
     "name": "stdout",
     "output_type": "stream",
     "text": [
      "Enter size:5\n",
      "    *\n",
      "   ***\n",
      "  *****\n",
      " *******\n",
      "*********\n",
      "*********\n",
      " *******\n",
      "  *****\n",
      "   ***\n",
      "    *\n"
     ]
    }
   ],
   "source": [
    "n=int(input(\"Enter size:\"))\n",
    "for i in range(n):\n",
    "    for j in range(n):\n",
    "        if i+j>=n-1:\n",
    "            print('*',end=\"\")\n",
    "        else:\n",
    "            print(' ',end=\"\")            \n",
    "    if i==0:\n",
    "        pass\n",
    "    else:\n",
    "        for j in range(0,i):\n",
    "            print('*',end='')\n",
    "    print()\n",
    "for i in range(n):\n",
    "    for j in range(n):\n",
    "        if i<=j:\n",
    "            print('*',end=\"\")\n",
    "        else:\n",
    "            print(' ',end=\"\")\n",
    "    for j in range(n):\n",
    "        if j+i<n-1:\n",
    "            print('*',end=\"\")\n",
    "    print()"
   ]
  },
  {
   "cell_type": "code",
   "execution_count": null,
   "metadata": {},
   "outputs": [],
   "source": []
  },
  {
   "cell_type": "code",
   "execution_count": null,
   "metadata": {},
   "outputs": [],
   "source": []
  },
  {
   "cell_type": "code",
   "execution_count": null,
   "metadata": {},
   "outputs": [],
   "source": []
  },
  {
   "cell_type": "code",
   "execution_count": null,
   "metadata": {},
   "outputs": [],
   "source": []
  },
  {
   "cell_type": "code",
   "execution_count": null,
   "metadata": {},
   "outputs": [],
   "source": []
  },
  {
   "cell_type": "code",
   "execution_count": null,
   "metadata": {},
   "outputs": [],
   "source": []
  },
  {
   "cell_type": "code",
   "execution_count": null,
   "metadata": {},
   "outputs": [],
   "source": []
  },
  {
   "cell_type": "code",
   "execution_count": null,
   "metadata": {},
   "outputs": [],
   "source": []
  },
  {
   "cell_type": "code",
   "execution_count": null,
   "metadata": {},
   "outputs": [],
   "source": []
  },
  {
   "cell_type": "code",
   "execution_count": null,
   "metadata": {},
   "outputs": [],
   "source": []
  },
  {
   "cell_type": "markdown",
   "metadata": {},
   "source": [
    "# By Multiplication of string"
   ]
  },
  {
   "cell_type": "code",
   "execution_count": 29,
   "metadata": {},
   "outputs": [
    {
     "name": "stdout",
     "output_type": "stream",
     "text": [
      "Enter size:5\n",
      "*****\n",
      "****\n",
      "***\n",
      "**\n",
      "*\n"
     ]
    }
   ],
   "source": [
    "n=int(input(\"Enter size:\"))\n",
    "i=0\n",
    "while i<n:\n",
    "    print(\"*\"*(n-i),end=\"\")\n",
    "    i+=1\n",
    "    print()"
   ]
  },
  {
   "cell_type": "code",
   "execution_count": 30,
   "metadata": {},
   "outputs": [
    {
     "name": "stdout",
     "output_type": "stream",
     "text": [
      "Enter size:5\n",
      "*\n",
      "**\n",
      "***\n",
      "****\n",
      "*****\n"
     ]
    }
   ],
   "source": [
    "n=int(input(\"Enter size:\"))\n",
    "i=1\n",
    "while i<=n:\n",
    "    print(\"*\"*i,end='')\n",
    "    i+=1\n",
    "    print()"
   ]
  },
  {
   "cell_type": "code",
   "execution_count": 31,
   "metadata": {},
   "outputs": [
    {
     "name": "stdout",
     "output_type": "stream",
     "text": [
      "Enter size:5\n",
      "    *\n",
      "   **\n",
      "  ***\n",
      " ****\n",
      "*****\n"
     ]
    }
   ],
   "source": [
    "n=int(input(\"Enter size:\"))\n",
    "i=1\n",
    "while i<=n:\n",
    "    print(\" \"*(n-i),end=\"\")\n",
    "    print(\"*\"*(i),end='')\n",
    "    i+=1\n",
    "    print()"
   ]
  },
  {
   "cell_type": "code",
   "execution_count": 32,
   "metadata": {},
   "outputs": [
    {
     "name": "stdout",
     "output_type": "stream",
     "text": [
      "Enter size:5\n",
      "*****\n",
      " ****\n",
      "  ***\n",
      "   **\n",
      "    *\n"
     ]
    }
   ],
   "source": [
    "n=int(input(\"Enter size:\"))\n",
    "i=0\n",
    "while i<n:\n",
    "    print(\" \"*(i),end=\"\")\n",
    "    print(\"*\"*(n-i),end='')\n",
    "    i+=1\n",
    "    print()"
   ]
  },
  {
   "cell_type": "code",
   "execution_count": 33,
   "metadata": {},
   "outputs": [
    {
     "name": "stdout",
     "output_type": "stream",
     "text": [
      "Enter size:5\n",
      "*        *\n",
      "**      **\n",
      "***    ***\n",
      "****  ****\n",
      "**********\n",
      "****  ****\n",
      "***    ***\n",
      "**      **\n",
      "*        *\n"
     ]
    }
   ],
   "source": [
    "n=int(input(\"Enter size:\"))\n",
    "i=1\n",
    "while i<=n:\n",
    "    print(\"*\"*i,end='')\n",
    "    print(' '*(n-i),end='')\n",
    "    print(\" \"*(n-i),end=\"\")\n",
    "    print(\"*\"*(i),end='')\n",
    "    i+=1\n",
    "    print()\n",
    "i=1\n",
    "while i<n:\n",
    "    print(\"*\"*(n-i),end=\"\")\n",
    "    print(\" \"*i,end='')\n",
    "    print(\" \"*(i),end=\"\")\n",
    "    print(\"*\"*(n-i),end='')\n",
    "    i+=1\n",
    "    print()"
   ]
  },
  {
   "cell_type": "code",
   "execution_count": 34,
   "metadata": {},
   "outputs": [
    {
     "name": "stdout",
     "output_type": "stream",
     "text": [
      "Enter size:5\n",
      "$ **** **** $ \n",
      "$$ *** *** $$ \n",
      "$$$ ** ** $$$ \n",
      "$$$$ * * $$$$ \n",
      "$$$$$   $$$$$ \n",
      "$$$$$   $$$$$ \n",
      "$$$$ * * $$$$ \n",
      "$$$ ** ** $$$ \n",
      "$$ *** *** $$ \n",
      "$ **** **** $ \n"
     ]
    }
   ],
   "source": [
    "n=int(input(\"Enter size:\"))\n",
    "i=1\n",
    "while i<=n:\n",
    "    print(\"$\"*i,end=' ')\n",
    "    print('*'*(n-i),end=' ')\n",
    "    print(\"*\"*(n-i),end=\" \")\n",
    "    print(\"$\"*(i),end=' ')\n",
    "    i+=1\n",
    "    print()\n",
    "i=0\n",
    "while i<n:\n",
    "    print(\"$\"*(n-i),end=\" \")\n",
    "    print(\"*\"*i,end=' ')\n",
    "    print(\"*\"*(i),end=\" \")\n",
    "    print(\"$\"*(n-i),end=' ')\n",
    "    i+=1\n",
    "    print()"
   ]
  },
  {
   "cell_type": "code",
   "execution_count": 19,
   "metadata": {},
   "outputs": [
    {
     "name": "stdout",
     "output_type": "stream",
     "text": [
      "Enter size of swastik:(odd no)15\n",
      "*             ****************\n",
      "*             *\n",
      "*             *\n",
      "*             *\n",
      "*             *\n",
      "*             *\n",
      "*             *\n",
      "*             *\n",
      "*             *\n",
      "*             *\n",
      "*             *\n",
      "*             *\n",
      "*             *\n",
      "*             *\n",
      "*             *\n",
      "*****************************\n",
      "              *             *\n",
      "              *             *\n",
      "              *             *\n",
      "              *             *\n",
      "              *             *\n",
      "              *             *\n",
      "              *             *\n",
      "              *             *\n",
      "              *             *\n",
      "              *             *\n",
      "              *             *\n",
      "              *             *\n",
      "              *             *\n",
      "***************             *\n",
      "\n"
     ]
    }
   ],
   "source": [
    "n=int(input(\"Enter size of swastik:(odd no)\"))\n",
    "i=0\n",
    "while i<2*n:\n",
    "    if i==0:\n",
    "        print(\"*\",end='')\n",
    "        print(\" \"*(n-2),end='')\n",
    "        print(\"*\"*(n+1),end='')\n",
    "    elif i<n:\n",
    "        print(\"*\",end='')\n",
    "        print(\" \"*(n-2),end='')\n",
    "        print(\"*\",end=\"\")\n",
    "    elif i==n:\n",
    "        print(\"*\"*(2*n-1),end=\"\")\n",
    "    elif i<(2*n-1):\n",
    "        print(\" \"*(n-1),end='')\n",
    "        print(\"*\",end='')\n",
    "        print(\" \"*(n-2),end='')\n",
    "        print(\"*\",end='')\n",
    "    else:\n",
    "        print(\"*\"*n,end=\"\")\n",
    "        print(\" \"*(n-2),end=\"\")\n",
    "        print(\"*\")\n",
    "    \n",
    "    print()\n",
    "    i+=1"
   ]
  },
  {
   "cell_type": "code",
   "execution_count": 7,
   "metadata": {},
   "outputs": [
    {
     "name": "stdout",
     "output_type": "stream",
     "text": [
      "Enter size:5\n",
      "['y-x-w-v-u-v-w-x-y']\n",
      "['y-x-w-v-u-v-w-x-y', 'y-x-w-v-w-x-y']\n",
      "['y-x-w-v-u-v-w-x-y', 'y-x-w-v-w-x-y', 'y-x-w-x-y']\n",
      "['y-x-w-v-u-v-w-x-y', 'y-x-w-v-w-x-y', 'y-x-w-x-y', 'y-x-y']\n",
      "['y-x-w-v-u-v-w-x-y', 'y-x-w-v-w-x-y', 'y-x-w-x-y', 'y-x-y', 'y']\n",
      "--------y--------\n",
      "------y-x-y------\n",
      "----y-x-w-x-y----\n",
      "--y-x-w-v-w-x-y--\n",
      "y-x-w-v-u-v-w-x-y\n",
      "--y-x-w-v-w-x-y--\n",
      "----y-x-w-x-y----\n",
      "------y-x-y------\n",
      "--------y--------\n"
     ]
    }
   ],
   "source": [
    "x=\"zyxwvutsrqponmlkjihgfedcba\"\n",
    "n=int(input(\"Enter size:\"))\n",
    "l=[]\n",
    "i=0\n",
    "while i<n:\n",
    "    s='-'.join(x[i:n:])\n",
    "    l.append(s[::-1]+s[1::])\n",
    "    print(l)\n",
    "    i+=1\n",
    "j=n-1\n",
    "while j>0:\n",
    "    print(l[j].center(len(l[0]),'-'))\n",
    "    j-=1\n",
    "while j<n:\n",
    "    print(l[j].center(len(l[0]),'-'))\n",
    "    j+=1\n",
    "    "
   ]
  },
  {
   "cell_type": "code",
   "execution_count": null,
   "metadata": {
    "collapsed": true
   },
   "outputs": [],
   "source": []
  },
  {
   "cell_type": "code",
   "execution_count": null,
   "metadata": {
    "collapsed": true
   },
   "outputs": [],
   "source": []
  }
 ],
 "metadata": {
  "kernelspec": {
   "display_name": "Python 3",
   "language": "python",
   "name": "python3"
  },
  "language_info": {
   "codemirror_mode": {
    "name": "ipython",
    "version": 3
   },
   "file_extension": ".py",
   "mimetype": "text/x-python",
   "name": "python",
   "nbconvert_exporter": "python",
   "pygments_lexer": "ipython3",
   "version": "3.6.3"
  }
 },
 "nbformat": 4,
 "nbformat_minor": 2
}
