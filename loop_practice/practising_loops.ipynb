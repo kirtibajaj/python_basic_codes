{
 "cells": [
  {
   "cell_type": "code",
   "execution_count": 13,
   "metadata": {},
   "outputs": [
    {
     "name": "stdout",
     "output_type": "stream",
     "text": [
      "Enter first number:120\n",
      "Enter second number:96\n",
      "HCF IS: 24\n"
     ]
    }
   ],
   "source": [
    "#HCF\n",
    "\n",
    "x=int(input(\"Enter first number:\"))\n",
    "y=int(input(\"Enter second number:\"))\n",
    "if x>y:\n",
    "    end=y\n",
    "else:\n",
    "    end=x\n",
    "i=1\n",
    "while i<=end:\n",
    "    if x%i==0 and y%i==0:\n",
    "        hcf=i\n",
    "    i+=1\n",
    "print(\"HCF IS:\",hcf)"
   ]
  },
  {
   "cell_type": "code",
   "execution_count": 14,
   "metadata": {},
   "outputs": [
    {
     "name": "stdout",
     "output_type": "stream",
     "text": [
      "Enter first number:12\n",
      "Enter second number:6\n",
      "GCD IS: 6\n"
     ]
    }
   ],
   "source": [
    "#GCD\n",
    "\n",
    "x=int(input(\"Enter first number:\"))\n",
    "y=int(input(\"Enter second number:\"))\n",
    "if x>y:\n",
    "    end=y\n",
    "else:\n",
    "    end=x\n",
    "i=1\n",
    "while i<=end:\n",
    "    if x%i==0 and y%i==0:\n",
    "        gcd=i\n",
    "    i+=1\n",
    "print(\"GCD IS:\",gcd)"
   ]
  },
  {
   "cell_type": "code",
   "execution_count": 6,
   "metadata": {},
   "outputs": [
    {
     "name": "stdout",
     "output_type": "stream",
     "text": [
      "Enter first number:2\n",
      "Enter second number:3\n",
      "LCM IS: 6\n"
     ]
    }
   ],
   "source": [
    "#LCM\n",
    "\n",
    "x=int(input(\"Enter first number:\"))\n",
    "y=int(input(\"Enter second number:\"))\n",
    "if x<y:\n",
    "    big=y\n",
    "else:\n",
    "    big=x\n",
    "while True:\n",
    "    if big%x==0 and big%y==0:\n",
    "        lcm=big\n",
    "        break\n",
    "    big+=1\n",
    "print(\"LCM IS:\",lcm)"
   ]
  },
  {
   "cell_type": "code",
   "execution_count": 15,
   "metadata": {},
   "outputs": [
    {
     "name": "stdout",
     "output_type": "stream",
     "text": [
      "Enter a number:3\n",
      "factorial of 3 is:6\n"
     ]
    }
   ],
   "source": [
    "#Factorial\n",
    "\n",
    "n=int(input(\"Enter a number:\"))\n",
    "if n>=0:\n",
    "    if n>1:\n",
    "        f=1\n",
    "        i=1\n",
    "        while i<=n:\n",
    "            f=f*i\n",
    "            i+=1\n",
    "        print(\"factorial of {} is:{}\".format(n,f))\n",
    "    else:\n",
    "        f=1\n",
    "        print(\"factorial of {} is:{}\".format(n,f))\n",
    "else:\n",
    "    print(\"Negative numbers does not have factorial\")"
   ]
  },
  {
   "cell_type": "code",
   "execution_count": 10,
   "metadata": {},
   "outputs": [
    {
     "name": "stdout",
     "output_type": "stream",
     "text": [
      "Enter a number:1634\n",
      "Armstrong\n"
     ]
    }
   ],
   "source": [
    "#Armstrong\n",
    "\n",
    "num=int(input(\"Enter a number:\"))\n",
    "s=0\n",
    "n=num\n",
    "x=0\n",
    "while(n):\n",
    "    n=n//10\n",
    "    x+=1\n",
    "n=num\n",
    "while(n):\n",
    "    r=n%10\n",
    "    s=s+pow(r,x)\n",
    "    n=n//10\n",
    "if s==num:\n",
    "    print(\"Armstrong\")\n",
    "else:\n",
    "    print(\"Not Armstrong\")"
   ]
  },
  {
   "cell_type": "code",
   "execution_count": 1,
   "metadata": {},
   "outputs": [
    {
     "name": "stdout",
     "output_type": "stream",
     "text": [
      "Enter the start of number from where we have to print armstrong:1\n",
      "Enter end of numbers:2000\n",
      "1\t2\t3\t4\t5\t6\t7\t8\t9\t153\t370\t371\t407\t1634\t"
     ]
    }
   ],
   "source": [
    "#To find in range for armstrong:\n",
    "a=int(input(\"Enter the start of number from where we have to print armstrong:\"))\n",
    "z=int(input(\"Enter end of numbers:\"))\n",
    "for i in range(a,z+1):\n",
    "    n=i\n",
    "    s=0\n",
    "    x=0\n",
    "    while(n):\n",
    "        n=n//10\n",
    "        x+=1\n",
    "    n=i\n",
    "    while(n):\n",
    "        r=n%10\n",
    "        s=s+pow(r,x)\n",
    "        n=n//10\n",
    "    if s==i:\n",
    "        print(i,end=\"\\t\")"
   ]
  },
  {
   "cell_type": "code",
   "execution_count": 2,
   "metadata": {},
   "outputs": [
    {
     "name": "stdout",
     "output_type": "stream",
     "text": [
      "Enter sum of series23\n",
      "0 1 1 2 3 5 8 \n",
      " no of terms: 7\n"
     ]
    }
   ],
   "source": [
    "#fibonacci by giving sum of series\n",
    "\n",
    "n=int(input(\"Enter sum of series\"))\n",
    "a,b=0,1\n",
    "c=1\n",
    "s=0\n",
    "print(a,end=' ')\n",
    "while s+b<=n:\n",
    "    s+=b\n",
    "    print(b,end =' ')\n",
    "    a,b=b,a+b\n",
    "    c+=1\n",
    "print(\"\\n no of terms:\",c)"
   ]
  },
  {
   "cell_type": "code",
   "execution_count": 4,
   "metadata": {},
   "outputs": [
    {
     "name": "stdout",
     "output_type": "stream",
     "text": [
      "Enter no of terms:7\n",
      "0 1 1 2 3 5 8 \n",
      " sum of terms: 20\n"
     ]
    }
   ],
   "source": [
    "#fibonacci by no of terms\n",
    "\n",
    "n=int(input(\"Enter no of terms:\"))\n",
    "a,b=0,1\n",
    "c=1\n",
    "s=0\n",
    "print(a,end=' ')\n",
    "while c<n:\n",
    "    s+=b\n",
    "    print(b,end =' ')\n",
    "    a,b=b,a+b\n",
    "    c+=1\n",
    "print(\"\\n sum of terms:\",s)"
   ]
  },
  {
   "cell_type": "code",
   "execution_count": 6,
   "metadata": {},
   "outputs": [
    {
     "name": "stdout",
     "output_type": "stream",
     "text": [
      "Enter a number to find krishna murti number:145\n",
      "Krishnan murti number\n"
     ]
    }
   ],
   "source": [
    "#krishnan murti number\n",
    "\n",
    "import math\n",
    "n=int(input(\"Enter a number to find krishna murti number:\"))\n",
    "num=n\n",
    "s=0\n",
    "while n!=0:\n",
    "    r=n%10\n",
    "    n=n//10\n",
    "    s+=math.factorial(r)\n",
    "if s==num:\n",
    "    print(\"Krishnan murti number\")\n",
    "else:\n",
    "    print(\"Not krishnan murti number\")"
   ]
  },
  {
   "cell_type": "code",
   "execution_count": 9,
   "metadata": {},
   "outputs": [
    {
     "name": "stdout",
     "output_type": "stream",
     "text": [
      "Starting from range:1\n",
      "Ending at range:1000000\n",
      "1\t2\t145\t40585\t"
     ]
    }
   ],
   "source": [
    "#range of kmn\n",
    "\n",
    "x=int(input(\"Starting from range:\"))\n",
    "y=int(input(\"Ending at range:\"))\n",
    "for i in range(x,y+1):\n",
    "    num=i\n",
    "    s=0\n",
    "    while num!=0:\n",
    "        r=num%10\n",
    "        num=num//10\n",
    "        s+=math.factorial(r)\n",
    "    if s==i:\n",
    "        print(s,end=\"\\t\")\n"
   ]
  },
  {
   "cell_type": "code",
   "execution_count": 10,
   "metadata": {},
   "outputs": [
    {
     "name": "stdout",
     "output_type": "stream",
     "text": [
      "Enter a number:123454321\n",
      "Palindrom\n"
     ]
    }
   ],
   "source": [
    "#palindrom\n",
    "\n",
    "num=int(input(\"Enter a number:\"))\n",
    "s=0\n",
    "n=num\n",
    "while(n):\n",
    "    r=n%10\n",
    "    s=s*10+r\n",
    "    n=n//10\n",
    "if s==num:\n",
    "    print(\"Palindrom\")\n",
    "else:\n",
    "    print(\"Not palindrom\")"
   ]
  },
  {
   "cell_type": "code",
   "execution_count": 7,
   "metadata": {},
   "outputs": [
    {
     "name": "stdout",
     "output_type": "stream",
     "text": [
      "Enter a number:23\n",
      "Prime number\n"
     ]
    }
   ],
   "source": [
    "#Prime\n",
    "from math import sqrt\n",
    "p=int(input(\"Enter a number:\"))\n",
    "for i in range(2,round(sqrt(p)+1)):\n",
    "    if p%i==0:\n",
    "         print(\"Not Prime Number\")\n",
    "         break\n",
    "else:\n",
    "    print(\"Prime number\")"
   ]
  },
  {
   "cell_type": "code",
   "execution_count": 8,
   "metadata": {},
   "outputs": [
    {
     "name": "stdout",
     "output_type": "stream",
     "text": [
      "Enter start of series:1\n",
      "ENter end of series:200\n",
      "1 2 3 5 7 11 13 17 19 23 29 31 37 41 43 47 53 59 61 67 71 73 79 83 89 97 101 103 107 109 113 127 131 137 139 149 151 157 163 167 173 179 181 191 193 197 199 "
     ]
    }
   ],
   "source": [
    "#### to print series of prime number in a range\n",
    "\n",
    "\n",
    "x=int(input(\"Enter start of series:\"))\n",
    "y=int(input(\"ENter end of series:\"))\n",
    "for i in range(x,y+1):\n",
    "    for j in range(2,i):\n",
    "        if i%j==0:\n",
    "            break\n",
    "    else:\n",
    "        print(i,end=\" \")"
   ]
  },
  {
   "cell_type": "code",
   "execution_count": 5,
   "metadata": {},
   "outputs": [
    {
     "name": "stdout",
     "output_type": "stream",
     "text": [
      "Enter some numbers in space separarted form:1 2 3 4 5 6 7 8 9 10 11 12 13 14 15 16 17 18 19 20\n",
      "No of odd integers: 10\n",
      "No of even integers: 10\n"
     ]
    }
   ],
   "source": [
    "#to count the number of even and odd numbers from a series of numbers\n",
    "s=input(\"Enter some numbers in space separarted form:\")\n",
    "l=s.split()\n",
    "length=len(l)\n",
    "i=0\n",
    "odd=0\n",
    "even=0\n",
    "while i<length:\n",
    "    if (int(l[i]))%2:\n",
    "        odd+=1\n",
    "    else:\n",
    "        even+=1\n",
    "    i+=1\n",
    "print(\"No of odd integers:\",odd)\n",
    "print(\"No of even integers:\",even)\n"
   ]
  },
  {
   "cell_type": "code",
   "execution_count": 3,
   "metadata": {},
   "outputs": [
    {
     "name": "stdout",
     "output_type": "stream",
     "text": [
      "0\n",
      "1\n",
      "2\n",
      "4\n",
      "5\n"
     ]
    }
   ],
   "source": [
    "#prints all the numbers from 0 to 6 except 3 and 6.\n",
    "\n",
    "i=-1\n",
    "while i<6:\n",
    "    i+=1\n",
    "    if i==3 or i==6:\n",
    "        continue\n",
    "    print(i)\n",
    "    \n",
    "    "
   ]
  },
  {
   "cell_type": "code",
   "execution_count": null,
   "metadata": {
    "collapsed": true
   },
   "outputs": [],
   "source": []
  }
 ],
 "metadata": {
  "kernelspec": {
   "display_name": "Python 3",
   "language": "python",
   "name": "python3"
  },
  "language_info": {
   "codemirror_mode": {
    "name": "ipython",
    "version": 3
   },
   "file_extension": ".py",
   "mimetype": "text/x-python",
   "name": "python",
   "nbconvert_exporter": "python",
   "pygments_lexer": "ipython3",
   "version": "3.6.3"
  }
 },
 "nbformat": 4,
 "nbformat_minor": 2
}
