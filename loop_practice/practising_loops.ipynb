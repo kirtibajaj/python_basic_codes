{
 "cells": [
  {
   "cell_type": "code",
   "execution_count": 13,
   "metadata": {},
   "outputs": [
    {
     "name": "stdout",
     "output_type": "stream",
     "text": [
      "Enter first number:120\n",
      "Enter second number:96\n",
      "HCF IS: 24\n"
     ]
    }
   ],
   "source": [
    "#HCF\n",
    "\n",
    "x=int(input(\"Enter first number:\"))\n",
    "y=int(input(\"Enter second number:\"))\n",
    "if x>y:\n",
    "    end=y\n",
    "else:\n",
    "    end=x\n",
    "i=1\n",
    "while i<=end:\n",
    "    if x%i==0 and y%i==0:\n",
    "        hcf=i\n",
    "    i+=1\n",
    "print(\"HCF IS:\",hcf)"
   ]
  },
  {
   "cell_type": "code",
   "execution_count": 14,
   "metadata": {},
   "outputs": [
    {
     "name": "stdout",
     "output_type": "stream",
     "text": [
      "Enter first number:12\n",
      "Enter second number:6\n",
      "GCD IS: 6\n"
     ]
    }
   ],
   "source": [
    "#GCD\n",
    "\n",
    "x=int(input(\"Enter first number:\"))\n",
    "y=int(input(\"Enter second number:\"))\n",
    "if x>y:\n",
    "    end=y\n",
    "else:\n",
    "    end=x\n",
    "i=1\n",
    "while i<=end:\n",
    "    if x%i==0 and y%i==0:\n",
    "        gcd=i\n",
    "    i+=1\n",
    "print(\"GCD IS:\",gcd)"
   ]
  },
  {
   "cell_type": "code",
   "execution_count": 6,
   "metadata": {},
   "outputs": [
    {
     "name": "stdout",
     "output_type": "stream",
     "text": [
      "Enter first number:2\n",
      "Enter second number:3\n",
      "LCM IS: 6\n"
     ]
    }
   ],
   "source": [
    "#LCM\n",
    "\n",
    "x=int(input(\"Enter first number:\"))\n",
    "y=int(input(\"Enter second number:\"))\n",
    "if x<y:\n",
    "    big=y\n",
    "else:\n",
    "    big=x\n",
    "while True:\n",
    "    if big%x==0 and big%y==0:\n",
    "        lcm=big\n",
    "        break\n",
    "    big+=1\n",
    "print(\"LCM IS:\",lcm)"
   ]
  },
  {
   "cell_type": "code",
   "execution_count": 15,
   "metadata": {},
   "outputs": [
    {
     "name": "stdout",
     "output_type": "stream",
     "text": [
      "Enter a number:3\n",
      "factorial of 3 is:6\n"
     ]
    }
   ],
   "source": [
    "#Factorial\n",
    "\n",
    "n=int(input(\"Enter a number:\"))\n",
    "if n>=0:\n",
    "    if n>1:\n",
    "        f=1\n",
    "        i=1\n",
    "        while i<=n:\n",
    "            f=f*i\n",
    "            i+=1\n",
    "        print(\"factorial of {} is:{}\".format(n,f))\n",
    "    else:\n",
    "        f=1\n",
    "        print(\"factorial of {} is:{}\".format(n,f))\n",
    "else:\n",
    "    print(\"Negative numbers does not have factorial\")"
   ]
  },
  {
   "cell_type": "code",
   "execution_count": 10,
   "metadata": {},
   "outputs": [
    {
     "name": "stdout",
     "output_type": "stream",
     "text": [
      "Enter a number:1634\n",
      "Armstrong\n"
     ]
    }
   ],
   "source": [
    "#Armstrong\n",
    "\n",
    "num=int(input(\"Enter a number:\"))\n",
    "s=0\n",
    "n=num\n",
    "x=0\n",
    "while(n):\n",
    "    n=n//10\n",
    "    x+=1\n",
    "n=num\n",
    "while(n):\n",
    "    r=n%10\n",
    "    s=s+pow(r,x)\n",
    "    n=n//10\n",
    "if s==num:\n",
    "    print(\"Armstrong\")\n",
    "else:\n",
    "    print(\"Not Armstrong\")"
   ]
  },
  {
   "cell_type": "code",
   "execution_count": 1,
   "metadata": {},
   "outputs": [
    {
     "name": "stdout",
     "output_type": "stream",
     "text": [
      "Enter the start of number from where we have to print armstrong:1\n",
      "Enter end of numbers:2000\n",
      "1\t2\t3\t4\t5\t6\t7\t8\t9\t153\t370\t371\t407\t1634\t"
     ]
    }
   ],
   "source": [
    "#To find in range for armstrong:\n",
    "a=int(input(\"Enter the start of number from where we have to print armstrong:\"))\n",
    "z=int(input(\"Enter end of numbers:\"))\n",
    "for i in range(a,z+1):\n",
    "    n=i\n",
    "    s=0\n",
    "    x=0\n",
    "    while(n):\n",
    "        n=n//10\n",
    "        x+=1\n",
    "    n=i\n",
    "    while(n):\n",
    "        r=n%10\n",
    "        s=s+pow(r,x)\n",
    "        n=n//10\n",
    "    if s==i:\n",
    "        print(i,end=\"\\t\")"
   ]
  },
  {
   "cell_type": "code",
   "execution_count": 2,
   "metadata": {},
   "outputs": [
    {
     "name": "stdout",
     "output_type": "stream",
     "text": [
      "Enter sum of series23\n",
      "0 1 1 2 3 5 8 \n",
      " no of terms: 7\n"
     ]
    }
   ],
   "source": [
    "#fibonacci by giving sum of series\n",
    "\n",
    "n=int(input(\"Enter sum of series\"))\n",
    "a,b=0,1\n",
    "c=1\n",
    "s=0\n",
    "print(a,end=' ')\n",
    "while s+b<=n:\n",
    "    s+=b\n",
    "    print(b,end =' ')\n",
    "    a,b=b,a+b\n",
    "    c+=1\n",
    "print(\"\\n no of terms:\",c)"
   ]
  },
  {
   "cell_type": "code",
   "execution_count": 4,
   "metadata": {},
   "outputs": [
    {
     "name": "stdout",
     "output_type": "stream",
     "text": [
      "Enter no of terms:7\n",
      "0 1 1 2 3 5 8 \n",
      " sum of terms: 20\n"
     ]
    }
   ],
   "source": [
    "#fibonacci by no of terms\n",
    "\n",
    "n=int(input(\"Enter no of terms:\"))\n",
    "a,b=0,1\n",
    "c=1\n",
    "s=0\n",
    "print(a,end=' ')\n",
    "while c<n:\n",
    "    s+=b\n",
    "    print(b,end =' ')\n",
    "    a,b=b,a+b\n",
    "    c+=1\n",
    "print(\"\\n sum of terms:\",s)"
   ]
  },
  {
   "cell_type": "code",
   "execution_count": 6,
   "metadata": {},
   "outputs": [
    {
     "name": "stdout",
     "output_type": "stream",
     "text": [
      "Enter a number to find krishna murti number:145\n",
      "Krishnan murti number\n"
     ]
    }
   ],
   "source": [
    "#krishnan murti number\n",
    "\n",
    "import math\n",
    "n=int(input(\"Enter a number to find krishna murti number:\"))\n",
    "num=n\n",
    "s=0\n",
    "while n!=0:\n",
    "    r=n%10\n",
    "    n=n//10\n",
    "    s+=math.factorial(r)\n",
    "if s==num:\n",
    "    print(\"Krishnan murti number\")\n",
    "else:\n",
    "    print(\"Not krishnan murti number\")"
   ]
  },
  {
   "cell_type": "code",
   "execution_count": 9,
   "metadata": {},
   "outputs": [
    {
     "name": "stdout",
     "output_type": "stream",
     "text": [
      "Starting from range:1\n",
      "Ending at range:1000000\n",
      "1\t2\t145\t40585\t"
     ]
    }
   ],
   "source": [
    "#range of kmn\n",
    "\n",
    "x=int(input(\"Starting from range:\"))\n",
    "y=int(input(\"Ending at range:\"))\n",
    "for i in range(x,y+1):\n",
    "    num=i\n",
    "    s=0\n",
    "    while num!=0:\n",
    "        r=num%10\n",
    "        num=num//10\n",
    "        s+=math.factorial(r)\n",
    "    if s==i:\n",
    "        print(s,end=\"\\t\")\n"
   ]
  },
  {
   "cell_type": "code",
   "execution_count": 10,
   "metadata": {},
   "outputs": [
    {
     "name": "stdout",
     "output_type": "stream",
     "text": [
      "Enter a number:123454321\n",
      "Palindrom\n"
     ]
    }
   ],
   "source": [
    "#palindrom\n",
    "\n",
    "num=int(input(\"Enter a number:\"))\n",
    "s=0\n",
    "n=num\n",
    "while(n):\n",
    "    r=n%10\n",
    "    s=s*10+r\n",
    "    n=n//10\n",
    "if s==num:\n",
    "    print(\"Palindrom\")\n",
    "else:\n",
    "    print(\"Not palindrom\")"
   ]
  },
  {
   "cell_type": "code",
   "execution_count": 16,
   "metadata": {},
   "outputs": [
    {
     "name": "stdout",
     "output_type": "stream",
     "text": [
      "Enter a number:23\n",
      "Prime number\n"
     ]
    }
   ],
   "source": [
    "#Prime\n",
    "\n",
    "p=int(input(\"Enter a number:\"))\n",
    "for i in range(2,p):\n",
    "    if p%i==0:\n",
    "         print(\"Not Prime Number\")\n",
    "         break\n",
    "else:\n",
    "    print(\"Prime number\")"
   ]
  },
  {
   "cell_type": "code",
   "execution_count": 12,
   "metadata": {},
   "outputs": [
    {
     "name": "stdout",
     "output_type": "stream",
     "text": [
      "Enter start of series:1\n",
      "ENter end of series:2000\n",
      "1 2 3 5 7 11 13 17 19 23 29 31 37 41 43 47 53 59 61 67 71 73 79 83 89 97 101 103 107 109 113 127 131 137 139 149 151 157 163 167 173 179 181 191 193 197 199 211 223 227 229 233 239 241 251 257 263 269 271 277 281 283 293 307 311 313 317 331 337 347 349 353 359 367 373 379 383 389 397 401 409 419 421 431 433 439 443 449 457 461 463 467 479 487 491 499 503 509 521 523 541 547 557 563 569 571 577 587 593 599 601 607 613 617 619 631 641 643 647 653 659 661 673 677 683 691 701 709 719 727 733 739 743 751 757 761 769 773 787 797 809 811 821 823 827 829 839 853 857 859 863 877 881 883 887 907 911 919 929 937 941 947 953 967 971 977 983 991 997 1009 1013 1019 1021 1031 1033 1039 1049 1051 1061 1063 1069 1087 1091 1093 1097 1103 1109 1117 1123 1129 1151 1153 1163 1171 1181 1187 1193 1201 1213 1217 1223 1229 1231 1237 1249 1259 1277 1279 1283 1289 1291 1297 1301 1303 1307 1319 1321 1327 1361 1367 1373 1381 1399 1409 1423 1427 1429 1433 1439 1447 1451 1453 1459 1471 1481 1483 1487 1489 1493 1499 1511 1523 1531 1543 1549 1553 1559 1567 1571 1579 1583 1597 1601 1607 1609 1613 1619 1621 1627 1637 1657 1663 1667 1669 1693 1697 1699 1709 1721 1723 1733 1741 1747 1753 1759 1777 1783 1787 1789 1801 1811 1823 1831 1847 1861 1867 1871 1873 1877 1879 1889 1901 1907 1913 1931 1933 1949 1951 1973 1979 1987 1993 1997 1999 "
     ]
    }
   ],
   "source": [
    "# to print series of prime number in a range\n",
    "\n",
    "\n",
    "x=int(input(\"Enter start of series:\"))\n",
    "y=int(input(\"ENter end of series:\"))\n",
    "for i in range(x,y+1):\n",
    "    for j in range(2,i):\n",
    "        if i%j==0:\n",
    "            break\n",
    "    else:\n",
    "        print(i,end=\" \")"
   ]
  },
  {
   "cell_type": "code",
   "execution_count": 5,
   "metadata": {},
   "outputs": [
    {
     "name": "stdout",
     "output_type": "stream",
     "text": [
      "Enter some numbers in space separarted form:1 2 3 4 5 6 7 8 9 10 11 12 13 14 15 16 17 18 19 20\n",
      "No of odd integers: 10\n",
      "No of even integers: 10\n"
     ]
    }
   ],
   "source": [
    "#to count the number of even and odd numbers from a series of numbers\n",
    "s=input(\"Enter some numbers in space separarted form:\")\n",
    "l=s.split()\n",
    "length=len(l)\n",
    "i=0\n",
    "odd=0\n",
    "even=0\n",
    "while i<length:\n",
    "    if (int(l[i]))%2:\n",
    "        odd+=1\n",
    "    else:\n",
    "        even+=1\n",
    "    i+=1\n",
    "print(\"No of odd integers:\",odd)\n",
    "print(\"No of even integers:\",even)\n"
   ]
  },
  {
   "cell_type": "code",
   "execution_count": 3,
   "metadata": {},
   "outputs": [
    {
     "name": "stdout",
     "output_type": "stream",
     "text": [
      "0\n",
      "1\n",
      "2\n",
      "4\n",
      "5\n"
     ]
    }
   ],
   "source": [
    "#prints all the numbers from 0 to 6 except 3 and 6.\n",
    "\n",
    "i=-1\n",
    "while i<6:\n",
    "    i+=1\n",
    "    if i==3 or i==6:\n",
    "        continue\n",
    "    print(i)\n",
    "    \n",
    "    "
   ]
  },
  {
   "cell_type": "code",
   "execution_count": null,
   "metadata": {
    "collapsed": true
   },
   "outputs": [],
   "source": []
  }
 ],
 "metadata": {
  "kernelspec": {
   "display_name": "Python 3",
   "language": "python",
   "name": "python3"
  },
  "language_info": {
   "codemirror_mode": {
    "name": "ipython",
    "version": 3
   },
   "file_extension": ".py",
   "mimetype": "text/x-python",
   "name": "python",
   "nbconvert_exporter": "python",
   "pygments_lexer": "ipython3",
   "version": "3.6.3"
  }
 },
 "nbformat": 4,
 "nbformat_minor": 2
}
