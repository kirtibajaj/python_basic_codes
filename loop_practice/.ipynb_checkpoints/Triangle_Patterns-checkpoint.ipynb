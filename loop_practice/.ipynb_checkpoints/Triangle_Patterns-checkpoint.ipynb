{
 "cells": [
  {
   "cell_type": "code",
   "execution_count": 1,
   "metadata": {},
   "outputs": [
    {
     "name": "stdout",
     "output_type": "stream",
     "text": [
      "Enter size:5\n",
      "1 2 3 4 5 \n",
      "1 2 3 4 5 \n",
      "1 2 3 4 5 \n",
      "1 2 3 4 5 \n",
      "1 2 3 4 5 \n"
     ]
    }
   ],
   "source": [
    "n=int(input(\"Enter size:\"))\n",
    "for i in range(n):\n",
    "    for j in range(n):\n",
    "        print(j+1,end=\" \")\n",
    "    print()"
   ]
  },
  {
   "cell_type": "code",
   "execution_count": 12,
   "metadata": {},
   "outputs": [
    {
     "name": "stdout",
     "output_type": "stream",
     "text": [
      "Enter size:5\n",
      "* \n",
      "* * \n",
      "* * * \n",
      "* * * * \n",
      "* * * * * \n"
     ]
    }
   ],
   "source": [
    "n=int(input(\"Enter size:\"))\n",
    "for i in range(n):\n",
    "    for j in range(i+1):\n",
    "        print('*',end=\" \")\n",
    "    print()"
   ]
  },
  {
   "cell_type": "code",
   "execution_count": 11,
   "metadata": {},
   "outputs": [
    {
     "name": "stdout",
     "output_type": "stream",
     "text": [
      "Enter size:5\n",
      "* * * * * \n",
      "* * * *   \n",
      "* * *     \n",
      "* *       \n",
      "*         \n"
     ]
    }
   ],
   "source": [
    "n=int(input(\"Enter size:\"))\n",
    "for i in range(n):\n",
    "    for j in range(n):\n",
    "        if j+i<n:\n",
    "            print('*',end=\" \")\n",
    "        else:\n",
    "            print(' ',end=\" \")\n",
    "    print()"
   ]
  },
  {
   "cell_type": "code",
   "execution_count": 9,
   "metadata": {},
   "outputs": [
    {
     "name": "stdout",
     "output_type": "stream",
     "text": [
      "Enter size:5\n",
      "        * \n",
      "      * * \n",
      "    * * * \n",
      "  * * * * \n",
      "* * * * * \n"
     ]
    }
   ],
   "source": [
    "n=int(input(\"Enter size:\"))\n",
    "for i in range(n):\n",
    "    for j in range(n):\n",
    "        if i+j>=n-1:\n",
    "            print('*',end=\" \")\n",
    "        else:\n",
    "            print(' ',end=\" \")\n",
    "    print()"
   ]
  },
  {
   "cell_type": "code",
   "execution_count": 13,
   "metadata": {},
   "outputs": [
    {
     "name": "stdout",
     "output_type": "stream",
     "text": [
      "Enter size:5\n",
      "* * * * * \n",
      "  * * * * \n",
      "    * * * \n",
      "      * * \n",
      "        * \n"
     ]
    }
   ],
   "source": [
    "n=int(input(\"Enter size:\"))\n",
    "for i in range(n):\n",
    "    for j in range(n):\n",
    "        if i<=j:\n",
    "            print('*',end=\" \")\n",
    "        else:\n",
    "            print(' ',end=\" \")\n",
    "    print()"
   ]
  },
  {
   "cell_type": "code",
   "execution_count": 14,
   "metadata": {},
   "outputs": [
    {
     "name": "stdout",
     "output_type": "stream",
     "text": [
      "Enter size:5\n",
      "        * \n",
      "      * * * \n",
      "    * * * * * \n",
      "  * * * * * * * \n",
      "* * * * * * * * * \n"
     ]
    }
   ],
   "source": [
    "n=int(input(\"Enter size:\"))\n",
    "for i in range(n):\n",
    "    for j in range(n):\n",
    "        if i+j>=n-1:\n",
    "            print('*',end=\" \")\n",
    "        else:\n",
    "            print(' ',end=\" \")\n",
    "    if i==0:\n",
    "        pass\n",
    "    else:\n",
    "        for j in range(0,i):\n",
    "            print('*',end=' ')\n",
    "    print()"
   ]
  },
  {
   "cell_type": "code",
   "execution_count": 22,
   "metadata": {},
   "outputs": [
    {
     "name": "stdout",
     "output_type": "stream",
     "text": [
      "Enter size:5\n",
      "    *\n",
      "   ***\n",
      "  *****\n",
      " *******\n",
      "*********\n",
      "*********\n",
      " *******\n",
      "  *****\n",
      "   ***\n",
      "    *\n"
     ]
    }
   ],
   "source": [
    "n=int(input(\"Enter size:\"))\n",
    "for i in range(n):\n",
    "    for j in range(n):\n",
    "        if i+j>=n-1:\n",
    "            print('*',end=\"\")\n",
    "        else:\n",
    "            print(' ',end=\"\")            \n",
    "    if i==0:\n",
    "        pass\n",
    "    else:\n",
    "        for j in range(0,i):\n",
    "            print('*',end='')\n",
    "    print()\n",
    "for i in range(n):\n",
    "    for j in range(n):\n",
    "        if i<=j:\n",
    "            print('*',end=\"\")\n",
    "        else:\n",
    "            print(' ',end=\"\")\n",
    "    for j in range(n):\n",
    "        if j+i<n-1:\n",
    "            print('*',end=\"\")\n",
    "    print()"
   ]
  },
  {
   "cell_type": "code",
   "execution_count": 50,
   "metadata": {},
   "outputs": [
    {
     "name": "stdout",
     "output_type": "stream",
     "text": [
      "Enter size of 'swastik'9\n",
      "*   *****\n",
      "*   *\n",
      "*   *\n",
      "*   *\n",
      "*********\n",
      "    *   *\n",
      "    *   *\n",
      "    *   *\n",
      "*****   *\n"
     ]
    }
   ],
   "source": [
    "n=int(input(\"Enter size of 'swastik'\"))\n",
    "if n%2==0:\n",
    "    n+=1\n",
    "for i in range(1,n+1):\n",
    "    if i==1:\n",
    "        print(\"*\",end='')\n",
    "        print(\" \"*(n//2-1),end='')\n",
    "        print(\"*\"*(n//2+1))\n",
    "    elif i<= n//2:\n",
    "        print('*',end='')\n",
    "        print(\" \"*(n//2-1),end='')\n",
    "        print(\"*\")\n",
    "    elif i==(n//2+1) :\n",
    "        print(\"*\"*n)\n",
    "    elif i<=n-1:\n",
    "        print(\" \"*(n//2),end='')\n",
    "        print(\"*\",end='')\n",
    "        print(\" \"*(n//2-1),end='')\n",
    "        print(\"*\")\n",
    "    else :\n",
    "        print(\"*\"*(n//2+1),end='')\n",
    "        print(\" \"*(n//2-1),end='')\n",
    "        print(\"*\")"
   ]
  },
  {
   "cell_type": "code",
   "execution_count": 51,
   "metadata": {},
   "outputs": [
    {
     "name": "stdout",
     "output_type": "stream",
     "text": [
      " *******\n",
      "*       *\n",
      "*       *\n",
      "*       *\n",
      "*       *\n",
      " *******\n",
      "        *\n",
      "        *\n",
      "        *\n",
      " *******\n",
      "9\n",
      "\n"
     ]
    }
   ],
   "source": [
    "#9\n",
    "for i in range(0,10):\n",
    "    if(i==0 or i==5 or i==9):\n",
    "        for j in range(0,8):\n",
    "            if(j==0):\n",
    "                print(\" \",end=\"\")\n",
    "            else:\n",
    "                print(\"*\",end=\"\")\n",
    "    else:\n",
    "        for j in range(0,9):\n",
    "            if ((j==0 and i<5) or j==8):\n",
    "                print(\"*\",end=\"\")\n",
    "            else:\n",
    "                print(\" \",end=\"\")\n",
    "    print()\n",
    "print(\"9\\n\")"
   ]
  },
  {
   "cell_type": "code",
   "execution_count": 52,
   "metadata": {},
   "outputs": [
    {
     "name": "stdout",
     "output_type": "stream",
     "text": [
      " *******\n",
      "*       *\n",
      "*       *\n",
      "*       *\n",
      "*       *\n",
      " *******\n",
      "*       *\n",
      "*       *\n",
      "*       *\n",
      " *******\n",
      "8\n",
      "\n"
     ]
    }
   ],
   "source": [
    "#8\n",
    "for i in range(0,10):\n",
    "    if(i==0 or i==5 or i==9):\n",
    "        for j in range(0,8):\n",
    "            if(j==0):\n",
    "                print(\" \",end=\"\")\n",
    "            else:\n",
    "                print(\"*\",end=\"\")\n",
    "    else:\n",
    "        for j in range(0,9):\n",
    "            if (j==8 or j==0):\n",
    "                print(\"*\",end=\"\")\n",
    "            else:\n",
    "                print(\" \",end=\"\")\n",
    "    print()\n",
    "print(\"8\\n\")"
   ]
  },
  {
   "cell_type": "code",
   "execution_count": 53,
   "metadata": {},
   "outputs": [
    {
     "name": "stdout",
     "output_type": "stream",
     "text": [
      "*******       \n",
      "      *\n",
      "     * \n",
      "    *  \n",
      "   *   \n",
      "  *    \n",
      " *     \n",
      "7\n",
      "\n"
     ]
    }
   ],
   "source": [
    "#7\n",
    "for i in range(0,7):\n",
    "    print(\"*\",end=\"\")\n",
    "for i in range(0,7):\n",
    "    for j in range(0,7):\n",
    "        if(i+j==7):\n",
    "            print(\"*\",end=\"\")\n",
    "        else:\n",
    "            print(\" \",end=\"\")\n",
    "    print()\n",
    "print(\"7\\n\")"
   ]
  },
  {
   "cell_type": "code",
   "execution_count": 54,
   "metadata": {},
   "outputs": [
    {
     "name": "stdout",
     "output_type": "stream",
     "text": [
      "********\n",
      "*        \n",
      "*        \n",
      "*        \n",
      "*        \n",
      "********\n",
      "*       *\n",
      "*       *\n",
      "*       *\n",
      "********\n",
      "6\n",
      "\n"
     ]
    }
   ],
   "source": [
    "#6\n",
    "for i in range(0,10):\n",
    "    if(i==0 or i==5 or i==9):\n",
    "        for j in range(0,8):\n",
    "            print(\"*\",end=\"\")\n",
    "    else:\n",
    "        for j in range(0,9):\n",
    "            if ((j==8 and i>5) or j==0):\n",
    "                print(\"*\",end=\"\")\n",
    "            else:\n",
    "                print(\" \",end=\"\")\n",
    "    print()\n",
    "print(\"6\\n\")"
   ]
  },
  {
   "cell_type": "code",
   "execution_count": 55,
   "metadata": {},
   "outputs": [
    {
     "name": "stdout",
     "output_type": "stream",
     "text": [
      "********\n",
      "*        \n",
      "*        \n",
      "*        \n",
      "*        \n",
      "********\n",
      "        *\n",
      "        *\n",
      "        *\n",
      "********\n",
      "5\n",
      "\n"
     ]
    }
   ],
   "source": [
    "#5\n",
    "for i in range(0,10):\n",
    "    if(i==0 or i==5 or i==9):\n",
    "        for j in range(0,8):\n",
    "            print(\"*\",end=\"\")\n",
    "    else:\n",
    "        for j in range(0,9):\n",
    "            if ((j==8 and i>5) or (j==0 and i<5)):\n",
    "                print(\"*\",end=\"\")\n",
    "            else:\n",
    "                print(\" \",end=\"\")\n",
    "    print()\n",
    "print(\"5\\n\")"
   ]
  },
  {
   "cell_type": "code",
   "execution_count": 56,
   "metadata": {},
   "outputs": [
    {
     "name": "stdout",
     "output_type": "stream",
     "text": [
      "*       *\n",
      "*       *\n",
      "*       *\n",
      "*       *\n",
      "*       *\n",
      "********\n",
      "        *\n",
      "        *\n",
      "        *\n",
      "        *\n",
      "4\n",
      "\n"
     ]
    }
   ],
   "source": [
    "#4\n",
    "for i in range(0,10):\n",
    "    if(i==5):\n",
    "        for j in range(0,8):\n",
    "            print(\"*\",end=\"\")\n",
    "    else:\n",
    "        for j in range(0,9):\n",
    "            if (j==8 or (j==0 and i<5)):\n",
    "                print(\"*\",end=\"\")\n",
    "            else:\n",
    "                print(\" \",end=\"\")\n",
    "    print()\n",
    "print(\"4\\n\")"
   ]
  },
  {
   "cell_type": "code",
   "execution_count": 57,
   "metadata": {},
   "outputs": [
    {
     "name": "stdout",
     "output_type": "stream",
     "text": [
      "********\n",
      "        *\n",
      "        *\n",
      "        *\n",
      "        *\n",
      "********\n",
      "        *\n",
      "        *\n",
      "        *\n",
      "********\n",
      "3\n",
      "\n"
     ]
    }
   ],
   "source": [
    "#3\n",
    "for i in range(0,10):\n",
    "    if(i==0 or i==5 or i==9):\n",
    "        for j in range(0,8):\n",
    "            print(\"*\",end=\"\")\n",
    "    else:\n",
    "        for j in range(0,9):\n",
    "            if j==8:\n",
    "                print(\"*\",end=\"\")\n",
    "            else:\n",
    "                print(\" \",end=\"\")\n",
    "    print()\n",
    "print(\"3\\n\")"
   ]
  },
  {
   "cell_type": "code",
   "execution_count": 58,
   "metadata": {},
   "outputs": [
    {
     "name": "stdout",
     "output_type": "stream",
     "text": [
      "  ***  \n",
      " *   * \n",
      "*     *\n",
      "       \n",
      "      *\n",
      "     * \n",
      "    *  \n",
      "   *   \n",
      "  *    \n",
      " *     \n",
      "*******2\n",
      "\n"
     ]
    }
   ],
   "source": [
    "#2\n",
    "for i in range(0,3):\n",
    "    for j in range(0,3):\n",
    "        if(i+j==2):\n",
    "            print(\"*\",end=\"\")\n",
    "        else:\n",
    "            print(\" \",end=\"\")\n",
    "    if(i==0):\n",
    "        print(\"*\",end=\"\")\n",
    "    else:\n",
    "        print(\" \",end=\"\")\n",
    "    for j in range(0,3):\n",
    "        if(j==i):\n",
    "            print(\"*\",end=\"\")\n",
    "        else:\n",
    "            print(\" \",end=\"\")\n",
    "    \n",
    "    print()\n",
    "for i in range(0,7):\n",
    "    for j in range(0,7):\n",
    "        if(i+j==7):\n",
    "            print(\"*\",end=\"\")\n",
    "        else:\n",
    "            print(\" \",end=\"\")\n",
    "    print()\n",
    "for i in range(0,7):\n",
    "    print(\"*\",end=\"\")\n",
    "print(\"2\\n\")"
   ]
  },
  {
   "cell_type": "code",
   "execution_count": 59,
   "metadata": {},
   "outputs": [
    {
     "name": "stdout",
     "output_type": "stream",
     "text": [
      "    **\n",
      "   * *\n",
      "  *  *\n",
      " *   *\n",
      "     *\n",
      "     *\n",
      "     *\n",
      "     *\n",
      "     *\n",
      "**********\n",
      "1\n",
      "\n"
     ]
    }
   ],
   "source": [
    "#1\n",
    "for i in range(0,10):\n",
    "        if(i==9):\n",
    "            for j in range(0,10):\n",
    "                print(\"*\",end=\"\")\n",
    "        elif(i<4):\n",
    "            for  j in range(0,6):\n",
    "                if(j==5 or (i+j==4)):\n",
    "                    print(\"*\",end=\"\")\n",
    "                else:\n",
    "                    print(\" \",end=\"\")\n",
    "        else:\n",
    "            for j in range(0,6):\n",
    "                if(j==5):\n",
    "                    print(\"*\",end=\"\")\n",
    "                else:\n",
    "                    print(\" \",end=\"\")\n",
    "        print()\n",
    "print(\"1\\n\")"
   ]
  },
  {
   "cell_type": "code",
   "execution_count": 60,
   "metadata": {},
   "outputs": [
    {
     "name": "stdout",
     "output_type": "stream",
     "text": [
      "  ******\n",
      " *      *\n",
      "*        *\n",
      "*        *\n",
      "*        *\n",
      "*        *\n",
      "*        *\n",
      "*        *\n",
      " *      *\n",
      "  ******\n",
      "0\n",
      "\n"
     ]
    }
   ],
   "source": [
    "#0\n",
    "for i in range(0,10):\n",
    "    if(i==0 or i==9):\n",
    "        for j in range(0,8):\n",
    "            if(j<2):\n",
    "                print(\" \",end=\"\")\n",
    "            else:\n",
    "                print(\"*\",end=\"\")\n",
    "    elif(i==1 or i==8):\n",
    "        for j in range(0,9):\n",
    "            if(j==1 or j==8):\n",
    "                print(\"*\",end=\"\")\n",
    "            else:\n",
    "                print(\" \",end=\"\")\n",
    "    else:\n",
    "        for j in range(0,10):\n",
    "            if(j==0 or j==9):\n",
    "                print(\"*\",end=\"\")\n",
    "            else:\n",
    "                print(\" \",end=\"\")\n",
    "    print()\n",
    "    \n",
    "print(\"0\\n\")"
   ]
  },
  {
   "cell_type": "code",
   "execution_count": null,
   "metadata": {
    "collapsed": true
   },
   "outputs": [],
   "source": []
  }
 ],
 "metadata": {
  "kernelspec": {
   "display_name": "Python 3",
   "language": "python",
   "name": "python3"
  },
  "language_info": {
   "codemirror_mode": {
    "name": "ipython",
    "version": 3
   },
   "file_extension": ".py",
   "mimetype": "text/x-python",
   "name": "python",
   "nbconvert_exporter": "python",
   "pygments_lexer": "ipython3",
   "version": "3.6.3"
  }
 },
 "nbformat": 4,
 "nbformat_minor": 2
}
