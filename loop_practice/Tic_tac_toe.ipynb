{
 "cells": [
  {
   "cell_type": "code",
   "execution_count": null,
   "metadata": {
    "collapsed": true
   },
   "outputs": [],
   "source": []
  },
  {
   "cell_type": "code",
   "execution_count": 1,
   "metadata": {},
   "outputs": [
    {
     "name": "stdout",
     "output_type": "stream",
     "text": [
      "***************************************WELCOME to TIC TAC TOE***************************************\n",
      "\n",
      "\n",
      "1 2 3 \n",
      "4 5 6 \n",
      "7 8 9 \n",
      "\n",
      "Lets assign you as player 1 and you have assigned x\n",
      "As per random toss player:1 win\n",
      "Enter any number its your turn:7\n",
      "\n",
      "\n",
      "1 2 3 \n",
      "4 5 6 \n",
      "x 8 9 \n",
      "\n",
      "\n",
      "\n",
      "1 2 3 \n",
      "4 5 o \n",
      "x 8 9 \n",
      "\n",
      "Enter any number its your turn:4\n",
      "\n",
      "\n",
      "1 2 3 \n",
      "x 5 o \n",
      "x 8 9 \n",
      "\n",
      "\n",
      "\n",
      "1 o 3 \n",
      "x 5 o \n",
      "x 8 9 \n",
      "\n",
      "Enter any number its your turn:1\n",
      "Player:x win\n",
      "\n",
      "\n",
      "x o 3 \n",
      "x 5 o \n",
      "x 8 9 \n",
      "\n",
      "Thank you\n"
     ]
    }
   ],
   "source": [
    "from random import randint\n",
    "from random import choice\n",
    "l=[[1,2,3],[4,5,6],[7,8,9]]\n",
    "board=[1,2,3,4,5,6,7,8,9]\n",
    "def print_board():\n",
    "    print()\n",
    "    print()\n",
    "    for i in range(0,3):\n",
    "        for j in range(0,3):\n",
    "            print(l[i][j],end=\" \")\n",
    "        print()\n",
    "    print()\n",
    "def chk_empty_assign(x,ele):\n",
    "    chk=0\n",
    "    for i in range(0,3):\n",
    "        for j in range(0,3):\n",
    "            if x==l[i][j]:\n",
    "                l[i][j]=ele\n",
    "                chk=1\n",
    "                board.remove(x)\n",
    "                return\n",
    "    if chk==0:\n",
    "        print(\"OOPS!!!! this is already filled\")\n",
    "        return\n",
    "def check_board(step):\n",
    "    if board==[]:\n",
    "        print(\"Its a tie!!!!!!!!!!!\")\n",
    "        return 0\n",
    "    for i in range(0,3):\n",
    "        if l[i].count(step)==3:\n",
    "            print(\"Player:{} win\".format(step))\n",
    "            return 0\n",
    "    for i in range(0,3):\n",
    "        c=0\n",
    "        for j in range(0,3):\n",
    "            if l[j][i]==step:\n",
    "                c+=1\n",
    "                if c==3:\n",
    "                    print(\"Player:{} win\".format(step))\n",
    "                    return 0\n",
    "    c=0\n",
    "    for i in range(0,3):\n",
    "        if l[i][i]==step:\n",
    "            c+=1\n",
    "            if c==3:\n",
    "                print(\"Player:{} win\".format(step))\n",
    "                return 0\n",
    "    if l[0][2]==l[1][1]==l[2][0]==1:\n",
    "        print(\"Player:{} win\".format(step))\n",
    "        return 0      \n",
    "    return 1\n",
    "print(\"WELCOME to TIC TAC TOE\".center(100,\"*\"))\n",
    "print_board()\n",
    "print(\"Lets assign you as player 1 and you have assigned x\")\n",
    "chance=randint(1,2)\n",
    "print(\"As per random toss player:{} win\".format(chance))\n",
    "while board!=[]:\n",
    "    if chance==1:\n",
    "        x=int(input(\"Enter any number its your turn:\"))\n",
    "        chk_empty_assign(x,'x')\n",
    "        chk=check_board('x')\n",
    "    else:\n",
    "        o=choice(board)\n",
    "        chk_empty_assign(o,'o')\n",
    "        chk=check_board('o')\n",
    "    print_board()\n",
    "    if chance==1:\n",
    "        chance=2\n",
    "    else:\n",
    "        chance=1\n",
    "    if chk==0:\n",
    "        break\n",
    "    else:\n",
    "        continue\n",
    "print(\"Thank you\")"
   ]
  },
  {
   "cell_type": "code",
   "execution_count": null,
   "metadata": {},
   "outputs": [],
   "source": []
  },
  {
   "cell_type": "code",
   "execution_count": null,
   "metadata": {},
   "outputs": [],
   "source": []
  },
  {
   "cell_type": "code",
   "execution_count": null,
   "metadata": {},
   "outputs": [],
   "source": []
  },
  {
   "cell_type": "code",
   "execution_count": null,
   "metadata": {},
   "outputs": [],
   "source": []
  },
  {
   "cell_type": "code",
   "execution_count": null,
   "metadata": {},
   "outputs": [],
   "source": []
  },
  {
   "cell_type": "code",
   "execution_count": null,
   "metadata": {
    "collapsed": true
   },
   "outputs": [],
   "source": []
  },
  {
   "cell_type": "code",
   "execution_count": null,
   "metadata": {
    "collapsed": true
   },
   "outputs": [],
   "source": []
  }
 ],
 "metadata": {
  "kernelspec": {
   "display_name": "Python 3",
   "language": "python",
   "name": "python3"
  },
  "language_info": {
   "codemirror_mode": {
    "name": "ipython",
    "version": 3
   },
   "file_extension": ".py",
   "mimetype": "text/x-python",
   "name": "python",
   "nbconvert_exporter": "python",
   "pygments_lexer": "ipython3",
   "version": "3.6.3"
  }
 },
 "nbformat": 4,
 "nbformat_minor": 2
}
