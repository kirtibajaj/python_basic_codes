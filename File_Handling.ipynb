{
 "cells": [
  {
   "cell_type": "code",
   "execution_count": 1,
   "metadata": {},
   "outputs": [
    {
     "name": "stdout",
     "output_type": "stream",
     "text": [
      "['_CHUNK_SIZE', '__class__', '__del__', '__delattr__', '__dict__', '__dir__', '__doc__', '__enter__', '__eq__', '__exit__', '__format__', '__ge__', '__getattribute__', '__getstate__', '__gt__', '__hash__', '__init__', '__init_subclass__', '__iter__', '__le__', '__lt__', '__ne__', '__new__', '__next__', '__reduce__', '__reduce_ex__', '__repr__', '__setattr__', '__sizeof__', '__str__', '__subclasshook__', '_checkClosed', '_checkReadable', '_checkSeekable', '_checkWritable', '_finalizing', 'buffer', 'close', 'closed', 'detach', 'encoding', 'errors', 'fileno', 'flush', 'isatty', 'line_buffering', 'mode', 'name', 'newlines', 'read', 'readable', 'readline', 'readlines', 'seek', 'seekable', 'tell', 'truncate', 'writable', 'write', 'writelines']\n"
     ]
    }
   ],
   "source": [
    "#open is used open files\n",
    "fp = open('Functions_In_Python.ipynb')\n",
    "print(dir(fp))"
   ]
  },
  {
   "cell_type": "code",
   "execution_count": 2,
   "metadata": {},
   "outputs": [
    {
     "data": {
      "text/plain": [
       "'r'"
      ]
     },
     "execution_count": 2,
     "metadata": {},
     "output_type": "execute_result"
    }
   ],
   "source": [
    "fp.mode"
   ]
  },
  {
   "cell_type": "code",
   "execution_count": 3,
   "metadata": {},
   "outputs": [
    {
     "data": {
      "text/plain": [
       "'Functions_In_Python.ipynb'"
      ]
     },
     "execution_count": 3,
     "metadata": {},
     "output_type": "execute_result"
    }
   ],
   "source": [
    "fp.name"
   ]
  },
  {
   "cell_type": "code",
   "execution_count": 4,
   "metadata": {},
   "outputs": [
    {
     "data": {
      "text/plain": [
       "0"
      ]
     },
     "execution_count": 4,
     "metadata": {},
     "output_type": "execute_result"
    }
   ],
   "source": [
    "fp.tell()"
   ]
  },
  {
   "cell_type": "code",
   "execution_count": 5,
   "metadata": {},
   "outputs": [
    {
     "data": {
      "text/plain": [
       "True"
      ]
     },
     "execution_count": 5,
     "metadata": {},
     "output_type": "execute_result"
    }
   ],
   "source": [
    "fp.readable()"
   ]
  },
  {
   "cell_type": "code",
   "execution_count": 6,
   "metadata": {},
   "outputs": [
    {
     "data": {
      "text/plain": [
       "False"
      ]
     },
     "execution_count": 6,
     "metadata": {},
     "output_type": "execute_result"
    }
   ],
   "source": [
    "fp.writable()"
   ]
  },
  {
   "cell_type": "code",
   "execution_count": 7,
   "metadata": {
    "collapsed": true
   },
   "outputs": [],
   "source": [
    "line1 = fp.readline()"
   ]
  },
  {
   "cell_type": "code",
   "execution_count": 8,
   "metadata": {},
   "outputs": [
    {
     "data": {
      "text/plain": [
       "'{\\n'"
      ]
     },
     "execution_count": 8,
     "metadata": {},
     "output_type": "execute_result"
    }
   ],
   "source": [
    "line1"
   ]
  },
  {
   "cell_type": "code",
   "execution_count": 9,
   "metadata": {},
   "outputs": [
    {
     "data": {
      "text/plain": [
       "2"
      ]
     },
     "execution_count": 9,
     "metadata": {},
     "output_type": "execute_result"
    }
   ],
   "source": [
    "fp.tell()"
   ]
  },
  {
   "cell_type": "code",
   "execution_count": 10,
   "metadata": {
    "collapsed": true
   },
   "outputs": [],
   "source": [
    "line2 = fp.readline()"
   ]
  },
  {
   "cell_type": "code",
   "execution_count": 11,
   "metadata": {},
   "outputs": [
    {
     "data": {
      "text/plain": [
       "' \"cells\": [\\n'"
      ]
     },
     "execution_count": 11,
     "metadata": {},
     "output_type": "execute_result"
    }
   ],
   "source": [
    "line2"
   ]
  },
  {
   "cell_type": "code",
   "execution_count": 12,
   "metadata": {
    "collapsed": true
   },
   "outputs": [],
   "source": [
    "fp.seek(0)\n",
    "file_data = fp.read() "
   ]
  },
  {
   "cell_type": "code",
   "execution_count": 13,
   "metadata": {
    "collapsed": true
   },
   "outputs": [],
   "source": [
    "fp.close()"
   ]
  },
  {
   "cell_type": "code",
   "execution_count": 14,
   "metadata": {},
   "outputs": [
    {
     "data": {
      "text/plain": [
       "'{\\n \"cells\": [\\n  {\\n   \"cell_type\": \"markdown\",\\n   \"metadata\": {},\\n   \"source\": [\\n    \"# Function\"\\n   ]\\n  },\\n  {\\n   \"cell_type\": \"markdown\",\\n   \"metadata\": {},\\n   \"source\": [\\n    \"group of statement to perform a specific task\"\\n   ]\\n  },\\n  {\\n   \"cell_type\": \"markdown\",\\n   \"metadata\": {},\\n   \"source\": [\\n    \"Why functions are not statement:\\\\n\",\\n    \"<br><br>\\\\n\",\\n    \"Reusability of code\\\\n\"\\n   ]\\n  },\\n  {\\n   \"cell_type\": \"markdown\",\\n   \"metadata\": {},\\n   \"source\": [\\n    \"How does a function works:\\\\n\",\\n    \"<br><br>\\\\n\",\\n    \"1.function definition<br>:-know what to do and how to do<br>\\\\n\",\\n    \"2.calling function<br>:-Repeat definition whenever needed<br>\\\\n\",\\n    \"3.return<br>:-Always get something when we call function<br>\"\\n   ]\\n  },\\n  {\\n   \"cell_type\": \"markdown\",\\n   \"metadata\": {},\\n   \"source\": [\\n    \"def fn_name(arg):<br>\\\\n\",\\n    \".......st1<br>\\\\n\",\\n    \".......st2<br>\\\\n\",\\n    \".......st3<br>\\\\n\",\\n    \"return\\\\n\"\\n   ]\\n  },\\n  {\\n   \"cell_type\": \"code\",\\n   \"execution_count\": 2,\\n   \"metadata\": {\\n    \"collapsed\": true\\n   },\\n   \"outputs\": [],\\n   \"source\": [\\n    \"def hello():\\\\n\",\\n    \"    print(\\\\\"Hello world\\\\\")\"\\n   ]\\n  },\\n  {\\n   \"cell_type\": \"code\",\\n   \"execution_count\": 4,\\n   \"metadata\": {},\\n   \"outputs\": [\\n    {\\n     \"name\": \"stdout\",\\n     \"output_type\": \"stream\",\\n     \"text\": [\\n      \"Hello world\\\\n\",\\n      \"None\\\\n\"\\n     ]\\n    }\\n   ],\\n   \"source\": [\\n    \"print(hello())\"\\n   ]\\n  },\\n  {\\n   \"cell_type\": \"code\",\\n   \"execution_count\": 7,\\n   \"metadata\": {\\n    \"collapsed\": true\\n   },\\n   \"outputs\": [],\\n   \"source\": [\\n    \"#function can return(exit status)\\\\n\",\\n    \"#0-:zero error\\\\n\",\\n    \"#1:-minor error\\\\n\",\\n    \"#-1:-major error\\\\n\"\\n   ]\\n  },\\n  {\\n   \"cell_type\": \"code\",\\n   \"execution_count\": 8,\\n   \"metadata\": {\\n    \"collapsed\": true\\n   },\\n   \"outputs\": [],\\n   \"source\": [\\n    \"#function can  also takes argument (info) to process\\\\n\",\\n    \"def hello(name):#formal arguments/parameters\\\\n\",\\n    \"    print(\\\\\"Hello world\\\\\")\\\\n\",\\n    \"    print(\\\\\"Welcome user,\\\\\",name)\\\\n\",\\n    \"    return True#Exit status\\\\n\",\\n    \"\\\\n\",\\n    \"    \"\\n   ]\\n  },\\n  {\\n   \"cell_type\": \"code\",\\n   \"execution_count\": 9,\\n   \"metadata\": {},\\n   \"outputs\": [\\n    {\\n     \"name\": \"stdout\",\\n     \"output_type\": \"stream\",\\n     \"text\": [\\n      \"Hello world\\\\n\",\\n      \"Welcome user, kirti\\\\n\",\\n      \"True\\\\n\"\\n     ]\\n    }\\n   ],\\n   \"source\": [\\n    \"print(hello(\\\\\"kirti\\\\\"))\"\\n   ]\\n  },\\n  {\\n   \"cell_type\": \"code\",\\n   \"execution_count\": 10,\\n   \"metadata\": {},\\n   \"outputs\": [\\n    {\\n     \"name\": \"stdout\",\\n     \"output_type\": \"stream\",\\n     \"text\": [\\n      \"Enter your name:kirti\\\\n\",\\n      \"Hello world\\\\n\",\\n      \"Welcome user, kirti\\\\n\",\\n      \"Function successfully\\\\n\"\\n     ]\\n    }\\n   ],\\n   \"source\": [\\n    \"if hello(input(\\\\\"Enter your name:\\\\\")):\\\\n\",\\n    \"    print(\\\\\"Function successfully\\\\\")\\\\n\",\\n    \"else:\\\\n\",\\n    \"    print(\\\\\"There is an error in function\\\\\")\"\\n   ]\\n  },\\n  {\\n   \"cell_type\": \"code\",\\n   \"execution_count\": 18,\\n   \"metadata\": {\\n    \"collapsed\": true\\n   },\\n   \"outputs\": [],\\n   \"source\": [\\n    \"import math\\\\n\",\\n    \"def prime(num):\\\\n\",\\n    \"    for i in range(2,round(math.sqrt(num)+1)):\\\\n\",\\n    \"        if num%i==0:\\\\n\",\\n    \"            return False\\\\n\",\\n    \"    return True\"\\n   ]\\n  },\\n  {\\n   \"cell_type\": \"code\",\\n   \"execution_count\": 22,\\n   \"metadata\": {},\\n   \"outputs\": [\\n    {\\n     \"name\": \"stdout\",\\n     \"output_type\": \"stream\",\\n     \"text\": [\\n      \"Enter a  number:21\\\\n\",\\n      \"False\\\\n\"\\n     ]\\n    }\\n   ],\\n   \"source\": [\\n    \"x=int(input(\\\\\"Enter a  number:\\\\\"))\\\\n\",\\n    \"print(prime(x))\"\\n   ]\\n  },\\n  {\\n   \"cell_type\": \"code\",\\n   \"execution_count\": 24,\\n   \"metadata\": {\\n    \"collapsed\": true\\n   },\\n   \"outputs\": [],\\n   \"source\": [\\n    \"def prime_range(start,end):\\\\n\",\\n    \"    for i in range(start,end+1):\\\\n\",\\n    \"        if prime(i):\\\\n\",\\n    \"            print(i,end=\\\\\" \\\\\")\\\\n\",\\n    \"    print()\"\\n   ]\\n  },\\n  {\\n   \"cell_type\": \"code\",\\n   \"execution_count\": 25,\\n   \"metadata\": {},\\n   \"outputs\": [\\n    {\\n     \"name\": \"stdout\",\\n     \"output_type\": \"stream\",\\n     \"text\": [\\n      \"Enter starting range:1\\\\n\",\\n      \"Enter ending range200\\\\n\",\\n      \"1 2 3 5 7 11 13 17 19 23 29 31 37 41 43 47 53 59 61 67 71 73 79 83 89 97 101 103 107 109 113 127 131 137 139 149 151 157 163 167 173 179 181 191 193 197 199 \\\\n\"\\n     ]\\n    }\\n   ],\\n   \"source\": [\\n    \"start=int(input(\\\\\"Enter starting range:\\\\\"))\\\\n\",\\n    \"end=int(input(\\\\\"Enter ending range:\\\\\"))\\\\n\",\\n    \"prime_range(start,end)\"\\n   ]\\n  },\\n  {\\n   \"cell_type\": \"code\",\\n   \"execution_count\": 29,\\n   \"metadata\": {},\\n   \"outputs\": [\\n    {\\n     \"name\": \"stdout\",\\n     \"output_type\": \"stream\",\\n     \"text\": [\\n      \"Enter a list1 2 3 4 5 6\\\\n\",\\n      \"[1, 2, 3, 4, 5, 6]\\\\n\"\\n     ]\\n    }\\n   ],\\n   \"source\": [\\n    \"l=map(int,input(\\\\\"Enter a list\\\\\").split(\\\\\" \\\\\"))\\\\n\",\\n    \"l1=list(l)\\\\n\",\\n    \"print(l1)\"\\n   ]\\n  },\\n  {\\n   \"cell_type\": \"code\",\\n   \"execution_count\": 7,\\n   \"metadata\": {\\n    \"collapsed\": true\\n   },\\n   \"outputs\": [],\\n   \"source\": [\\n    \"def last_func(pos,key=10,*args,**kwargs):\\\\n\",\\n    \"    \\\\\"\\\\\"\\\\\"I used to print all the arguments\\\\\"\\\\\"\\\\\"#doc-string\\\\n\",\\n    \"    print(\\\\\"Positional argument is : \\\\\",pos)\\\\n\",\\n    \"    print(\\\\\"Keyword Argument is : \\\\\",key)\\\\n\",\\n    \"    print(\\\\\"Here are your multiplae arguments as tuple:\\\\\")\\\\n\",\\n    \"    c = 0\\\\n\",\\n    \"    for value in args:\\\\n\",\\n    \"        c=c+1\\\\n\",\\n    \"        print(\\\\\"Args[{}] : {}\\\\\".format(c,value))\\\\n\",\\n    \"    print(\\\\\"Here are your arguments as dctionary:\\\\\")\\\\n\",\\n    \"    for key, value in kwargs.items():\\\\n\",\\n    \"        print(\\\\\"{}={}\\\\\".format(key,value))\\\\n\",\\n    \"    print(\\\\\"Thanks for using this function\\\\\")\"\\n   ]\\n  },\\n  {\\n   \"cell_type\": \"code\",\\n   \"execution_count\": 8,\\n   \"metadata\": {},\\n   \"outputs\": [\\n    {\\n     \"name\": \"stdout\",\\n     \"output_type\": \"stream\",\\n     \"text\": [\\n      \"I used to print all the arguments\\\\n\"\\n     ]\\n    }\\n   ],\\n   \"source\": [\\n    \"print(last_func.__doc__)\"\\n   ]\\n  },\\n  {\\n   \"cell_type\": \"code\",\\n   \"execution_count\": 13,\\n   \"metadata\": {},\\n   \"outputs\": [\\n    {\\n     \"name\": \"stdout\",\\n     \"output_type\": \"stream\",\\n     \"text\": [\\n      \"Positional argument is :  Kirti\\\\n\",\\n      \"Keyword Argument is :  1\\\\n\",\\n      \"Here are your multiplae arguments as tuple:\\\\n\",\\n      \"Args[1] : 2\\\\n\",\\n      \"Args[2] : 3\\\\n\",\\n      \"Args[3] : 4\\\\n\",\\n      \"Args[4] : 5\\\\n\",\\n      \"Args[5] : 6\\\\n\",\\n      \"Args[6] : 7\\\\n\",\\n      \"Args[7] : 8\\\\n\",\\n      \"Args[8] : 9\\\\n\",\\n      \"Here are your arguments as dctionary:\\\\n\",\\n      \"name=python\\\\n\",\\n      \"version=3\\\\n\",\\n      \"year=1991\\\\n\",\\n      \"Thanks for using this function\\\\n\"\\n     ]\\n    }\\n   ],\\n   \"source\": [\\n    \"last_func(\\\\\"Kirti\\\\\",1,2,3,4,5,6,7,8,9,name=\\'python\\',version=\\'3\\',year=\\'1991\\')\"\\n   ]\\n  },\\n  {\\n   \"cell_type\": \"code\",\\n   \"execution_count\": 39,\\n   \"metadata\": {\\n    \"collapsed\": true\\n   },\\n   \"outputs\": [],\\n   \"source\": [\\n    \"#global variable\\\\n\",\\n    \"x=5\"\\n   ]\\n  },\\n  {\\n   \"cell_type\": \"code\",\\n   \"execution_count\": 40,\\n   \"metadata\": {},\\n   \"outputs\": [\\n    {\\n     \"data\": {\\n      \"text/plain\": [\\n       \"5\"\\n      ]\\n     },\\n     \"execution_count\": 40,\\n     \"metadata\": {},\\n     \"output_type\": \"execute_result\"\\n    }\\n   ],\\n   \"source\": [\\n    \"x\\\\n\"\\n   ]\\n  },\\n  {\\n   \"cell_type\": \"code\",\\n   \"execution_count\": 41,\\n   \"metadata\": {\\n    \"collapsed\": true\\n   },\\n   \"outputs\": [],\\n   \"source\": [\\n    \"def func():\\\\n\",\\n    \"    global x\\\\n\",\\n    \"    x=x+5\\\\n\",\\n    \"    print(x)\"\\n   ]\\n  },\\n  {\\n   \"cell_type\": \"code\",\\n   \"execution_count\": 42,\\n   \"metadata\": {},\\n   \"outputs\": [\\n    {\\n     \"name\": \"stdout\",\\n     \"output_type\": \"stream\",\\n     \"text\": [\\n      \"10\\\\n\"\\n     ]\\n    }\\n   ],\\n   \"source\": [\\n    \"func()\"\\n   ]\\n  },\\n  {\\n   \"cell_type\": \"code\",\\n   \"execution_count\": 43,\\n   \"metadata\": {\\n    \"collapsed\": true\\n   },\\n   \"outputs\": [],\\n   \"source\": [\\n    \"def func():\\\\n\",\\n    \"    x=5\\\\n\",\\n    \"    x=x**2\\\\n\",\\n    \"    print(x)\"\\n   ]\\n  },\\n  {\\n   \"cell_type\": \"code\",\\n   \"execution_count\": 44,\\n   \"metadata\": {},\\n   \"outputs\": [\\n    {\\n     \"name\": \"stdout\",\\n     \"output_type\": \"stream\",\\n     \"text\": [\\n      \"10\\\\n\",\\n      \"25\\\\n\",\\n      \"10\\\\n\"\\n     ]\\n    }\\n   ],\\n   \"source\": [\\n    \"print(x)\\\\n\",\\n    \"func()\\\\n\",\\n    \"print(x)\"\\n   ]\\n  },\\n  {\\n   \"cell_type\": \"code\",\\n   \"execution_count\": 46,\\n   \"metadata\": {\\n    \"collapsed\": true\\n   },\\n   \"outputs\": [],\\n   \"source\": [\\n    \"#Global variable used in Reverse Process Call(RPC)\\\\n\",\\n    \"#Used for message passing\"\\n   ]\\n  },\\n  {\\n   \"cell_type\": \"code\",\\n   \"execution_count\": 47,\\n   \"metadata\": {\\n    \"collapsed\": true\\n   },\\n   \"outputs\": [],\\n   \"source\": [\\n    \"msg=\\'I am global msg\\'\"\\n   ]\\n  },\\n  {\\n   \"cell_type\": \"code\",\\n   \"execution_count\": 48,\\n   \"metadata\": {\\n    \"collapsed\": true\\n   },\\n   \"outputs\": [],\\n   \"source\": [\\n    \"def fun1():\\\\n\",\\n    \"    print(\\\\\"Global : \\\\\",msg)\"\\n   ]\\n  },\\n  {\\n   \"cell_type\": \"code\",\\n   \"execution_count\": 49,\\n   \"metadata\": {\\n    \"collapsed\": true\\n   },\\n   \"outputs\": [],\\n   \"source\": [\\n    \"def fun2():\\\\n\",\\n    \"    global msg\\\\n\",\\n    \"    print(\\\\\"Previous msg : \\\\\",msg)\\\\n\",\\n    \"    msg=input(\\\\\"New msg : \\\\\")\"\\n   ]\\n  },\\n  {\\n   \"cell_type\": \"code\",\\n   \"execution_count\": 50,\\n   \"metadata\": {},\\n   \"outputs\": [\\n    {\\n     \"name\": \"stdout\",\\n     \"output_type\": \"stream\",\\n     \"text\": [\\n      \"Global :  I am global msg\\\\n\",\\n      \"Previous msg :  I am global msg\\\\n\",\\n      \"New msg : i am boss\\\\n\",\\n      \"Global :  i am boss\\\\n\"\\n     ]\\n    }\\n   ],\\n   \"source\": [\\n    \"fun1()\\\\n\",\\n    \"fun2()\\\\n\",\\n    \"fun1()\"\\n   ]\\n  },\\n  {\\n   \"cell_type\": \"code\",\\n   \"execution_count\": 51,\\n   \"metadata\": {\\n    \"collapsed\": true\\n   },\\n   \"outputs\": [],\\n   \"source\": [\\n    \"def hello():\\\\n\",\\n    \"    print(\\\\\"Hello World\\\\\")\"\\n   ]\\n  },\\n  {\\n   \"cell_type\": \"code\",\\n   \"execution_count\": 52,\\n   \"metadata\": {\\n    \"collapsed\": true\\n   },\\n   \"outputs\": [],\\n   \"source\": [\\n    \"#Recursion \"\\n   ]\\n  },\\n  {\\n   \"cell_type\": \"code\",\\n   \"execution_count\": 53,\\n   \"metadata\": {\\n    \"collapsed\": true\\n   },\\n   \"outputs\": [],\\n   \"source\": [\\n    \"#in python,recursion stops after a certain item\"\\n   ]\\n  },\\n  {\\n   \"cell_type\": \"code\",\\n   \"execution_count\": 55,\\n   \"metadata\": {},\\n   \"outputs\": [\\n    {\\n     \"data\": {\\n      \"text/plain\": [\\n       \"2000\"\\n      ]\\n     },\\n     \"execution_count\": 55,\\n     \"metadata\": {},\\n     \"output_type\": \"execute_result\"\\n    }\\n   ],\\n   \"source\": [\\n    \"import sys\\\\n\",\\n    \"sys.getrecursionlimit()\"\\n   ]\\n  },\\n  {\\n   \"cell_type\": \"code\",\\n   \"execution_count\": 57,\\n   \"metadata\": {\\n    \"collapsed\": true\\n   },\\n   \"outputs\": [],\\n   \"source\": [\\n    \"sys.setrecursionlimit(5000)\"\\n   ]\\n  },\\n  {\\n   \"cell_type\": \"code\",\\n   \"execution_count\": 3,\\n   \"metadata\": {\\n    \"collapsed\": true\\n   },\\n   \"outputs\": [],\\n   \"source\": [\\n    \"def hello():\\\\n\",\\n    \"    print(\\\\\"Hello World\\\\\")\\\\n\",\\n    \"    if input(\\\\\"Press a key to continue:\\\\\"):\\\\n\",\\n    \"        hello()\\\\n\",\\n    \"    \\\\n\",\\n    \"    \"\\n   ]\\n  },\\n  {\\n   \"cell_type\": \"code\",\\n   \"execution_count\": 4,\\n   \"metadata\": {},\\n   \"outputs\": [\\n    {\\n     \"name\": \"stdout\",\\n     \"output_type\": \"stream\",\\n     \"text\": [\\n      \"Hello World\\\\n\",\\n      \"Press a key to continue:drt\\\\n\",\\n      \"Hello World\\\\n\",\\n      \"Press a key to continue:efregt\\\\n\",\\n      \"Hello World\\\\n\",\\n      \"Press a key to continue:rgt\\\\n\",\\n      \"Hello World\\\\n\",\\n      \"Press a key to continue:ergthy\\\\n\",\\n      \"Hello World\\\\n\",\\n      \"Press a key to continue:fgh\\\\n\",\\n      \"Hello World\\\\n\",\\n      \"Press a key to continue:rtyt\\\\n\",\\n      \"Hello World\\\\n\",\\n      \"Press a key to continue:ddg\\\\n\",\\n      \"Hello World\\\\n\",\\n      \"Press a key to continue:\\\\n\"\\n     ]\\n    }\\n   ],\\n   \"source\": [\\n    \"hello()\"\\n   ]\\n  },\\n  {\\n   \"cell_type\": \"code\",\\n   \"execution_count\": 5,\\n   \"metadata\": {\\n    \"collapsed\": true\\n   },\\n   \"outputs\": [],\\n   \"source\": [\\n    \"def fact(num):\\\\n\",\\n    \"    if num==1:\\\\n\",\\n    \"        return 1\\\\n\",\\n    \"    else:\\\\n\",\\n    \"        return num*fact(num-1)\"\\n   ]\\n  },\\n  {\\n   \"cell_type\": \"code\",\\n   \"execution_count\": 6,\\n   \"metadata\": {},\\n   \"outputs\": [\\n    {\\n     \"data\": {\\n      \"text/plain\": [\\n       \"120\"\\n      ]\\n     },\\n     \"execution_count\": 6,\\n     \"metadata\": {},\\n     \"output_type\": \"execute_result\"\\n    }\\n   ],\\n   \"source\": [\\n    \"fact(5)\"\\n   ]\\n  },\\n  {\\n   \"cell_type\": \"code\",\\n   \"execution_count\": 3,\\n   \"metadata\": {\\n    \"collapsed\": true\\n   },\\n   \"outputs\": [],\\n   \"source\": [\\n    \"c=1\\\\n\",\\n    \"def prime(num):\\\\n\",\\n    \"    global c\\\\n\",\\n    \"    c=c+1\\\\n\",\\n    \"    import math\\\\n\",\\n    \"    if c<=round(math.sqrt(num)):\\\\n\",\\n    \"        if num%c==0:\\\\n\",\\n    \"            return False\\\\n\",\\n    \"    else:\\\\n\",\\n    \"        return True\\\\n\",\\n    \"    return prime(num)\\\\n\",\\n    \"        \"\\n   ]\\n  },\\n  {\\n   \"cell_type\": \"code\",\\n   \"execution_count\": 5,\\n   \"metadata\": {},\\n   \"outputs\": [\\n    {\\n     \"name\": \"stdout\",\\n     \"output_type\": \"stream\",\\n     \"text\": [\\n      \"Enter a number:123\\\\n\"\\n     ]\\n    },\\n    {\\n     \"data\": {\\n      \"text/plain\": [\\n       \"False\"\\n      ]\\n     },\\n     \"execution_count\": 5,\\n     \"metadata\": {},\\n     \"output_type\": \"execute_result\"\\n    }\\n   ],\\n   \"source\": [\\n    \"prime(int(input(\\\\\"Enter a number:\\\\\")))\"\\n   ]\\n  },\\n  {\\n   \"cell_type\": \"markdown\",\\n   \"metadata\": {},\\n   \"source\": [\\n    \"MAgic Fnctions in python<br>\\\\n\",\\n    \"lambda<br>\\\\n\",\\n    \"map<br>\\\\n\",\\n    \"filter <br>\\\\n\",\\n    \"reduce<br>\\\\n\"\\n   ]\\n  },\\n  {\\n   \"cell_type\": \"code\",\\n   \"execution_count\": 6,\\n   \"metadata\": {\\n    \"collapsed\": true\\n   },\\n   \"outputs\": [],\\n   \"source\": [\\n    \"#Lambda :Anonymous Function(Inline function)\"\\n   ]\\n  },\\n  {\\n   \"cell_type\": \"code\",\\n   \"execution_count\": 7,\\n   \"metadata\": {\\n    \"collapsed\": true\\n   },\\n   \"outputs\": [],\\n   \"source\": [\\n    \"add =lambda x,y:x+y\"\\n   ]\\n  },\\n  {\\n   \"cell_type\": \"code\",\\n   \"execution_count\": 9,\\n   \"metadata\": {},\\n   \"outputs\": [\\n    {\\n     \"data\": {\\n      \"text/plain\": [\\n       \"5\"\\n      ]\\n     },\\n     \"execution_count\": 9,\\n     \"metadata\": {},\\n     \"output_type\": \"execute_result\"\\n    }\\n   ],\\n   \"source\": [\\n    \"add(2,3)\"\\n   ]\\n  },\\n  {\\n   \"cell_type\": \"code\",\\n   \"execution_count\": null,\\n   \"metadata\": {},\\n   \"outputs\": [],\\n   \"source\": []\\n  },\\n  {\\n   \"cell_type\": \"code\",\\n   \"execution_count\": null,\\n   \"metadata\": {\\n    \"collapsed\": true\\n   },\\n   \"outputs\": [],\\n   \"source\": []\\n  }\\n ],\\n \"metadata\": {\\n  \"kernelspec\": {\\n   \"display_name\": \"Python 3\",\\n   \"language\": \"python\",\\n   \"name\": \"python3\"\\n  },\\n  \"language_info\": {\\n   \"codemirror_mode\": {\\n    \"name\": \"ipython\",\\n    \"version\": 3\\n   },\\n   \"file_extension\": \".py\",\\n   \"mimetype\": \"text/x-python\",\\n   \"name\": \"python\",\\n   \"nbconvert_exporter\": \"python\",\\n   \"pygments_lexer\": \"ipython3\",\\n   \"version\": \"3.6.3\"\\n  }\\n },\\n \"nbformat\": 4,\\n \"nbformat_minor\": 2\\n}\\n'"
      ]
     },
     "execution_count": 14,
     "metadata": {},
     "output_type": "execute_result"
    }
   ],
   "source": [
    "file_data"
   ]
  },
  {
   "cell_type": "code",
   "execution_count": null,
   "metadata": {
    "collapsed": true
   },
   "outputs": [],
   "source": []
  }
 ],
 "metadata": {
  "kernelspec": {
   "display_name": "Python 3",
   "language": "python",
   "name": "python3"
  },
  "language_info": {
   "codemirror_mode": {
    "name": "ipython",
    "version": 3
   },
   "file_extension": ".py",
   "mimetype": "text/x-python",
   "name": "python",
   "nbconvert_exporter": "python",
   "pygments_lexer": "ipython3",
   "version": "3.6.3"
  }
 },
 "nbformat": 4,
 "nbformat_minor": 2
}
