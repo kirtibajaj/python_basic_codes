{
 "cells": [
  {
   "cell_type": "code",
   "execution_count": 19,
   "metadata": {},
   "outputs": [
    {
     "name": "stdout",
     "output_type": "stream",
     "text": [
      "Enter no of observation  :  1000\n",
      "                                   Interval  ||  Frequency  ||  fx                                  \n",
      "                                      1-10          98       539.0\n",
      "                                     10-19          76      1102.0\n",
      "                                     19-28          78      1833.0\n",
      "                                     28-37          99      3217.5\n",
      "                                     37-46          96      3984.0\n",
      "                                     46-55          96      4848.0\n",
      "                                     55-64          89      5295.5\n",
      "                                     64-73         103      7055.5\n",
      "                                     73-82          87      6742.5\n",
      "                                     82-91          78      6747.0\n",
      "                                    91-100          86      8213.0\n",
      "Mean is :  49.577\n"
     ]
    }
   ],
   "source": [
    "from random import randint\n",
    "import math\n",
    "n=int(input(\"Enter no of observation  :  \"))\n",
    "l=[];d={}\n",
    "for i in range(n):\n",
    "    l.append(randint(1,100))\n",
    "class_interval=1+3.322*math.log(n,10)\n",
    "s=list(set(l))\n",
    "size=round((max(s)-min(s))/class_interval)\n",
    "i=min(s)\n",
    "j=min(s)+size\n",
    "k=0\n",
    "fx=[]\n",
    "while k<class_interval:\n",
    "    c=0\n",
    "    x=i\n",
    "    while i<j:\n",
    "        c=c+(l.count(i))\n",
    "        i+=1\n",
    "    d[\"{}-{}\".format(x,j)]=c\n",
    "    fx.append((x+((j-x)/2))*c)\n",
    "    i,j=j,j+size\n",
    "    k+=1\n",
    "f=iter(fx)\n",
    "print(\"  Interval  ||  Frequency  ||  fx\".center(100))\n",
    "for i,j in d.items():\n",
    "    print((\"{}\".format(i)).rjust(42),end=\"\")\n",
    "    print((\"{}\".format(j)).rjust(12),end=\"\")\n",
    "    print((\"{}\".format(next(f))).rjust(12))\n",
    "print(\"Mean is : \",sum(fx)/n)"
   ]
  },
  {
   "cell_type": "code",
   "execution_count": null,
   "metadata": {},
   "outputs": [],
   "source": [
    "n=int(input(\"No of observation\"))\n",
    "l=[]\n",
    "for i in range(n):\n",
    "    d=[]\n",
    "    d.append(int(input(\"Lower Range : \")))\n",
    "    d.append(int(input(\"Upper Range : \")))\n",
    "    d.append(int(input(\"Frequency : \")))\n",
    "    d.append(((d[1]-d[0])/2)+d[0])\n",
    "    l.append(d)\n",
    "print(l)"
   ]
  },
  {
   "cell_type": "code",
   "execution_count": null,
   "metadata": {
    "collapsed": true
   },
   "outputs": [],
   "source": []
  }
 ],
 "metadata": {
  "kernelspec": {
   "display_name": "Python 3",
   "language": "python",
   "name": "python3"
  },
  "language_info": {
   "codemirror_mode": {
    "name": "ipython",
    "version": 3
   },
   "file_extension": ".py",
   "mimetype": "text/x-python",
   "name": "python",
   "nbconvert_exporter": "python",
   "pygments_lexer": "ipython3",
   "version": "3.6.3"
  }
 },
 "nbformat": 4,
 "nbformat_minor": 2
}
