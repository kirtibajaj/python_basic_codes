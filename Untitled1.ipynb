{
 "cells": [
  {
   "cell_type": "code",
   "execution_count": 6,
   "metadata": {},
   "outputs": [
    {
     "ename": "SyntaxError",
     "evalue": "invalid syntax (<ipython-input-6-a308030fad08>, line 1)",
     "output_type": "error",
     "traceback": [
      "\u001b[1;36m  File \u001b[1;32m\"<ipython-input-6-a308030fad08>\"\u001b[1;36m, line \u001b[1;32m1\u001b[0m\n\u001b[1;33m    l=[filter(x=lambda x: True if x%2==0,x*x for x in range(1,100))]\u001b[0m\n\u001b[1;37m                                        ^\u001b[0m\n\u001b[1;31mSyntaxError\u001b[0m\u001b[1;31m:\u001b[0m invalid syntax\n"
     ]
    }
   ],
   "source": [
    "l=[filter(x=lambda x: True if x%2==0,x*x for x in range(1,100))]"
   ]
  },
  {
   "cell_type": "code",
   "execution_count": 4,
   "metadata": {},
   "outputs": [
    {
     "data": {
      "text/plain": [
       "[1,\n",
       " 4,\n",
       " 9,\n",
       " 16,\n",
       " 25,\n",
       " 36,\n",
       " 49,\n",
       " 64,\n",
       " 81,\n",
       " 100,\n",
       " 121,\n",
       " 144,\n",
       " 169,\n",
       " 196,\n",
       " 225,\n",
       " 256,\n",
       " 289,\n",
       " 324,\n",
       " 361,\n",
       " 400,\n",
       " 441,\n",
       " 484,\n",
       " 529,\n",
       " 576,\n",
       " 625,\n",
       " 676,\n",
       " 729,\n",
       " 784,\n",
       " 841,\n",
       " 900,\n",
       " 961,\n",
       " 1024,\n",
       " 1089,\n",
       " 1156,\n",
       " 1225,\n",
       " 1296,\n",
       " 1369,\n",
       " 1444,\n",
       " 1521,\n",
       " 1600,\n",
       " 1681,\n",
       " 1764,\n",
       " 1849,\n",
       " 1936,\n",
       " 2025,\n",
       " 2116,\n",
       " 2209,\n",
       " 2304,\n",
       " 2401,\n",
       " 2500,\n",
       " 2601,\n",
       " 2704,\n",
       " 2809,\n",
       " 2916,\n",
       " 3025,\n",
       " 3136,\n",
       " 3249,\n",
       " 3364,\n",
       " 3481,\n",
       " 3600,\n",
       " 3721,\n",
       " 3844,\n",
       " 3969,\n",
       " 4096,\n",
       " 4225,\n",
       " 4356,\n",
       " 4489,\n",
       " 4624,\n",
       " 4761,\n",
       " 4900,\n",
       " 5041,\n",
       " 5184,\n",
       " 5329,\n",
       " 5476,\n",
       " 5625,\n",
       " 5776,\n",
       " 5929,\n",
       " 6084,\n",
       " 6241,\n",
       " 6400,\n",
       " 6561,\n",
       " 6724,\n",
       " 6889,\n",
       " 7056,\n",
       " 7225,\n",
       " 7396,\n",
       " 7569,\n",
       " 7744,\n",
       " 7921,\n",
       " 8100,\n",
       " 8281,\n",
       " 8464,\n",
       " 8649,\n",
       " 8836,\n",
       " 9025,\n",
       " 9216,\n",
       " 9409,\n",
       " 9604,\n",
       " 9801]"
      ]
     },
     "execution_count": 4,
     "metadata": {},
     "output_type": "execute_result"
    }
   ],
   "source": [
    "l"
   ]
  },
  {
   "cell_type": "code",
   "execution_count": 12,
   "metadata": {
    "collapsed": true
   },
   "outputs": [],
   "source": [
    "def iseven(num):\n",
    "    return(num%2==0)\n",
    "def sq(num):\n",
    "    return num*num"
   ]
  },
  {
   "cell_type": "code",
   "execution_count": 15,
   "metadata": {
    "collapsed": true
   },
   "outputs": [],
   "source": [
    "l=list(map(sq,list(filter(iseven,range(0,100)))))"
   ]
  },
  {
   "cell_type": "code",
   "execution_count": 16,
   "metadata": {},
   "outputs": [
    {
     "data": {
      "text/plain": [
       "[0,\n",
       " 4,\n",
       " 16,\n",
       " 36,\n",
       " 64,\n",
       " 100,\n",
       " 144,\n",
       " 196,\n",
       " 256,\n",
       " 324,\n",
       " 400,\n",
       " 484,\n",
       " 576,\n",
       " 676,\n",
       " 784,\n",
       " 900,\n",
       " 1024,\n",
       " 1156,\n",
       " 1296,\n",
       " 1444,\n",
       " 1600,\n",
       " 1764,\n",
       " 1936,\n",
       " 2116,\n",
       " 2304,\n",
       " 2500,\n",
       " 2704,\n",
       " 2916,\n",
       " 3136,\n",
       " 3364,\n",
       " 3600,\n",
       " 3844,\n",
       " 4096,\n",
       " 4356,\n",
       " 4624,\n",
       " 4900,\n",
       " 5184,\n",
       " 5476,\n",
       " 5776,\n",
       " 6084,\n",
       " 6400,\n",
       " 6724,\n",
       " 7056,\n",
       " 7396,\n",
       " 7744,\n",
       " 8100,\n",
       " 8464,\n",
       " 8836,\n",
       " 9216,\n",
       " 9604]"
      ]
     },
     "execution_count": 16,
     "metadata": {},
     "output_type": "execute_result"
    }
   ],
   "source": [
    "l"
   ]
  },
  {
   "cell_type": "code",
   "execution_count": 30,
   "metadata": {
    "collapsed": true
   },
   "outputs": [],
   "source": [
    "l=[]\n",
    "for i in range(1,100):\n",
    "    for j in range(i,100):\n",
    "        for k in range(j,100):\n",
    "            if i*i+j*j==k*k :\n",
    "                l.append([i,j,k])"
   ]
  },
  {
   "cell_type": "code",
   "execution_count": null,
   "metadata": {
    "collapsed": true
   },
   "outputs": [],
   "source": []
  },
  {
   "cell_type": "code",
   "execution_count": 31,
   "metadata": {},
   "outputs": [
    {
     "data": {
      "text/plain": [
       "[[3, 4, 5],\n",
       " [5, 12, 13],\n",
       " [6, 8, 10],\n",
       " [7, 24, 25],\n",
       " [8, 15, 17],\n",
       " [9, 12, 15],\n",
       " [9, 40, 41],\n",
       " [10, 24, 26],\n",
       " [11, 60, 61],\n",
       " [12, 16, 20],\n",
       " [12, 35, 37],\n",
       " [13, 84, 85],\n",
       " [14, 48, 50],\n",
       " [15, 20, 25],\n",
       " [15, 36, 39],\n",
       " [16, 30, 34],\n",
       " [16, 63, 65],\n",
       " [18, 24, 30],\n",
       " [18, 80, 82],\n",
       " [20, 21, 29],\n",
       " [20, 48, 52],\n",
       " [21, 28, 35],\n",
       " [21, 72, 75],\n",
       " [24, 32, 40],\n",
       " [24, 45, 51],\n",
       " [24, 70, 74],\n",
       " [25, 60, 65],\n",
       " [27, 36, 45],\n",
       " [28, 45, 53],\n",
       " [30, 40, 50],\n",
       " [30, 72, 78],\n",
       " [32, 60, 68],\n",
       " [33, 44, 55],\n",
       " [33, 56, 65],\n",
       " [35, 84, 91],\n",
       " [36, 48, 60],\n",
       " [36, 77, 85],\n",
       " [39, 52, 65],\n",
       " [39, 80, 89],\n",
       " [40, 42, 58],\n",
       " [40, 75, 85],\n",
       " [42, 56, 70],\n",
       " [45, 60, 75],\n",
       " [48, 55, 73],\n",
       " [48, 64, 80],\n",
       " [51, 68, 85],\n",
       " [54, 72, 90],\n",
       " [57, 76, 95],\n",
       " [60, 63, 87],\n",
       " [65, 72, 97]]"
      ]
     },
     "execution_count": 31,
     "metadata": {},
     "output_type": "execute_result"
    }
   ],
   "source": [
    "l"
   ]
  },
  {
   "cell_type": "code",
   "execution_count": 25,
   "metadata": {
    "collapsed": true
   },
   "outputs": [],
   "source": [
    "l=[i for i in range(1,100)]"
   ]
  },
  {
   "cell_type": "code",
   "execution_count": 29,
   "metadata": {
    "scrolled": true
   },
   "outputs": [
    {
     "data": {
      "text/plain": [
       "[[3, 4, 5],\n",
       " [4, 3, 5],\n",
       " [5, 12, 13],\n",
       " [6, 8, 10],\n",
       " [7, 24, 25],\n",
       " [8, 6, 10],\n",
       " [8, 15, 17],\n",
       " [9, 12, 15],\n",
       " [9, 40, 41],\n",
       " [10, 24, 26],\n",
       " [11, 60, 61],\n",
       " [12, 5, 13],\n",
       " [12, 9, 15],\n",
       " [12, 16, 20],\n",
       " [12, 35, 37],\n",
       " [13, 84, 85],\n",
       " [14, 48, 50],\n",
       " [15, 8, 17],\n",
       " [15, 20, 25],\n",
       " [15, 36, 39],\n",
       " [16, 12, 20],\n",
       " [16, 30, 34],\n",
       " [16, 63, 65],\n",
       " [18, 24, 30],\n",
       " [18, 80, 82],\n",
       " [20, 15, 25],\n",
       " [20, 21, 29],\n",
       " [20, 48, 52],\n",
       " [21, 20, 29],\n",
       " [21, 28, 35],\n",
       " [21, 72, 75],\n",
       " [24, 7, 25],\n",
       " [24, 10, 26],\n",
       " [24, 18, 30],\n",
       " [24, 32, 40],\n",
       " [24, 45, 51],\n",
       " [24, 70, 74],\n",
       " [25, 60, 65],\n",
       " [27, 36, 45],\n",
       " [28, 21, 35],\n",
       " [28, 45, 53],\n",
       " [30, 16, 34],\n",
       " [30, 40, 50],\n",
       " [30, 72, 78],\n",
       " [32, 24, 40],\n",
       " [32, 60, 68],\n",
       " [33, 44, 55],\n",
       " [33, 56, 65],\n",
       " [35, 12, 37],\n",
       " [35, 84, 91],\n",
       " [36, 15, 39],\n",
       " [36, 27, 45],\n",
       " [36, 48, 60],\n",
       " [36, 77, 85],\n",
       " [39, 52, 65],\n",
       " [39, 80, 89],\n",
       " [40, 9, 41],\n",
       " [40, 30, 50],\n",
       " [40, 42, 58],\n",
       " [40, 75, 85],\n",
       " [42, 40, 58],\n",
       " [42, 56, 70],\n",
       " [44, 33, 55],\n",
       " [45, 24, 51],\n",
       " [45, 28, 53],\n",
       " [45, 60, 75],\n",
       " [48, 14, 50],\n",
       " [48, 20, 52],\n",
       " [48, 36, 60],\n",
       " [48, 55, 73],\n",
       " [48, 64, 80],\n",
       " [51, 68, 85],\n",
       " [52, 39, 65],\n",
       " [54, 72, 90],\n",
       " [55, 48, 73],\n",
       " [56, 33, 65],\n",
       " [56, 42, 70],\n",
       " [57, 76, 95],\n",
       " [60, 11, 61],\n",
       " [60, 25, 65],\n",
       " [60, 32, 68],\n",
       " [60, 45, 75],\n",
       " [60, 63, 87],\n",
       " [63, 16, 65],\n",
       " [63, 60, 87],\n",
       " [64, 48, 80],\n",
       " [65, 72, 97],\n",
       " [68, 51, 85],\n",
       " [70, 24, 74],\n",
       " [72, 21, 75],\n",
       " [72, 30, 78],\n",
       " [72, 54, 90],\n",
       " [72, 65, 97],\n",
       " [75, 40, 85],\n",
       " [76, 57, 95],\n",
       " [77, 36, 85],\n",
       " [80, 18, 82],\n",
       " [80, 39, 89],\n",
       " [84, 13, 85],\n",
       " [84, 35, 91]]"
      ]
     },
     "execution_count": 29,
     "metadata": {},
     "output_type": "execute_result"
    }
   ],
   "source": [
    "l"
   ]
  },
  {
   "cell_type": "code",
   "execution_count": null,
   "metadata": {
    "collapsed": true
   },
   "outputs": [],
   "source": [
    "l1=list(filter(lambda x,y,z:True if i*i+j*j==k*k ))"
   ]
  },
  {
   "cell_type": "code",
   "execution_count": 33,
   "metadata": {
    "collapsed": true
   },
   "outputs": [],
   "source": [
    "x=[[0 for i in range(3)]for j in range(4)]"
   ]
  },
  {
   "cell_type": "code",
   "execution_count": 6,
   "metadata": {
    "collapsed": true
   },
   "outputs": [],
   "source": [
    "d={1:2,3:4,1:3,5:6,7:8,9:10}"
   ]
  },
  {
   "cell_type": "code",
   "execution_count": 12,
   "metadata": {},
   "outputs": [
    {
     "ename": "TypeError",
     "evalue": "set expected at most 1 arguments, got 5",
     "output_type": "error",
     "traceback": [
      "\u001b[1;31m---------------------------------------------------------------------------\u001b[0m",
      "\u001b[1;31mTypeError\u001b[0m                                 Traceback (most recent call last)",
      "\u001b[1;32m<ipython-input-12-9c6e177b1a62>\u001b[0m in \u001b[0;36m<module>\u001b[1;34m()\u001b[0m\n\u001b[1;32m----> 1\u001b[1;33m \u001b[0mx\u001b[0m\u001b[1;33m=\u001b[0m\u001b[0mset\u001b[0m\u001b[1;33m(\u001b[0m\u001b[1;33m*\u001b[0m\u001b[0md\u001b[0m\u001b[1;33m)\u001b[0m\u001b[1;33m\u001b[0m\u001b[0m\n\u001b[0m",
      "\u001b[1;31mTypeError\u001b[0m: set expected at most 1 arguments, got 5"
     ]
    }
   ],
   "source": [
    "x=set(*d)"
   ]
  },
  {
   "cell_type": "code",
   "execution_count": 11,
   "metadata": {},
   "outputs": [
    {
     "ename": "SyntaxError",
     "evalue": "can't use starred expression here (<ipython-input-11-393fc88178b2>, line 2)",
     "output_type": "error",
     "traceback": [
      "\u001b[1;36m  File \u001b[1;32m\"<ipython-input-11-393fc88178b2>\"\u001b[1;36m, line \u001b[1;32m2\u001b[0m\n\u001b[1;33m    *D\u001b[0m\n\u001b[1;37m      ^\u001b[0m\n\u001b[1;31mSyntaxError\u001b[0m\u001b[1;31m:\u001b[0m can't use starred expression here\n"
     ]
    }
   ],
   "source": []
  },
  {
   "cell_type": "code",
   "execution_count": 32,
   "metadata": {
    "collapsed": true
   },
   "outputs": [],
   "source": [
    "l=[(1,2),(1,4),(1,0),(2,3),(3,7),(3,4),(2,7),(3,1)]\n",
    "l1=[]\n",
    "for i in range(len(l)):\n",
    "    for j in range(len(l)):\n",
    "        if l[i][1]==l[j][0]:\n",
    "            if (l[i][0],l[j][1]) not in l:\n",
    "                l.append((l[i][0],l[j][1]))\n",
    "                l1.append((l[i][0],l[j][1]))\n",
    "d={}\n",
    "for i in range(len(l)):\n",
    "    if l[i][0] in d:\n",
    "        d[l[i][0]].append(l[i][1])\n",
    "    else:\n",
    "        d[l[i][0]]=[l[i][1]]               \n",
    "                "
   ]
  },
  {
   "cell_type": "code",
   "execution_count": 33,
   "metadata": {},
   "outputs": [
    {
     "data": {
      "text/plain": [
       "{1: [2, 4, 0, 3, 7], 2: [3, 7, 4, 1], 3: [7, 4, 1, 2, 0, 3]}"
      ]
     },
     "execution_count": 33,
     "metadata": {},
     "output_type": "execute_result"
    }
   ],
   "source": [
    "d"
   ]
  },
  {
   "cell_type": "code",
   "execution_count": 34,
   "metadata": {},
   "outputs": [
    {
     "data": {
      "text/plain": [
       "[(1, 3), (1, 7), (2, 4), (2, 1), (3, 2), (3, 0), (3, 3)]"
      ]
     },
     "execution_count": 34,
     "metadata": {},
     "output_type": "execute_result"
    }
   ],
   "source": [
    "l1"
   ]
  },
  {
   "cell_type": "code",
   "execution_count": 3,
   "metadata": {},
   "outputs": [],
   "source": [
    "\n"
   ]
  },
  {
   "cell_type": "code",
   "execution_count": 7,
   "metadata": {},
   "outputs": [
    {
     "data": {
      "text/plain": [
       "[[[6, 6, 6], [6, 6, 14]], [[8, 12, 15], [5, 7, 9]]]"
      ]
     },
     "execution_count": 7,
     "metadata": {},
     "output_type": "execute_result"
    }
   ],
   "source": [
    "l1=[[[1,2,3],[4,5,6]],[[7,8,9],[1,2,3]]]\n",
    "l2=[[[5,4,3],[2,1,8]],[[1,4,6],[4,5,6]]]\n",
    "r=[]\n",
    "for row1 in range(2):\n",
    "    r1=[]\n",
    "    for inner_row in range(2):\n",
    "        t=[]\n",
    "        for col in range(3):\n",
    "            x=l1[row1][inner_row][col]+l2[row1][inner_row][col]\n",
    "            t.append(x)\n",
    "        r1.append(t)\n",
    "    r.append(r1)\n",
    "r "
   ]
  },
  {
   "cell_type": "code",
   "execution_count": 6,
   "metadata": {},
   "outputs": [
    {
     "data": {
      "text/plain": [
       "[[[6, 6, 6], [6, 6, 14]], [[8, 12, 15], [5, 7, 9]]]"
      ]
     },
     "execution_count": 6,
     "metadata": {},
     "output_type": "execute_result"
    }
   ],
   "source": []
  },
  {
   "cell_type": "code",
   "execution_count": null,
   "metadata": {
    "collapsed": true
   },
   "outputs": [],
   "source": []
  }
 ],
 "metadata": {
  "kernelspec": {
   "display_name": "Python 3",
   "language": "python",
   "name": "python3"
  },
  "language_info": {
   "codemirror_mode": {
    "name": "ipython",
    "version": 3
   },
   "file_extension": ".py",
   "mimetype": "text/x-python",
   "name": "python",
   "nbconvert_exporter": "python",
   "pygments_lexer": "ipython3",
   "version": "3.6.3"
  }
 },
 "nbformat": 4,
 "nbformat_minor": 2
}
